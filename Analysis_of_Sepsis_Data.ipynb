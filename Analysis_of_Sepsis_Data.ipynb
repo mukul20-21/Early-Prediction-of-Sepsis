{
 "cells": [
  {
   "cell_type": "markdown",
   "metadata": {},
   "source": [
    "## Early prediction of sepsis from clinical data."
   ]
  },
  {
   "cell_type": "code",
   "execution_count": 1,
   "metadata": {},
   "outputs": [],
   "source": [
    "import numpy as np\n",
    "import pandas as pd\n",
    "import matplotlib.pyplot as plt\n",
    "import time\n",
    "import csv\n",
    "from sklearn.metrics import accuracy_score\n",
    "import seaborn as sns\n",
    "import pylab\n",
    "from sklearn import neighbors\n",
    "from sklearn.model_selection import train_test_split\n",
    "from sklearn.neighbors import KNeighborsClassifier\n",
    "#from sklearn.impute import KNNImputer\n",
    "#from fancyimpute import KNN\n",
    "#import statsmodels.api as sm\n",
    "#from patsy import dmatrices\n",
    "from statsmodels.imputation.mice import MICEData as md\n",
    "from sklearn.experimental import enable_iterative_imputer\n",
    "from sklearn.impute import IterativeImputer\n",
    "\n",
    "#from fancyimpute import MICE as MICE\n",
    "# from sklearn.impute import IterativeImputer"
   ]
  },
  {
   "cell_type": "markdown",
   "metadata": {},
   "source": [
    "## Problem Statement:\n",
    "\n",
    "**The early prediction of sepsis is potentially life-saving, and we challenge participants to predict sepsis 6 hours before the clinical prediction of sepsis. Conversely, the late prediction of sepsis is potentially life-threatening, and predicting sepsis in non-sepsis patients (or predicting sepsis very early in sepsis patients) consumes limited hospital resources. For the challenge, we designed a utility function that rewards early predictions and penalizes late predictions as well as false alarms.**"
   ]
  },
  {
   "cell_type": "markdown",
   "metadata": {},
   "source": [
    "**Load of complete folder**"
   ]
  },
  {
   "cell_type": "code",
   "execution_count": 2,
   "metadata": {},
   "outputs": [],
   "source": [
    "from os import listdir\n",
    "a_traincsv = listdir('training')"
   ]
  },
  {
   "cell_type": "markdown",
   "metadata": {},
   "source": [
    "**Adding additional patient_id & time in dataset and combine overall patient.psv file in one .csv file.**  "
   ]
  },
  {
   "cell_type": "code",
   "execution_count": 3,
   "metadata": {},
   "outputs": [],
   "source": [
    "with open('train_patient.csv', 'w') as csvoutput:\n",
    "  writer = csv.writer(csvoutput, lineterminator='\\n')\n",
    "\n",
    "  for ind, csv_name in enumerate(a_traincsv):\n",
    "    with open('training/'+ csv_name,'r') as csvinput:\n",
    "      reader = csv.reader(csvinput, delimiter='|')\n",
    "      all = []\n",
    "      if ind ==0 :\n",
    "        row = next(reader)\n",
    "        row.append('Patient_id')\n",
    "        row.append('time')\n",
    "        all.append(row)\n",
    "      else:\n",
    "        row = next(reader)\n",
    "\n",
    "      for i,row in enumerate(reader):\n",
    "        row.append(ind)\n",
    "        row.append(i)\n",
    "        all.append(row)\n",
    "      writer.writerows(all)"
   ]
  },
  {
   "cell_type": "code",
   "execution_count": 4,
   "metadata": {},
   "outputs": [],
   "source": [
    "df_copy = pd.read_csv('train_patient.csv')"
   ]
  },
  {
   "cell_type": "code",
   "execution_count": 5,
   "metadata": {},
   "outputs": [],
   "source": [
    "df = df_copy.copy()"
   ]
  },
  {
   "cell_type": "code",
   "execution_count": 6,
   "metadata": {},
   "outputs": [
    {
     "data": {
      "text/html": [
       "<div>\n",
       "<style scoped>\n",
       "    .dataframe tbody tr th:only-of-type {\n",
       "        vertical-align: middle;\n",
       "    }\n",
       "\n",
       "    .dataframe tbody tr th {\n",
       "        vertical-align: top;\n",
       "    }\n",
       "\n",
       "    .dataframe thead th {\n",
       "        text-align: right;\n",
       "    }\n",
       "</style>\n",
       "<table border=\"1\" class=\"dataframe\">\n",
       "  <thead>\n",
       "    <tr style=\"text-align: right;\">\n",
       "      <th></th>\n",
       "      <th>HR</th>\n",
       "      <th>O2Sat</th>\n",
       "      <th>Temp</th>\n",
       "      <th>SBP</th>\n",
       "      <th>MAP</th>\n",
       "      <th>DBP</th>\n",
       "      <th>Resp</th>\n",
       "      <th>EtCO2</th>\n",
       "      <th>BaseExcess</th>\n",
       "      <th>HCO3</th>\n",
       "      <th>...</th>\n",
       "      <th>Platelets</th>\n",
       "      <th>Age</th>\n",
       "      <th>Gender</th>\n",
       "      <th>Unit1</th>\n",
       "      <th>Unit2</th>\n",
       "      <th>HospAdmTime</th>\n",
       "      <th>ICULOS</th>\n",
       "      <th>SepsisLabel</th>\n",
       "      <th>Patient_id</th>\n",
       "      <th>time</th>\n",
       "    </tr>\n",
       "  </thead>\n",
       "  <tbody>\n",
       "    <tr>\n",
       "      <th>0</th>\n",
       "      <td>NaN</td>\n",
       "      <td>NaN</td>\n",
       "      <td>NaN</td>\n",
       "      <td>NaN</td>\n",
       "      <td>NaN</td>\n",
       "      <td>NaN</td>\n",
       "      <td>NaN</td>\n",
       "      <td>NaN</td>\n",
       "      <td>NaN</td>\n",
       "      <td>NaN</td>\n",
       "      <td>...</td>\n",
       "      <td>NaN</td>\n",
       "      <td>83.14</td>\n",
       "      <td>0</td>\n",
       "      <td>NaN</td>\n",
       "      <td>NaN</td>\n",
       "      <td>-0.03</td>\n",
       "      <td>1</td>\n",
       "      <td>0</td>\n",
       "      <td>0</td>\n",
       "      <td>0</td>\n",
       "    </tr>\n",
       "    <tr>\n",
       "      <th>1</th>\n",
       "      <td>97.0</td>\n",
       "      <td>95.0</td>\n",
       "      <td>NaN</td>\n",
       "      <td>98.0</td>\n",
       "      <td>75.33</td>\n",
       "      <td>NaN</td>\n",
       "      <td>19.0</td>\n",
       "      <td>NaN</td>\n",
       "      <td>NaN</td>\n",
       "      <td>NaN</td>\n",
       "      <td>...</td>\n",
       "      <td>NaN</td>\n",
       "      <td>83.14</td>\n",
       "      <td>0</td>\n",
       "      <td>NaN</td>\n",
       "      <td>NaN</td>\n",
       "      <td>-0.03</td>\n",
       "      <td>2</td>\n",
       "      <td>0</td>\n",
       "      <td>0</td>\n",
       "      <td>1</td>\n",
       "    </tr>\n",
       "    <tr>\n",
       "      <th>2</th>\n",
       "      <td>89.0</td>\n",
       "      <td>99.0</td>\n",
       "      <td>NaN</td>\n",
       "      <td>122.0</td>\n",
       "      <td>86.00</td>\n",
       "      <td>NaN</td>\n",
       "      <td>22.0</td>\n",
       "      <td>NaN</td>\n",
       "      <td>NaN</td>\n",
       "      <td>NaN</td>\n",
       "      <td>...</td>\n",
       "      <td>NaN</td>\n",
       "      <td>83.14</td>\n",
       "      <td>0</td>\n",
       "      <td>NaN</td>\n",
       "      <td>NaN</td>\n",
       "      <td>-0.03</td>\n",
       "      <td>3</td>\n",
       "      <td>0</td>\n",
       "      <td>0</td>\n",
       "      <td>2</td>\n",
       "    </tr>\n",
       "    <tr>\n",
       "      <th>3</th>\n",
       "      <td>90.0</td>\n",
       "      <td>95.0</td>\n",
       "      <td>NaN</td>\n",
       "      <td>NaN</td>\n",
       "      <td>NaN</td>\n",
       "      <td>NaN</td>\n",
       "      <td>30.0</td>\n",
       "      <td>NaN</td>\n",
       "      <td>24.0</td>\n",
       "      <td>NaN</td>\n",
       "      <td>...</td>\n",
       "      <td>NaN</td>\n",
       "      <td>83.14</td>\n",
       "      <td>0</td>\n",
       "      <td>NaN</td>\n",
       "      <td>NaN</td>\n",
       "      <td>-0.03</td>\n",
       "      <td>4</td>\n",
       "      <td>0</td>\n",
       "      <td>0</td>\n",
       "      <td>3</td>\n",
       "    </tr>\n",
       "    <tr>\n",
       "      <th>4</th>\n",
       "      <td>103.0</td>\n",
       "      <td>88.5</td>\n",
       "      <td>NaN</td>\n",
       "      <td>122.0</td>\n",
       "      <td>91.33</td>\n",
       "      <td>NaN</td>\n",
       "      <td>24.5</td>\n",
       "      <td>NaN</td>\n",
       "      <td>NaN</td>\n",
       "      <td>NaN</td>\n",
       "      <td>...</td>\n",
       "      <td>NaN</td>\n",
       "      <td>83.14</td>\n",
       "      <td>0</td>\n",
       "      <td>NaN</td>\n",
       "      <td>NaN</td>\n",
       "      <td>-0.03</td>\n",
       "      <td>5</td>\n",
       "      <td>0</td>\n",
       "      <td>0</td>\n",
       "      <td>4</td>\n",
       "    </tr>\n",
       "  </tbody>\n",
       "</table>\n",
       "<p>5 rows × 43 columns</p>\n",
       "</div>"
      ],
      "text/plain": [
       "      HR  O2Sat  Temp    SBP    MAP  DBP  Resp  EtCO2  BaseExcess  HCO3  ...  \\\n",
       "0    NaN    NaN   NaN    NaN    NaN  NaN   NaN    NaN         NaN   NaN  ...   \n",
       "1   97.0   95.0   NaN   98.0  75.33  NaN  19.0    NaN         NaN   NaN  ...   \n",
       "2   89.0   99.0   NaN  122.0  86.00  NaN  22.0    NaN         NaN   NaN  ...   \n",
       "3   90.0   95.0   NaN    NaN    NaN  NaN  30.0    NaN        24.0   NaN  ...   \n",
       "4  103.0   88.5   NaN  122.0  91.33  NaN  24.5    NaN         NaN   NaN  ...   \n",
       "\n",
       "   Platelets    Age  Gender  Unit1  Unit2  HospAdmTime  ICULOS  SepsisLabel  \\\n",
       "0        NaN  83.14       0    NaN    NaN        -0.03       1            0   \n",
       "1        NaN  83.14       0    NaN    NaN        -0.03       2            0   \n",
       "2        NaN  83.14       0    NaN    NaN        -0.03       3            0   \n",
       "3        NaN  83.14       0    NaN    NaN        -0.03       4            0   \n",
       "4        NaN  83.14       0    NaN    NaN        -0.03       5            0   \n",
       "\n",
       "   Patient_id  time  \n",
       "0           0     0  \n",
       "1           0     1  \n",
       "2           0     2  \n",
       "3           0     3  \n",
       "4           0     4  \n",
       "\n",
       "[5 rows x 43 columns]"
      ]
     },
     "execution_count": 6,
     "metadata": {},
     "output_type": "execute_result"
    }
   ],
   "source": [
    "df.head()"
   ]
  },
  {
   "cell_type": "code",
   "execution_count": 7,
   "metadata": {},
   "outputs": [
    {
     "data": {
      "text/plain": [
       "HR                   61189\n",
       "O2Sat                95079\n",
       "Temp                523314\n",
       "SBP                 120201\n",
       "MAP                  80858\n",
       "DBP                 380297\n",
       "Resp                 77258\n",
       "EtCO2               790215\n",
       "BaseExcess          707834\n",
       "HCO3                726598\n",
       "FiO2                678060\n",
       "pH                  699600\n",
       "PaCO2               720927\n",
       "SaO2                751055\n",
       "AST                 778395\n",
       "BUN                 725739\n",
       "Alkalinephos        778683\n",
       "Calcium             750897\n",
       "Chloride            724438\n",
       "Creatinine          737728\n",
       "Bilirubin_direct    789033\n",
       "Glucose             693559\n",
       "Lactate             763072\n",
       "Magnesium           728734\n",
       "Phosphate           750319\n",
       "Potassium           704379\n",
       "Bilirubin_total     780522\n",
       "TroponinI           789250\n",
       "Hct                 697157\n",
       "Hgb                 720394\n",
       "PTT                 751909\n",
       "WBC                 730867\n",
       "Fibrinogen          784185\n",
       "Platelets           738716\n",
       "Age                      0\n",
       "Gender                   0\n",
       "Unit1               386165\n",
       "Unit2               386165\n",
       "HospAdmTime              8\n",
       "ICULOS                   0\n",
       "SepsisLabel              0\n",
       "Patient_id               0\n",
       "time                     0\n",
       "dtype: int64"
      ]
     },
     "execution_count": 7,
     "metadata": {},
     "output_type": "execute_result"
    }
   ],
   "source": [
    "df.isnull().sum()"
   ]
  },
  {
   "cell_type": "code",
   "execution_count": 8,
   "metadata": {},
   "outputs": [
    {
     "name": "stdout",
     "output_type": "stream",
     "text": [
      "<class 'pandas.core.frame.DataFrame'>\n",
      "RangeIndex: 790215 entries, 0 to 790214\n",
      "Data columns (total 43 columns):\n",
      " #   Column            Non-Null Count   Dtype  \n",
      "---  ------            --------------   -----  \n",
      " 0   HR                729026 non-null  float64\n",
      " 1   O2Sat             695136 non-null  float64\n",
      " 2   Temp              266901 non-null  float64\n",
      " 3   SBP               670014 non-null  float64\n",
      " 4   MAP               709357 non-null  float64\n",
      " 5   DBP               409918 non-null  float64\n",
      " 6   Resp              712957 non-null  float64\n",
      " 7   EtCO2             0 non-null       float64\n",
      " 8   BaseExcess        82381 non-null   float64\n",
      " 9   HCO3              63617 non-null   float64\n",
      " 10  FiO2              112155 non-null  float64\n",
      " 11  pH                90615 non-null   float64\n",
      " 12  PaCO2             69288 non-null   float64\n",
      " 13  SaO2              39160 non-null   float64\n",
      " 14  AST               11820 non-null   float64\n",
      " 15  BUN               64476 non-null   float64\n",
      " 16  Alkalinephos      11532 non-null   float64\n",
      " 17  Calcium           39318 non-null   float64\n",
      " 18  Chloride          65777 non-null   float64\n",
      " 19  Creatinine        52487 non-null   float64\n",
      " 20  Bilirubin_direct  1182 non-null    float64\n",
      " 21  Glucose           96656 non-null   float64\n",
      " 22  Lactate           27143 non-null   float64\n",
      " 23  Magnesium         61481 non-null   float64\n",
      " 24  Phosphate         39896 non-null   float64\n",
      " 25  Potassium         85836 non-null   float64\n",
      " 26  Bilirubin_total   9693 non-null    float64\n",
      " 27  TroponinI         965 non-null     float64\n",
      " 28  Hct               93058 non-null   float64\n",
      " 29  Hgb               69821 non-null   float64\n",
      " 30  PTT               38306 non-null   float64\n",
      " 31  WBC               59348 non-null   float64\n",
      " 32  Fibrinogen        6030 non-null    float64\n",
      " 33  Platelets         51499 non-null   float64\n",
      " 34  Age               790215 non-null  float64\n",
      " 35  Gender            790215 non-null  int64  \n",
      " 36  Unit1             404050 non-null  float64\n",
      " 37  Unit2             404050 non-null  float64\n",
      " 38  HospAdmTime       790207 non-null  float64\n",
      " 39  ICULOS            790215 non-null  int64  \n",
      " 40  SepsisLabel       790215 non-null  int64  \n",
      " 41  Patient_id        790215 non-null  int64  \n",
      " 42  time              790215 non-null  int64  \n",
      "dtypes: float64(38), int64(5)\n",
      "memory usage: 259.2 MB\n"
     ]
    }
   ],
   "source": [
    "df.info()"
   ]
  },
  {
   "cell_type": "code",
   "execution_count": 9,
   "metadata": {},
   "outputs": [
    {
     "data": {
      "text/html": [
       "<div>\n",
       "<style scoped>\n",
       "    .dataframe tbody tr th:only-of-type {\n",
       "        vertical-align: middle;\n",
       "    }\n",
       "\n",
       "    .dataframe tbody tr th {\n",
       "        vertical-align: top;\n",
       "    }\n",
       "\n",
       "    .dataframe thead th {\n",
       "        text-align: right;\n",
       "    }\n",
       "</style>\n",
       "<table border=\"1\" class=\"dataframe\">\n",
       "  <thead>\n",
       "    <tr style=\"text-align: right;\">\n",
       "      <th></th>\n",
       "      <th>count</th>\n",
       "      <th>mean</th>\n",
       "      <th>std</th>\n",
       "      <th>min</th>\n",
       "      <th>25%</th>\n",
       "      <th>50%</th>\n",
       "      <th>75%</th>\n",
       "      <th>max</th>\n",
       "    </tr>\n",
       "  </thead>\n",
       "  <tbody>\n",
       "    <tr>\n",
       "      <th>HR</th>\n",
       "      <td>729026.0</td>\n",
       "      <td>84.985264</td>\n",
       "      <td>16.940431</td>\n",
       "      <td>20.00</td>\n",
       "      <td>73.00</td>\n",
       "      <td>84.00</td>\n",
       "      <td>96.00</td>\n",
       "      <td>280.00</td>\n",
       "    </tr>\n",
       "    <tr>\n",
       "      <th>O2Sat</th>\n",
       "      <td>695136.0</td>\n",
       "      <td>97.265688</td>\n",
       "      <td>2.908794</td>\n",
       "      <td>20.00</td>\n",
       "      <td>96.00</td>\n",
       "      <td>98.00</td>\n",
       "      <td>99.50</td>\n",
       "      <td>100.00</td>\n",
       "    </tr>\n",
       "    <tr>\n",
       "      <th>Temp</th>\n",
       "      <td>266901.0</td>\n",
       "      <td>37.026737</td>\n",
       "      <td>0.780317</td>\n",
       "      <td>20.90</td>\n",
       "      <td>36.56</td>\n",
       "      <td>37.06</td>\n",
       "      <td>37.55</td>\n",
       "      <td>42.22</td>\n",
       "    </tr>\n",
       "    <tr>\n",
       "      <th>SBP</th>\n",
       "      <td>670014.0</td>\n",
       "      <td>120.962359</td>\n",
       "      <td>21.520567</td>\n",
       "      <td>22.00</td>\n",
       "      <td>105.00</td>\n",
       "      <td>118.50</td>\n",
       "      <td>134.00</td>\n",
       "      <td>281.00</td>\n",
       "    </tr>\n",
       "    <tr>\n",
       "      <th>MAP</th>\n",
       "      <td>709357.0</td>\n",
       "      <td>78.767345</td>\n",
       "      <td>15.044038</td>\n",
       "      <td>20.00</td>\n",
       "      <td>68.00</td>\n",
       "      <td>77.00</td>\n",
       "      <td>87.33</td>\n",
       "      <td>300.00</td>\n",
       "    </tr>\n",
       "    <tr>\n",
       "      <th>DBP</th>\n",
       "      <td>409918.0</td>\n",
       "      <td>59.985809</td>\n",
       "      <td>12.572771</td>\n",
       "      <td>20.00</td>\n",
       "      <td>51.00</td>\n",
       "      <td>58.50</td>\n",
       "      <td>67.00</td>\n",
       "      <td>298.00</td>\n",
       "    </tr>\n",
       "    <tr>\n",
       "      <th>Resp</th>\n",
       "      <td>712957.0</td>\n",
       "      <td>18.773460</td>\n",
       "      <td>5.395750</td>\n",
       "      <td>1.00</td>\n",
       "      <td>15.00</td>\n",
       "      <td>18.00</td>\n",
       "      <td>22.00</td>\n",
       "      <td>69.00</td>\n",
       "    </tr>\n",
       "    <tr>\n",
       "      <th>EtCO2</th>\n",
       "      <td>0.0</td>\n",
       "      <td>NaN</td>\n",
       "      <td>NaN</td>\n",
       "      <td>NaN</td>\n",
       "      <td>NaN</td>\n",
       "      <td>NaN</td>\n",
       "      <td>NaN</td>\n",
       "      <td>NaN</td>\n",
       "    </tr>\n",
       "    <tr>\n",
       "      <th>BaseExcess</th>\n",
       "      <td>82381.0</td>\n",
       "      <td>-0.647537</td>\n",
       "      <td>4.286641</td>\n",
       "      <td>-32.00</td>\n",
       "      <td>-3.00</td>\n",
       "      <td>0.00</td>\n",
       "      <td>1.00</td>\n",
       "      <td>100.00</td>\n",
       "    </tr>\n",
       "    <tr>\n",
       "      <th>HCO3</th>\n",
       "      <td>63617.0</td>\n",
       "      <td>24.094476</td>\n",
       "      <td>4.396192</td>\n",
       "      <td>0.00</td>\n",
       "      <td>22.00</td>\n",
       "      <td>24.00</td>\n",
       "      <td>27.00</td>\n",
       "      <td>55.00</td>\n",
       "    </tr>\n",
       "    <tr>\n",
       "      <th>FiO2</th>\n",
       "      <td>112155.0</td>\n",
       "      <td>0.526248</td>\n",
       "      <td>0.185869</td>\n",
       "      <td>0.00</td>\n",
       "      <td>0.40</td>\n",
       "      <td>0.50</td>\n",
       "      <td>0.55</td>\n",
       "      <td>10.00</td>\n",
       "    </tr>\n",
       "    <tr>\n",
       "      <th>pH</th>\n",
       "      <td>90615.0</td>\n",
       "      <td>7.380243</td>\n",
       "      <td>0.071877</td>\n",
       "      <td>6.62</td>\n",
       "      <td>7.34</td>\n",
       "      <td>7.39</td>\n",
       "      <td>7.43</td>\n",
       "      <td>7.93</td>\n",
       "    </tr>\n",
       "    <tr>\n",
       "      <th>PaCO2</th>\n",
       "      <td>69288.0</td>\n",
       "      <td>41.166147</td>\n",
       "      <td>8.996604</td>\n",
       "      <td>10.00</td>\n",
       "      <td>36.00</td>\n",
       "      <td>40.00</td>\n",
       "      <td>45.00</td>\n",
       "      <td>100.00</td>\n",
       "    </tr>\n",
       "    <tr>\n",
       "      <th>SaO2</th>\n",
       "      <td>39160.0</td>\n",
       "      <td>91.215456</td>\n",
       "      <td>12.226230</td>\n",
       "      <td>24.00</td>\n",
       "      <td>93.00</td>\n",
       "      <td>97.00</td>\n",
       "      <td>98.00</td>\n",
       "      <td>100.00</td>\n",
       "    </tr>\n",
       "    <tr>\n",
       "      <th>AST</th>\n",
       "      <td>11820.0</td>\n",
       "      <td>356.207530</td>\n",
       "      <td>1025.654672</td>\n",
       "      <td>3.00</td>\n",
       "      <td>28.00</td>\n",
       "      <td>57.00</td>\n",
       "      <td>180.00</td>\n",
       "      <td>9890.00</td>\n",
       "    </tr>\n",
       "    <tr>\n",
       "      <th>BUN</th>\n",
       "      <td>64476.0</td>\n",
       "      <td>24.346709</td>\n",
       "      <td>20.154437</td>\n",
       "      <td>1.00</td>\n",
       "      <td>12.00</td>\n",
       "      <td>18.00</td>\n",
       "      <td>29.00</td>\n",
       "      <td>266.00</td>\n",
       "    </tr>\n",
       "    <tr>\n",
       "      <th>Alkalinephos</th>\n",
       "      <td>11532.0</td>\n",
       "      <td>114.203304</td>\n",
       "      <td>147.362802</td>\n",
       "      <td>7.00</td>\n",
       "      <td>56.00</td>\n",
       "      <td>78.00</td>\n",
       "      <td>119.00</td>\n",
       "      <td>3833.00</td>\n",
       "    </tr>\n",
       "    <tr>\n",
       "      <th>Calcium</th>\n",
       "      <td>39318.0</td>\n",
       "      <td>8.316977</td>\n",
       "      <td>0.819304</td>\n",
       "      <td>1.60</td>\n",
       "      <td>7.80</td>\n",
       "      <td>8.30</td>\n",
       "      <td>8.80</td>\n",
       "      <td>22.00</td>\n",
       "    </tr>\n",
       "    <tr>\n",
       "      <th>Chloride</th>\n",
       "      <td>65777.0</td>\n",
       "      <td>105.765062</td>\n",
       "      <td>5.939929</td>\n",
       "      <td>26.00</td>\n",
       "      <td>102.00</td>\n",
       "      <td>106.00</td>\n",
       "      <td>109.00</td>\n",
       "      <td>145.00</td>\n",
       "    </tr>\n",
       "    <tr>\n",
       "      <th>Creatinine</th>\n",
       "      <td>52487.0</td>\n",
       "      <td>1.404382</td>\n",
       "      <td>1.527545</td>\n",
       "      <td>0.10</td>\n",
       "      <td>0.70</td>\n",
       "      <td>0.90</td>\n",
       "      <td>1.40</td>\n",
       "      <td>46.60</td>\n",
       "    </tr>\n",
       "    <tr>\n",
       "      <th>Bilirubin_direct</th>\n",
       "      <td>1182.0</td>\n",
       "      <td>3.114213</td>\n",
       "      <td>4.631447</td>\n",
       "      <td>0.10</td>\n",
       "      <td>0.50</td>\n",
       "      <td>1.40</td>\n",
       "      <td>3.70</td>\n",
       "      <td>37.50</td>\n",
       "    </tr>\n",
       "    <tr>\n",
       "      <th>Glucose</th>\n",
       "      <td>96656.0</td>\n",
       "      <td>133.609221</td>\n",
       "      <td>51.583580</td>\n",
       "      <td>10.00</td>\n",
       "      <td>104.00</td>\n",
       "      <td>124.00</td>\n",
       "      <td>150.00</td>\n",
       "      <td>988.00</td>\n",
       "    </tr>\n",
       "    <tr>\n",
       "      <th>Lactate</th>\n",
       "      <td>27143.0</td>\n",
       "      <td>2.469203</td>\n",
       "      <td>2.329001</td>\n",
       "      <td>0.20</td>\n",
       "      <td>1.20</td>\n",
       "      <td>1.80</td>\n",
       "      <td>2.80</td>\n",
       "      <td>31.00</td>\n",
       "    </tr>\n",
       "    <tr>\n",
       "      <th>Magnesium</th>\n",
       "      <td>61481.0</td>\n",
       "      <td>2.041004</td>\n",
       "      <td>0.390028</td>\n",
       "      <td>0.20</td>\n",
       "      <td>1.80</td>\n",
       "      <td>2.00</td>\n",
       "      <td>2.20</td>\n",
       "      <td>9.70</td>\n",
       "    </tr>\n",
       "    <tr>\n",
       "      <th>Phosphate</th>\n",
       "      <td>39896.0</td>\n",
       "      <td>3.588573</td>\n",
       "      <td>1.445632</td>\n",
       "      <td>0.20</td>\n",
       "      <td>2.70</td>\n",
       "      <td>3.40</td>\n",
       "      <td>4.20</td>\n",
       "      <td>18.80</td>\n",
       "    </tr>\n",
       "    <tr>\n",
       "      <th>Potassium</th>\n",
       "      <td>85836.0</td>\n",
       "      <td>4.161507</td>\n",
       "      <td>0.632719</td>\n",
       "      <td>1.00</td>\n",
       "      <td>3.80</td>\n",
       "      <td>4.10</td>\n",
       "      <td>4.50</td>\n",
       "      <td>27.50</td>\n",
       "    </tr>\n",
       "    <tr>\n",
       "      <th>Bilirubin_total</th>\n",
       "      <td>9693.0</td>\n",
       "      <td>2.694403</td>\n",
       "      <td>5.242802</td>\n",
       "      <td>0.10</td>\n",
       "      <td>0.50</td>\n",
       "      <td>0.90</td>\n",
       "      <td>2.20</td>\n",
       "      <td>46.60</td>\n",
       "    </tr>\n",
       "    <tr>\n",
       "      <th>TroponinI</th>\n",
       "      <td>965.0</td>\n",
       "      <td>9.288187</td>\n",
       "      <td>11.412870</td>\n",
       "      <td>0.30</td>\n",
       "      <td>1.00</td>\n",
       "      <td>4.30</td>\n",
       "      <td>12.90</td>\n",
       "      <td>49.30</td>\n",
       "    </tr>\n",
       "    <tr>\n",
       "      <th>Hct</th>\n",
       "      <td>93058.0</td>\n",
       "      <td>30.674895</td>\n",
       "      <td>4.874651</td>\n",
       "      <td>5.50</td>\n",
       "      <td>27.40</td>\n",
       "      <td>30.20</td>\n",
       "      <td>33.50</td>\n",
       "      <td>71.70</td>\n",
       "    </tr>\n",
       "    <tr>\n",
       "      <th>Hgb</th>\n",
       "      <td>69821.0</td>\n",
       "      <td>10.582028</td>\n",
       "      <td>1.746027</td>\n",
       "      <td>2.20</td>\n",
       "      <td>9.40</td>\n",
       "      <td>10.40</td>\n",
       "      <td>11.60</td>\n",
       "      <td>32.00</td>\n",
       "    </tr>\n",
       "    <tr>\n",
       "      <th>PTT</th>\n",
       "      <td>38306.0</td>\n",
       "      <td>40.781937</td>\n",
       "      <td>23.964333</td>\n",
       "      <td>12.50</td>\n",
       "      <td>27.70</td>\n",
       "      <td>32.40</td>\n",
       "      <td>42.90</td>\n",
       "      <td>150.00</td>\n",
       "    </tr>\n",
       "    <tr>\n",
       "      <th>WBC</th>\n",
       "      <td>59348.0</td>\n",
       "      <td>11.936604</td>\n",
       "      <td>7.562679</td>\n",
       "      <td>0.10</td>\n",
       "      <td>8.00</td>\n",
       "      <td>10.80</td>\n",
       "      <td>14.30</td>\n",
       "      <td>422.90</td>\n",
       "    </tr>\n",
       "    <tr>\n",
       "      <th>Fibrinogen</th>\n",
       "      <td>6030.0</td>\n",
       "      <td>292.251642</td>\n",
       "      <td>158.632042</td>\n",
       "      <td>34.00</td>\n",
       "      <td>184.00</td>\n",
       "      <td>250.00</td>\n",
       "      <td>356.75</td>\n",
       "      <td>1760.00</td>\n",
       "    </tr>\n",
       "    <tr>\n",
       "      <th>Platelets</th>\n",
       "      <td>51499.0</td>\n",
       "      <td>199.617841</td>\n",
       "      <td>109.244146</td>\n",
       "      <td>5.00</td>\n",
       "      <td>127.00</td>\n",
       "      <td>181.00</td>\n",
       "      <td>247.00</td>\n",
       "      <td>1783.00</td>\n",
       "    </tr>\n",
       "    <tr>\n",
       "      <th>Age</th>\n",
       "      <td>790215.0</td>\n",
       "      <td>63.016780</td>\n",
       "      <td>16.133632</td>\n",
       "      <td>18.11</td>\n",
       "      <td>52.74</td>\n",
       "      <td>65.25</td>\n",
       "      <td>75.89</td>\n",
       "      <td>89.00</td>\n",
       "    </tr>\n",
       "    <tr>\n",
       "      <th>Gender</th>\n",
       "      <td>790215.0</td>\n",
       "      <td>0.577721</td>\n",
       "      <td>0.493923</td>\n",
       "      <td>0.00</td>\n",
       "      <td>0.00</td>\n",
       "      <td>1.00</td>\n",
       "      <td>1.00</td>\n",
       "      <td>1.00</td>\n",
       "    </tr>\n",
       "    <tr>\n",
       "      <th>Unit1</th>\n",
       "      <td>404050.0</td>\n",
       "      <td>0.507101</td>\n",
       "      <td>0.499950</td>\n",
       "      <td>0.00</td>\n",
       "      <td>0.00</td>\n",
       "      <td>1.00</td>\n",
       "      <td>1.00</td>\n",
       "      <td>1.00</td>\n",
       "    </tr>\n",
       "    <tr>\n",
       "      <th>Unit2</th>\n",
       "      <td>404050.0</td>\n",
       "      <td>0.492899</td>\n",
       "      <td>0.499950</td>\n",
       "      <td>0.00</td>\n",
       "      <td>0.00</td>\n",
       "      <td>0.00</td>\n",
       "      <td>1.00</td>\n",
       "      <td>1.00</td>\n",
       "    </tr>\n",
       "    <tr>\n",
       "      <th>HospAdmTime</th>\n",
       "      <td>790207.0</td>\n",
       "      <td>-52.025757</td>\n",
       "      <td>155.864937</td>\n",
       "      <td>-3710.66</td>\n",
       "      <td>-38.09</td>\n",
       "      <td>-2.60</td>\n",
       "      <td>-0.02</td>\n",
       "      <td>23.99</td>\n",
       "    </tr>\n",
       "    <tr>\n",
       "      <th>ICULOS</th>\n",
       "      <td>790215.0</td>\n",
       "      <td>27.198518</td>\n",
       "      <td>28.190940</td>\n",
       "      <td>1.00</td>\n",
       "      <td>11.00</td>\n",
       "      <td>21.00</td>\n",
       "      <td>35.00</td>\n",
       "      <td>336.00</td>\n",
       "    </tr>\n",
       "    <tr>\n",
       "      <th>SepsisLabel</th>\n",
       "      <td>790215.0</td>\n",
       "      <td>0.021685</td>\n",
       "      <td>0.145654</td>\n",
       "      <td>0.00</td>\n",
       "      <td>0.00</td>\n",
       "      <td>0.00</td>\n",
       "      <td>0.00</td>\n",
       "      <td>1.00</td>\n",
       "    </tr>\n",
       "    <tr>\n",
       "      <th>Patient_id</th>\n",
       "      <td>790215.0</td>\n",
       "      <td>10186.588072</td>\n",
       "      <td>5884.958288</td>\n",
       "      <td>0.00</td>\n",
       "      <td>5073.00</td>\n",
       "      <td>10173.00</td>\n",
       "      <td>15283.00</td>\n",
       "      <td>20335.00</td>\n",
       "    </tr>\n",
       "    <tr>\n",
       "      <th>time</th>\n",
       "      <td>790215.0</td>\n",
       "      <td>25.332445</td>\n",
       "      <td>27.954160</td>\n",
       "      <td>0.00</td>\n",
       "      <td>9.00</td>\n",
       "      <td>20.00</td>\n",
       "      <td>33.00</td>\n",
       "      <td>335.00</td>\n",
       "    </tr>\n",
       "  </tbody>\n",
       "</table>\n",
       "</div>"
      ],
      "text/plain": [
       "                     count          mean          std      min      25%  \\\n",
       "HR                729026.0     84.985264    16.940431    20.00    73.00   \n",
       "O2Sat             695136.0     97.265688     2.908794    20.00    96.00   \n",
       "Temp              266901.0     37.026737     0.780317    20.90    36.56   \n",
       "SBP               670014.0    120.962359    21.520567    22.00   105.00   \n",
       "MAP               709357.0     78.767345    15.044038    20.00    68.00   \n",
       "DBP               409918.0     59.985809    12.572771    20.00    51.00   \n",
       "Resp              712957.0     18.773460     5.395750     1.00    15.00   \n",
       "EtCO2                  0.0           NaN          NaN      NaN      NaN   \n",
       "BaseExcess         82381.0     -0.647537     4.286641   -32.00    -3.00   \n",
       "HCO3               63617.0     24.094476     4.396192     0.00    22.00   \n",
       "FiO2              112155.0      0.526248     0.185869     0.00     0.40   \n",
       "pH                 90615.0      7.380243     0.071877     6.62     7.34   \n",
       "PaCO2              69288.0     41.166147     8.996604    10.00    36.00   \n",
       "SaO2               39160.0     91.215456    12.226230    24.00    93.00   \n",
       "AST                11820.0    356.207530  1025.654672     3.00    28.00   \n",
       "BUN                64476.0     24.346709    20.154437     1.00    12.00   \n",
       "Alkalinephos       11532.0    114.203304   147.362802     7.00    56.00   \n",
       "Calcium            39318.0      8.316977     0.819304     1.60     7.80   \n",
       "Chloride           65777.0    105.765062     5.939929    26.00   102.00   \n",
       "Creatinine         52487.0      1.404382     1.527545     0.10     0.70   \n",
       "Bilirubin_direct    1182.0      3.114213     4.631447     0.10     0.50   \n",
       "Glucose            96656.0    133.609221    51.583580    10.00   104.00   \n",
       "Lactate            27143.0      2.469203     2.329001     0.20     1.20   \n",
       "Magnesium          61481.0      2.041004     0.390028     0.20     1.80   \n",
       "Phosphate          39896.0      3.588573     1.445632     0.20     2.70   \n",
       "Potassium          85836.0      4.161507     0.632719     1.00     3.80   \n",
       "Bilirubin_total     9693.0      2.694403     5.242802     0.10     0.50   \n",
       "TroponinI            965.0      9.288187    11.412870     0.30     1.00   \n",
       "Hct                93058.0     30.674895     4.874651     5.50    27.40   \n",
       "Hgb                69821.0     10.582028     1.746027     2.20     9.40   \n",
       "PTT                38306.0     40.781937    23.964333    12.50    27.70   \n",
       "WBC                59348.0     11.936604     7.562679     0.10     8.00   \n",
       "Fibrinogen          6030.0    292.251642   158.632042    34.00   184.00   \n",
       "Platelets          51499.0    199.617841   109.244146     5.00   127.00   \n",
       "Age               790215.0     63.016780    16.133632    18.11    52.74   \n",
       "Gender            790215.0      0.577721     0.493923     0.00     0.00   \n",
       "Unit1             404050.0      0.507101     0.499950     0.00     0.00   \n",
       "Unit2             404050.0      0.492899     0.499950     0.00     0.00   \n",
       "HospAdmTime       790207.0    -52.025757   155.864937 -3710.66   -38.09   \n",
       "ICULOS            790215.0     27.198518    28.190940     1.00    11.00   \n",
       "SepsisLabel       790215.0      0.021685     0.145654     0.00     0.00   \n",
       "Patient_id        790215.0  10186.588072  5884.958288     0.00  5073.00   \n",
       "time              790215.0     25.332445    27.954160     0.00     9.00   \n",
       "\n",
       "                       50%       75%       max  \n",
       "HR                   84.00     96.00    280.00  \n",
       "O2Sat                98.00     99.50    100.00  \n",
       "Temp                 37.06     37.55     42.22  \n",
       "SBP                 118.50    134.00    281.00  \n",
       "MAP                  77.00     87.33    300.00  \n",
       "DBP                  58.50     67.00    298.00  \n",
       "Resp                 18.00     22.00     69.00  \n",
       "EtCO2                  NaN       NaN       NaN  \n",
       "BaseExcess            0.00      1.00    100.00  \n",
       "HCO3                 24.00     27.00     55.00  \n",
       "FiO2                  0.50      0.55     10.00  \n",
       "pH                    7.39      7.43      7.93  \n",
       "PaCO2                40.00     45.00    100.00  \n",
       "SaO2                 97.00     98.00    100.00  \n",
       "AST                  57.00    180.00   9890.00  \n",
       "BUN                  18.00     29.00    266.00  \n",
       "Alkalinephos         78.00    119.00   3833.00  \n",
       "Calcium               8.30      8.80     22.00  \n",
       "Chloride            106.00    109.00    145.00  \n",
       "Creatinine            0.90      1.40     46.60  \n",
       "Bilirubin_direct      1.40      3.70     37.50  \n",
       "Glucose             124.00    150.00    988.00  \n",
       "Lactate               1.80      2.80     31.00  \n",
       "Magnesium             2.00      2.20      9.70  \n",
       "Phosphate             3.40      4.20     18.80  \n",
       "Potassium             4.10      4.50     27.50  \n",
       "Bilirubin_total       0.90      2.20     46.60  \n",
       "TroponinI             4.30     12.90     49.30  \n",
       "Hct                  30.20     33.50     71.70  \n",
       "Hgb                  10.40     11.60     32.00  \n",
       "PTT                  32.40     42.90    150.00  \n",
       "WBC                  10.80     14.30    422.90  \n",
       "Fibrinogen          250.00    356.75   1760.00  \n",
       "Platelets           181.00    247.00   1783.00  \n",
       "Age                  65.25     75.89     89.00  \n",
       "Gender                1.00      1.00      1.00  \n",
       "Unit1                 1.00      1.00      1.00  \n",
       "Unit2                 0.00      1.00      1.00  \n",
       "HospAdmTime          -2.60     -0.02     23.99  \n",
       "ICULOS               21.00     35.00    336.00  \n",
       "SepsisLabel           0.00      0.00      1.00  \n",
       "Patient_id        10173.00  15283.00  20335.00  \n",
       "time                 20.00     33.00    335.00  "
      ]
     },
     "execution_count": 9,
     "metadata": {},
     "output_type": "execute_result"
    }
   ],
   "source": [
    "df.describe().transpose()"
   ]
  },
  {
   "cell_type": "code",
   "execution_count": 10,
   "metadata": {},
   "outputs": [
    {
     "data": {
      "text/html": [
       "<div>\n",
       "<style scoped>\n",
       "    .dataframe tbody tr th:only-of-type {\n",
       "        vertical-align: middle;\n",
       "    }\n",
       "\n",
       "    .dataframe tbody tr th {\n",
       "        vertical-align: top;\n",
       "    }\n",
       "\n",
       "    .dataframe thead th {\n",
       "        text-align: right;\n",
       "    }\n",
       "</style>\n",
       "<table border=\"1\" class=\"dataframe\">\n",
       "  <thead>\n",
       "    <tr style=\"text-align: right;\">\n",
       "      <th></th>\n",
       "      <th>HR</th>\n",
       "      <th>O2Sat</th>\n",
       "      <th>Temp</th>\n",
       "      <th>SBP</th>\n",
       "      <th>MAP</th>\n",
       "      <th>DBP</th>\n",
       "      <th>Resp</th>\n",
       "      <th>EtCO2</th>\n",
       "      <th>BaseExcess</th>\n",
       "      <th>HCO3</th>\n",
       "      <th>...</th>\n",
       "      <th>Platelets</th>\n",
       "      <th>Age</th>\n",
       "      <th>Gender</th>\n",
       "      <th>Unit1</th>\n",
       "      <th>Unit2</th>\n",
       "      <th>HospAdmTime</th>\n",
       "      <th>ICULOS</th>\n",
       "      <th>SepsisLabel</th>\n",
       "      <th>Patient_id</th>\n",
       "      <th>time</th>\n",
       "    </tr>\n",
       "  </thead>\n",
       "  <tbody>\n",
       "    <tr>\n",
       "      <th>HR</th>\n",
       "      <td>1.000000</td>\n",
       "      <td>-0.083892</td>\n",
       "      <td>0.257408</td>\n",
       "      <td>-0.027233</td>\n",
       "      <td>0.113059</td>\n",
       "      <td>0.194198</td>\n",
       "      <td>0.245858</td>\n",
       "      <td>NaN</td>\n",
       "      <td>-0.092058</td>\n",
       "      <td>-0.092635</td>\n",
       "      <td>...</td>\n",
       "      <td>0.026818</td>\n",
       "      <td>-0.185891</td>\n",
       "      <td>-0.032591</td>\n",
       "      <td>0.055879</td>\n",
       "      <td>-0.055879</td>\n",
       "      <td>-0.047555</td>\n",
       "      <td>0.032503</td>\n",
       "      <td>0.047464</td>\n",
       "      <td>-0.003502</td>\n",
       "      <td>0.031963</td>\n",
       "    </tr>\n",
       "    <tr>\n",
       "      <th>O2Sat</th>\n",
       "      <td>-0.083892</td>\n",
       "      <td>1.000000</td>\n",
       "      <td>-0.030651</td>\n",
       "      <td>0.041769</td>\n",
       "      <td>0.049761</td>\n",
       "      <td>0.035513</td>\n",
       "      <td>-0.163217</td>\n",
       "      <td>NaN</td>\n",
       "      <td>0.032360</td>\n",
       "      <td>-0.060713</td>\n",
       "      <td>...</td>\n",
       "      <td>-0.022018</td>\n",
       "      <td>-0.043237</td>\n",
       "      <td>-0.029580</td>\n",
       "      <td>-0.053364</td>\n",
       "      <td>0.053364</td>\n",
       "      <td>0.001213</td>\n",
       "      <td>-0.046736</td>\n",
       "      <td>-0.007670</td>\n",
       "      <td>-0.002360</td>\n",
       "      <td>-0.048595</td>\n",
       "    </tr>\n",
       "    <tr>\n",
       "      <th>Temp</th>\n",
       "      <td>0.257408</td>\n",
       "      <td>-0.030651</td>\n",
       "      <td>1.000000</td>\n",
       "      <td>0.008748</td>\n",
       "      <td>-0.017643</td>\n",
       "      <td>-0.033184</td>\n",
       "      <td>0.143032</td>\n",
       "      <td>NaN</td>\n",
       "      <td>0.146893</td>\n",
       "      <td>0.078264</td>\n",
       "      <td>...</td>\n",
       "      <td>0.025325</td>\n",
       "      <td>-0.106214</td>\n",
       "      <td>0.058439</td>\n",
       "      <td>-0.161930</td>\n",
       "      <td>0.161930</td>\n",
       "      <td>0.042897</td>\n",
       "      <td>0.097013</td>\n",
       "      <td>0.041924</td>\n",
       "      <td>-0.007288</td>\n",
       "      <td>0.093370</td>\n",
       "    </tr>\n",
       "    <tr>\n",
       "      <th>SBP</th>\n",
       "      <td>-0.027233</td>\n",
       "      <td>0.041769</td>\n",
       "      <td>0.008748</td>\n",
       "      <td>1.000000</td>\n",
       "      <td>0.773763</td>\n",
       "      <td>0.534488</td>\n",
       "      <td>0.055809</td>\n",
       "      <td>NaN</td>\n",
       "      <td>0.151605</td>\n",
       "      <td>0.057455</td>\n",
       "      <td>...</td>\n",
       "      <td>0.020214</td>\n",
       "      <td>-0.000401</td>\n",
       "      <td>-0.010027</td>\n",
       "      <td>0.192406</td>\n",
       "      <td>-0.192406</td>\n",
       "      <td>0.035449</td>\n",
       "      <td>0.094355</td>\n",
       "      <td>-0.005123</td>\n",
       "      <td>0.011258</td>\n",
       "      <td>0.097070</td>\n",
       "    </tr>\n",
       "    <tr>\n",
       "      <th>MAP</th>\n",
       "      <td>0.113059</td>\n",
       "      <td>0.049761</td>\n",
       "      <td>-0.017643</td>\n",
       "      <td>0.773763</td>\n",
       "      <td>1.000000</td>\n",
       "      <td>0.802643</td>\n",
       "      <td>0.048167</td>\n",
       "      <td>NaN</td>\n",
       "      <td>0.111652</td>\n",
       "      <td>0.021869</td>\n",
       "      <td>...</td>\n",
       "      <td>0.015516</td>\n",
       "      <td>-0.171660</td>\n",
       "      <td>0.023771</td>\n",
       "      <td>0.217379</td>\n",
       "      <td>-0.217379</td>\n",
       "      <td>0.037319</td>\n",
       "      <td>0.050819</td>\n",
       "      <td>-0.005282</td>\n",
       "      <td>0.010070</td>\n",
       "      <td>0.054056</td>\n",
       "    </tr>\n",
       "    <tr>\n",
       "      <th>DBP</th>\n",
       "      <td>0.194198</td>\n",
       "      <td>0.035513</td>\n",
       "      <td>-0.033184</td>\n",
       "      <td>0.534488</td>\n",
       "      <td>0.802643</td>\n",
       "      <td>1.000000</td>\n",
       "      <td>0.054128</td>\n",
       "      <td>NaN</td>\n",
       "      <td>0.080441</td>\n",
       "      <td>0.023210</td>\n",
       "      <td>...</td>\n",
       "      <td>0.033752</td>\n",
       "      <td>-0.330808</td>\n",
       "      <td>0.014550</td>\n",
       "      <td>0.267288</td>\n",
       "      <td>-0.267288</td>\n",
       "      <td>0.028828</td>\n",
       "      <td>0.045990</td>\n",
       "      <td>0.007527</td>\n",
       "      <td>0.006627</td>\n",
       "      <td>0.051459</td>\n",
       "    </tr>\n",
       "    <tr>\n",
       "      <th>Resp</th>\n",
       "      <td>0.245858</td>\n",
       "      <td>-0.163217</td>\n",
       "      <td>0.143032</td>\n",
       "      <td>0.055809</td>\n",
       "      <td>0.048167</td>\n",
       "      <td>0.054128</td>\n",
       "      <td>1.000000</td>\n",
       "      <td>NaN</td>\n",
       "      <td>-0.034433</td>\n",
       "      <td>-0.041827</td>\n",
       "      <td>...</td>\n",
       "      <td>0.070787</td>\n",
       "      <td>0.033527</td>\n",
       "      <td>0.006272</td>\n",
       "      <td>0.086136</td>\n",
       "      <td>-0.086136</td>\n",
       "      <td>-0.039412</td>\n",
       "      <td>0.118358</td>\n",
       "      <td>0.055194</td>\n",
       "      <td>-0.002993</td>\n",
       "      <td>0.120100</td>\n",
       "    </tr>\n",
       "    <tr>\n",
       "      <th>EtCO2</th>\n",
       "      <td>NaN</td>\n",
       "      <td>NaN</td>\n",
       "      <td>NaN</td>\n",
       "      <td>NaN</td>\n",
       "      <td>NaN</td>\n",
       "      <td>NaN</td>\n",
       "      <td>NaN</td>\n",
       "      <td>NaN</td>\n",
       "      <td>NaN</td>\n",
       "      <td>NaN</td>\n",
       "      <td>...</td>\n",
       "      <td>NaN</td>\n",
       "      <td>NaN</td>\n",
       "      <td>NaN</td>\n",
       "      <td>NaN</td>\n",
       "      <td>NaN</td>\n",
       "      <td>NaN</td>\n",
       "      <td>NaN</td>\n",
       "      <td>NaN</td>\n",
       "      <td>NaN</td>\n",
       "      <td>NaN</td>\n",
       "    </tr>\n",
       "    <tr>\n",
       "      <th>BaseExcess</th>\n",
       "      <td>-0.092058</td>\n",
       "      <td>0.032360</td>\n",
       "      <td>0.146893</td>\n",
       "      <td>0.151605</td>\n",
       "      <td>0.111652</td>\n",
       "      <td>0.080441</td>\n",
       "      <td>-0.034433</td>\n",
       "      <td>NaN</td>\n",
       "      <td>1.000000</td>\n",
       "      <td>0.854823</td>\n",
       "      <td>...</td>\n",
       "      <td>0.072628</td>\n",
       "      <td>-0.046142</td>\n",
       "      <td>0.025591</td>\n",
       "      <td>0.057617</td>\n",
       "      <td>-0.057617</td>\n",
       "      <td>-0.021525</td>\n",
       "      <td>0.155526</td>\n",
       "      <td>0.019161</td>\n",
       "      <td>0.007277</td>\n",
       "      <td>0.157087</td>\n",
       "    </tr>\n",
       "    <tr>\n",
       "      <th>HCO3</th>\n",
       "      <td>-0.092635</td>\n",
       "      <td>-0.060713</td>\n",
       "      <td>0.078264</td>\n",
       "      <td>0.057455</td>\n",
       "      <td>0.021869</td>\n",
       "      <td>0.023210</td>\n",
       "      <td>-0.041827</td>\n",
       "      <td>NaN</td>\n",
       "      <td>0.854823</td>\n",
       "      <td>1.000000</td>\n",
       "      <td>...</td>\n",
       "      <td>0.091295</td>\n",
       "      <td>0.019853</td>\n",
       "      <td>0.042743</td>\n",
       "      <td>-0.060735</td>\n",
       "      <td>0.060735</td>\n",
       "      <td>-0.020611</td>\n",
       "      <td>0.118568</td>\n",
       "      <td>-0.014065</td>\n",
       "      <td>-0.007441</td>\n",
       "      <td>0.119727</td>\n",
       "    </tr>\n",
       "    <tr>\n",
       "      <th>FiO2</th>\n",
       "      <td>0.083648</td>\n",
       "      <td>-0.166099</td>\n",
       "      <td>-0.196671</td>\n",
       "      <td>-0.088046</td>\n",
       "      <td>-0.055500</td>\n",
       "      <td>-0.027474</td>\n",
       "      <td>0.071015</td>\n",
       "      <td>NaN</td>\n",
       "      <td>-0.131298</td>\n",
       "      <td>-0.081687</td>\n",
       "      <td>...</td>\n",
       "      <td>-0.065538</td>\n",
       "      <td>0.022724</td>\n",
       "      <td>0.049561</td>\n",
       "      <td>-0.103076</td>\n",
       "      <td>0.103076</td>\n",
       "      <td>0.004819</td>\n",
       "      <td>-0.110155</td>\n",
       "      <td>0.017002</td>\n",
       "      <td>-0.006012</td>\n",
       "      <td>-0.113044</td>\n",
       "    </tr>\n",
       "    <tr>\n",
       "      <th>pH</th>\n",
       "      <td>-0.099068</td>\n",
       "      <td>0.105905</td>\n",
       "      <td>0.188488</td>\n",
       "      <td>0.131737</td>\n",
       "      <td>0.098073</td>\n",
       "      <td>0.067508</td>\n",
       "      <td>0.019934</td>\n",
       "      <td>NaN</td>\n",
       "      <td>0.647157</td>\n",
       "      <td>0.385203</td>\n",
       "      <td>...</td>\n",
       "      <td>0.006337</td>\n",
       "      <td>-0.001355</td>\n",
       "      <td>0.015191</td>\n",
       "      <td>-0.081442</td>\n",
       "      <td>0.081442</td>\n",
       "      <td>-0.006977</td>\n",
       "      <td>0.157509</td>\n",
       "      <td>0.000810</td>\n",
       "      <td>0.020742</td>\n",
       "      <td>0.156570</td>\n",
       "    </tr>\n",
       "    <tr>\n",
       "      <th>PaCO2</th>\n",
       "      <td>0.027580</td>\n",
       "      <td>-0.110843</td>\n",
       "      <td>-0.048719</td>\n",
       "      <td>0.011894</td>\n",
       "      <td>0.000096</td>\n",
       "      <td>-0.002207</td>\n",
       "      <td>-0.040855</td>\n",
       "      <td>NaN</td>\n",
       "      <td>0.361471</td>\n",
       "      <td>0.572452</td>\n",
       "      <td>...</td>\n",
       "      <td>0.075395</td>\n",
       "      <td>-0.042835</td>\n",
       "      <td>0.009458</td>\n",
       "      <td>0.122826</td>\n",
       "      <td>-0.122826</td>\n",
       "      <td>-0.021905</td>\n",
       "      <td>0.005519</td>\n",
       "      <td>0.021456</td>\n",
       "      <td>-0.019861</td>\n",
       "      <td>0.007830</td>\n",
       "    </tr>\n",
       "    <tr>\n",
       "      <th>SaO2</th>\n",
       "      <td>-0.016675</td>\n",
       "      <td>0.077339</td>\n",
       "      <td>0.027287</td>\n",
       "      <td>0.085017</td>\n",
       "      <td>0.043346</td>\n",
       "      <td>0.018707</td>\n",
       "      <td>-0.015736</td>\n",
       "      <td>NaN</td>\n",
       "      <td>0.052761</td>\n",
       "      <td>0.008563</td>\n",
       "      <td>...</td>\n",
       "      <td>0.026083</td>\n",
       "      <td>-0.064766</td>\n",
       "      <td>0.023193</td>\n",
       "      <td>-0.016937</td>\n",
       "      <td>0.016937</td>\n",
       "      <td>0.005740</td>\n",
       "      <td>0.008646</td>\n",
       "      <td>0.001376</td>\n",
       "      <td>0.006308</td>\n",
       "      <td>0.007456</td>\n",
       "    </tr>\n",
       "    <tr>\n",
       "      <th>AST</th>\n",
       "      <td>0.062918</td>\n",
       "      <td>-0.018114</td>\n",
       "      <td>0.016566</td>\n",
       "      <td>0.047591</td>\n",
       "      <td>0.085691</td>\n",
       "      <td>0.110204</td>\n",
       "      <td>0.016413</td>\n",
       "      <td>NaN</td>\n",
       "      <td>-0.030016</td>\n",
       "      <td>-0.102347</td>\n",
       "      <td>...</td>\n",
       "      <td>-0.152330</td>\n",
       "      <td>-0.140825</td>\n",
       "      <td>-0.016089</td>\n",
       "      <td>0.027299</td>\n",
       "      <td>-0.027299</td>\n",
       "      <td>0.033358</td>\n",
       "      <td>0.018803</td>\n",
       "      <td>-0.006399</td>\n",
       "      <td>-0.004615</td>\n",
       "      <td>0.019026</td>\n",
       "    </tr>\n",
       "    <tr>\n",
       "      <th>BUN</th>\n",
       "      <td>-0.056904</td>\n",
       "      <td>-0.055073</td>\n",
       "      <td>-0.105640</td>\n",
       "      <td>0.015976</td>\n",
       "      <td>-0.062963</td>\n",
       "      <td>-0.090568</td>\n",
       "      <td>0.066896</td>\n",
       "      <td>NaN</td>\n",
       "      <td>-0.193635</td>\n",
       "      <td>-0.172512</td>\n",
       "      <td>...</td>\n",
       "      <td>-0.066035</td>\n",
       "      <td>0.203917</td>\n",
       "      <td>0.062396</td>\n",
       "      <td>0.211077</td>\n",
       "      <td>-0.211077</td>\n",
       "      <td>-0.128850</td>\n",
       "      <td>0.125190</td>\n",
       "      <td>0.046612</td>\n",
       "      <td>0.023696</td>\n",
       "      <td>0.131575</td>\n",
       "    </tr>\n",
       "    <tr>\n",
       "      <th>Alkalinephos</th>\n",
       "      <td>0.050947</td>\n",
       "      <td>-0.023616</td>\n",
       "      <td>-0.047279</td>\n",
       "      <td>-0.019229</td>\n",
       "      <td>-0.000799</td>\n",
       "      <td>-0.007175</td>\n",
       "      <td>0.078565</td>\n",
       "      <td>NaN</td>\n",
       "      <td>-0.097991</td>\n",
       "      <td>-0.088686</td>\n",
       "      <td>...</td>\n",
       "      <td>0.095788</td>\n",
       "      <td>-0.008547</td>\n",
       "      <td>-0.008068</td>\n",
       "      <td>0.161007</td>\n",
       "      <td>-0.161007</td>\n",
       "      <td>-0.133811</td>\n",
       "      <td>0.041467</td>\n",
       "      <td>0.011437</td>\n",
       "      <td>0.022057</td>\n",
       "      <td>0.046642</td>\n",
       "    </tr>\n",
       "    <tr>\n",
       "      <th>Calcium</th>\n",
       "      <td>-0.094670</td>\n",
       "      <td>-0.029984</td>\n",
       "      <td>-0.040919</td>\n",
       "      <td>0.130965</td>\n",
       "      <td>0.105901</td>\n",
       "      <td>0.083028</td>\n",
       "      <td>-0.000142</td>\n",
       "      <td>NaN</td>\n",
       "      <td>0.195218</td>\n",
       "      <td>0.237553</td>\n",
       "      <td>...</td>\n",
       "      <td>0.078640</td>\n",
       "      <td>-0.006833</td>\n",
       "      <td>-0.006993</td>\n",
       "      <td>-0.059082</td>\n",
       "      <td>0.059082</td>\n",
       "      <td>-0.013629</td>\n",
       "      <td>0.028547</td>\n",
       "      <td>-0.010496</td>\n",
       "      <td>0.022312</td>\n",
       "      <td>0.027740</td>\n",
       "    </tr>\n",
       "    <tr>\n",
       "      <th>Chloride</th>\n",
       "      <td>0.016559</td>\n",
       "      <td>0.159888</td>\n",
       "      <td>-0.045073</td>\n",
       "      <td>-0.036161</td>\n",
       "      <td>-0.000333</td>\n",
       "      <td>0.007895</td>\n",
       "      <td>-0.078152</td>\n",
       "      <td>NaN</td>\n",
       "      <td>-0.319997</td>\n",
       "      <td>-0.386595</td>\n",
       "      <td>...</td>\n",
       "      <td>-0.145101</td>\n",
       "      <td>-0.003023</td>\n",
       "      <td>-0.021143</td>\n",
       "      <td>-0.106590</td>\n",
       "      <td>0.106590</td>\n",
       "      <td>0.087763</td>\n",
       "      <td>-0.076715</td>\n",
       "      <td>-0.010062</td>\n",
       "      <td>-0.009619</td>\n",
       "      <td>-0.084941</td>\n",
       "    </tr>\n",
       "    <tr>\n",
       "      <th>Creatinine</th>\n",
       "      <td>-0.033870</td>\n",
       "      <td>-0.036828</td>\n",
       "      <td>-0.047228</td>\n",
       "      <td>0.056047</td>\n",
       "      <td>0.002285</td>\n",
       "      <td>-0.050546</td>\n",
       "      <td>0.020434</td>\n",
       "      <td>NaN</td>\n",
       "      <td>-0.235352</td>\n",
       "      <td>-0.187149</td>\n",
       "      <td>...</td>\n",
       "      <td>-0.038494</td>\n",
       "      <td>0.013681</td>\n",
       "      <td>0.068468</td>\n",
       "      <td>0.155287</td>\n",
       "      <td>-0.155287</td>\n",
       "      <td>-0.036643</td>\n",
       "      <td>0.030918</td>\n",
       "      <td>0.030622</td>\n",
       "      <td>0.014627</td>\n",
       "      <td>0.034438</td>\n",
       "    </tr>\n",
       "    <tr>\n",
       "      <th>Bilirubin_direct</th>\n",
       "      <td>-0.030196</td>\n",
       "      <td>0.010932</td>\n",
       "      <td>-0.145855</td>\n",
       "      <td>-0.042202</td>\n",
       "      <td>-0.055184</td>\n",
       "      <td>-0.038495</td>\n",
       "      <td>-0.019113</td>\n",
       "      <td>NaN</td>\n",
       "      <td>0.015444</td>\n",
       "      <td>-0.072986</td>\n",
       "      <td>...</td>\n",
       "      <td>-0.164098</td>\n",
       "      <td>-0.162900</td>\n",
       "      <td>-0.078645</td>\n",
       "      <td>0.059849</td>\n",
       "      <td>-0.059849</td>\n",
       "      <td>-0.330936</td>\n",
       "      <td>0.129840</td>\n",
       "      <td>0.056304</td>\n",
       "      <td>0.117123</td>\n",
       "      <td>0.133271</td>\n",
       "    </tr>\n",
       "    <tr>\n",
       "      <th>Glucose</th>\n",
       "      <td>0.058928</td>\n",
       "      <td>-0.037793</td>\n",
       "      <td>-0.101220</td>\n",
       "      <td>0.053477</td>\n",
       "      <td>0.054786</td>\n",
       "      <td>0.062910</td>\n",
       "      <td>0.032683</td>\n",
       "      <td>NaN</td>\n",
       "      <td>-0.155812</td>\n",
       "      <td>-0.121072</td>\n",
       "      <td>...</td>\n",
       "      <td>-0.006981</td>\n",
       "      <td>-0.004582</td>\n",
       "      <td>-0.007696</td>\n",
       "      <td>0.120731</td>\n",
       "      <td>-0.120731</td>\n",
       "      <td>0.007840</td>\n",
       "      <td>-0.041641</td>\n",
       "      <td>0.007760</td>\n",
       "      <td>-0.001570</td>\n",
       "      <td>-0.038069</td>\n",
       "    </tr>\n",
       "    <tr>\n",
       "      <th>Lactate</th>\n",
       "      <td>0.164476</td>\n",
       "      <td>-0.186173</td>\n",
       "      <td>-0.197983</td>\n",
       "      <td>-0.158435</td>\n",
       "      <td>-0.098262</td>\n",
       "      <td>-0.051806</td>\n",
       "      <td>0.142366</td>\n",
       "      <td>NaN</td>\n",
       "      <td>-0.442490</td>\n",
       "      <td>-0.396396</td>\n",
       "      <td>...</td>\n",
       "      <td>-0.175566</td>\n",
       "      <td>0.007511</td>\n",
       "      <td>-0.002622</td>\n",
       "      <td>-0.016012</td>\n",
       "      <td>0.016012</td>\n",
       "      <td>-0.000422</td>\n",
       "      <td>-0.075604</td>\n",
       "      <td>-0.003248</td>\n",
       "      <td>-0.007732</td>\n",
       "      <td>-0.077509</td>\n",
       "    </tr>\n",
       "    <tr>\n",
       "      <th>Magnesium</th>\n",
       "      <td>-0.079364</td>\n",
       "      <td>-0.025700</td>\n",
       "      <td>-0.035227</td>\n",
       "      <td>-0.057845</td>\n",
       "      <td>-0.081299</td>\n",
       "      <td>-0.104621</td>\n",
       "      <td>-0.000740</td>\n",
       "      <td>NaN</td>\n",
       "      <td>-0.004415</td>\n",
       "      <td>0.027001</td>\n",
       "      <td>...</td>\n",
       "      <td>0.005956</td>\n",
       "      <td>0.133676</td>\n",
       "      <td>0.015487</td>\n",
       "      <td>-0.180765</td>\n",
       "      <td>0.180765</td>\n",
       "      <td>-0.014784</td>\n",
       "      <td>0.090844</td>\n",
       "      <td>0.004313</td>\n",
       "      <td>0.017100</td>\n",
       "      <td>0.087152</td>\n",
       "    </tr>\n",
       "    <tr>\n",
       "      <th>Phosphate</th>\n",
       "      <td>-0.048289</td>\n",
       "      <td>-0.056292</td>\n",
       "      <td>-0.170226</td>\n",
       "      <td>-0.037607</td>\n",
       "      <td>-0.045578</td>\n",
       "      <td>-0.046783</td>\n",
       "      <td>-0.043155</td>\n",
       "      <td>NaN</td>\n",
       "      <td>-0.321371</td>\n",
       "      <td>-0.138167</td>\n",
       "      <td>...</td>\n",
       "      <td>0.003775</td>\n",
       "      <td>0.039417</td>\n",
       "      <td>0.031838</td>\n",
       "      <td>-0.032689</td>\n",
       "      <td>0.032689</td>\n",
       "      <td>-0.072600</td>\n",
       "      <td>-0.018156</td>\n",
       "      <td>0.014414</td>\n",
       "      <td>-0.000497</td>\n",
       "      <td>-0.018007</td>\n",
       "    </tr>\n",
       "    <tr>\n",
       "      <th>Potassium</th>\n",
       "      <td>0.008433</td>\n",
       "      <td>-0.026894</td>\n",
       "      <td>0.092080</td>\n",
       "      <td>-0.108094</td>\n",
       "      <td>-0.101070</td>\n",
       "      <td>-0.108842</td>\n",
       "      <td>0.011109</td>\n",
       "      <td>NaN</td>\n",
       "      <td>-0.237528</td>\n",
       "      <td>-0.155008</td>\n",
       "      <td>...</td>\n",
       "      <td>0.012949</td>\n",
       "      <td>0.061602</td>\n",
       "      <td>0.088907</td>\n",
       "      <td>-0.139319</td>\n",
       "      <td>0.139319</td>\n",
       "      <td>-0.035096</td>\n",
       "      <td>-0.068880</td>\n",
       "      <td>-0.003268</td>\n",
       "      <td>-0.005807</td>\n",
       "      <td>-0.073709</td>\n",
       "    </tr>\n",
       "    <tr>\n",
       "      <th>Bilirubin_total</th>\n",
       "      <td>0.008226</td>\n",
       "      <td>-0.030094</td>\n",
       "      <td>-0.054350</td>\n",
       "      <td>0.003308</td>\n",
       "      <td>0.003099</td>\n",
       "      <td>0.040702</td>\n",
       "      <td>0.033231</td>\n",
       "      <td>NaN</td>\n",
       "      <td>0.043128</td>\n",
       "      <td>-0.087617</td>\n",
       "      <td>...</td>\n",
       "      <td>-0.237440</td>\n",
       "      <td>-0.133264</td>\n",
       "      <td>0.001945</td>\n",
       "      <td>0.094658</td>\n",
       "      <td>-0.094658</td>\n",
       "      <td>-0.186280</td>\n",
       "      <td>0.275535</td>\n",
       "      <td>0.048521</td>\n",
       "      <td>0.060917</td>\n",
       "      <td>0.280786</td>\n",
       "    </tr>\n",
       "    <tr>\n",
       "      <th>TroponinI</th>\n",
       "      <td>0.028630</td>\n",
       "      <td>0.006441</td>\n",
       "      <td>-0.001016</td>\n",
       "      <td>-0.048146</td>\n",
       "      <td>-0.040566</td>\n",
       "      <td>-0.075655</td>\n",
       "      <td>-0.041379</td>\n",
       "      <td>NaN</td>\n",
       "      <td>0.027862</td>\n",
       "      <td>-0.099946</td>\n",
       "      <td>...</td>\n",
       "      <td>-0.018835</td>\n",
       "      <td>0.062326</td>\n",
       "      <td>0.053674</td>\n",
       "      <td>-0.133654</td>\n",
       "      <td>0.133654</td>\n",
       "      <td>-0.048382</td>\n",
       "      <td>0.026990</td>\n",
       "      <td>-0.053087</td>\n",
       "      <td>-0.062154</td>\n",
       "      <td>0.021455</td>\n",
       "    </tr>\n",
       "    <tr>\n",
       "      <th>Hct</th>\n",
       "      <td>-0.049364</td>\n",
       "      <td>-0.096172</td>\n",
       "      <td>-0.013333</td>\n",
       "      <td>0.089996</td>\n",
       "      <td>0.168324</td>\n",
       "      <td>0.211160</td>\n",
       "      <td>0.020273</td>\n",
       "      <td>NaN</td>\n",
       "      <td>-0.076090</td>\n",
       "      <td>0.040906</td>\n",
       "      <td>...</td>\n",
       "      <td>0.099126</td>\n",
       "      <td>-0.056899</td>\n",
       "      <td>0.075736</td>\n",
       "      <td>0.084454</td>\n",
       "      <td>-0.084454</td>\n",
       "      <td>0.108238</td>\n",
       "      <td>-0.090813</td>\n",
       "      <td>-0.011610</td>\n",
       "      <td>-0.003318</td>\n",
       "      <td>-0.083615</td>\n",
       "    </tr>\n",
       "    <tr>\n",
       "      <th>Hgb</th>\n",
       "      <td>-0.047971</td>\n",
       "      <td>-0.081828</td>\n",
       "      <td>0.002361</td>\n",
       "      <td>0.099733</td>\n",
       "      <td>0.183093</td>\n",
       "      <td>0.231893</td>\n",
       "      <td>0.011965</td>\n",
       "      <td>NaN</td>\n",
       "      <td>-0.047236</td>\n",
       "      <td>0.022020</td>\n",
       "      <td>...</td>\n",
       "      <td>0.015647</td>\n",
       "      <td>-0.101030</td>\n",
       "      <td>0.113157</td>\n",
       "      <td>0.061972</td>\n",
       "      <td>-0.061972</td>\n",
       "      <td>0.125579</td>\n",
       "      <td>-0.103082</td>\n",
       "      <td>-0.020751</td>\n",
       "      <td>-0.003165</td>\n",
       "      <td>-0.096918</td>\n",
       "    </tr>\n",
       "    <tr>\n",
       "      <th>PTT</th>\n",
       "      <td>0.011112</td>\n",
       "      <td>-0.075712</td>\n",
       "      <td>-0.104205</td>\n",
       "      <td>-0.109448</td>\n",
       "      <td>-0.073478</td>\n",
       "      <td>-0.083586</td>\n",
       "      <td>0.067554</td>\n",
       "      <td>NaN</td>\n",
       "      <td>-0.231925</td>\n",
       "      <td>-0.130578</td>\n",
       "      <td>...</td>\n",
       "      <td>-0.043891</td>\n",
       "      <td>0.093748</td>\n",
       "      <td>-0.024488</td>\n",
       "      <td>0.046279</td>\n",
       "      <td>-0.046279</td>\n",
       "      <td>-0.015301</td>\n",
       "      <td>0.027812</td>\n",
       "      <td>0.021224</td>\n",
       "      <td>-0.002125</td>\n",
       "      <td>0.031397</td>\n",
       "    </tr>\n",
       "    <tr>\n",
       "      <th>WBC</th>\n",
       "      <td>0.120326</td>\n",
       "      <td>-0.027574</td>\n",
       "      <td>0.020897</td>\n",
       "      <td>-0.041659</td>\n",
       "      <td>-0.023925</td>\n",
       "      <td>-0.010022</td>\n",
       "      <td>0.043812</td>\n",
       "      <td>NaN</td>\n",
       "      <td>-0.166125</td>\n",
       "      <td>-0.117229</td>\n",
       "      <td>...</td>\n",
       "      <td>0.204448</td>\n",
       "      <td>0.014975</td>\n",
       "      <td>-0.009650</td>\n",
       "      <td>-0.062665</td>\n",
       "      <td>0.062665</td>\n",
       "      <td>-0.016320</td>\n",
       "      <td>-0.017946</td>\n",
       "      <td>0.026619</td>\n",
       "      <td>-0.003855</td>\n",
       "      <td>-0.019202</td>\n",
       "    </tr>\n",
       "    <tr>\n",
       "      <th>Fibrinogen</th>\n",
       "      <td>0.061562</td>\n",
       "      <td>-0.071855</td>\n",
       "      <td>0.259710</td>\n",
       "      <td>0.029447</td>\n",
       "      <td>0.014283</td>\n",
       "      <td>-0.005666</td>\n",
       "      <td>0.127563</td>\n",
       "      <td>NaN</td>\n",
       "      <td>0.110283</td>\n",
       "      <td>0.092966</td>\n",
       "      <td>...</td>\n",
       "      <td>0.334678</td>\n",
       "      <td>0.034008</td>\n",
       "      <td>-0.024669</td>\n",
       "      <td>0.196608</td>\n",
       "      <td>-0.196608</td>\n",
       "      <td>-0.005482</td>\n",
       "      <td>0.108607</td>\n",
       "      <td>0.054479</td>\n",
       "      <td>0.018604</td>\n",
       "      <td>0.112278</td>\n",
       "    </tr>\n",
       "    <tr>\n",
       "      <th>Platelets</th>\n",
       "      <td>0.026818</td>\n",
       "      <td>-0.022018</td>\n",
       "      <td>0.025325</td>\n",
       "      <td>0.020214</td>\n",
       "      <td>0.015516</td>\n",
       "      <td>0.033752</td>\n",
       "      <td>0.070787</td>\n",
       "      <td>NaN</td>\n",
       "      <td>0.072628</td>\n",
       "      <td>0.091295</td>\n",
       "      <td>...</td>\n",
       "      <td>1.000000</td>\n",
       "      <td>-0.036489</td>\n",
       "      <td>-0.091840</td>\n",
       "      <td>0.177816</td>\n",
       "      <td>-0.177816</td>\n",
       "      <td>-0.013765</td>\n",
       "      <td>-0.025283</td>\n",
       "      <td>-0.003827</td>\n",
       "      <td>-0.004256</td>\n",
       "      <td>-0.019618</td>\n",
       "    </tr>\n",
       "    <tr>\n",
       "      <th>Age</th>\n",
       "      <td>-0.185891</td>\n",
       "      <td>-0.043237</td>\n",
       "      <td>-0.106214</td>\n",
       "      <td>-0.000401</td>\n",
       "      <td>-0.171660</td>\n",
       "      <td>-0.330808</td>\n",
       "      <td>0.033527</td>\n",
       "      <td>NaN</td>\n",
       "      <td>-0.046142</td>\n",
       "      <td>0.019853</td>\n",
       "      <td>...</td>\n",
       "      <td>-0.036489</td>\n",
       "      <td>1.000000</td>\n",
       "      <td>-0.056402</td>\n",
       "      <td>-0.189701</td>\n",
       "      <td>0.189701</td>\n",
       "      <td>-0.007825</td>\n",
       "      <td>0.026222</td>\n",
       "      <td>-0.002127</td>\n",
       "      <td>0.000037</td>\n",
       "      <td>0.024404</td>\n",
       "    </tr>\n",
       "    <tr>\n",
       "      <th>Gender</th>\n",
       "      <td>-0.032591</td>\n",
       "      <td>-0.029580</td>\n",
       "      <td>0.058439</td>\n",
       "      <td>-0.010027</td>\n",
       "      <td>0.023771</td>\n",
       "      <td>0.014550</td>\n",
       "      <td>0.006272</td>\n",
       "      <td>NaN</td>\n",
       "      <td>0.025591</td>\n",
       "      <td>0.042743</td>\n",
       "      <td>...</td>\n",
       "      <td>-0.091840</td>\n",
       "      <td>-0.056402</td>\n",
       "      <td>1.000000</td>\n",
       "      <td>-0.138389</td>\n",
       "      <td>0.138389</td>\n",
       "      <td>0.024485</td>\n",
       "      <td>0.010372</td>\n",
       "      <td>0.009625</td>\n",
       "      <td>0.000769</td>\n",
       "      <td>0.008353</td>\n",
       "    </tr>\n",
       "    <tr>\n",
       "      <th>Unit1</th>\n",
       "      <td>0.055879</td>\n",
       "      <td>-0.053364</td>\n",
       "      <td>-0.161930</td>\n",
       "      <td>0.192406</td>\n",
       "      <td>0.217379</td>\n",
       "      <td>0.267288</td>\n",
       "      <td>0.086136</td>\n",
       "      <td>NaN</td>\n",
       "      <td>0.057617</td>\n",
       "      <td>-0.060735</td>\n",
       "      <td>...</td>\n",
       "      <td>0.177816</td>\n",
       "      <td>-0.189701</td>\n",
       "      <td>-0.138389</td>\n",
       "      <td>1.000000</td>\n",
       "      <td>-1.000000</td>\n",
       "      <td>-0.001340</td>\n",
       "      <td>0.025392</td>\n",
       "      <td>0.058530</td>\n",
       "      <td>0.004701</td>\n",
       "      <td>0.055634</td>\n",
       "    </tr>\n",
       "    <tr>\n",
       "      <th>Unit2</th>\n",
       "      <td>-0.055879</td>\n",
       "      <td>0.053364</td>\n",
       "      <td>0.161930</td>\n",
       "      <td>-0.192406</td>\n",
       "      <td>-0.217379</td>\n",
       "      <td>-0.267288</td>\n",
       "      <td>-0.086136</td>\n",
       "      <td>NaN</td>\n",
       "      <td>-0.057617</td>\n",
       "      <td>0.060735</td>\n",
       "      <td>...</td>\n",
       "      <td>-0.177816</td>\n",
       "      <td>0.189701</td>\n",
       "      <td>0.138389</td>\n",
       "      <td>-1.000000</td>\n",
       "      <td>1.000000</td>\n",
       "      <td>0.001340</td>\n",
       "      <td>-0.025392</td>\n",
       "      <td>-0.058530</td>\n",
       "      <td>-0.004701</td>\n",
       "      <td>-0.055634</td>\n",
       "    </tr>\n",
       "    <tr>\n",
       "      <th>HospAdmTime</th>\n",
       "      <td>-0.047555</td>\n",
       "      <td>0.001213</td>\n",
       "      <td>0.042897</td>\n",
       "      <td>0.035449</td>\n",
       "      <td>0.037319</td>\n",
       "      <td>0.028828</td>\n",
       "      <td>-0.039412</td>\n",
       "      <td>NaN</td>\n",
       "      <td>-0.021525</td>\n",
       "      <td>-0.020611</td>\n",
       "      <td>...</td>\n",
       "      <td>-0.013765</td>\n",
       "      <td>-0.007825</td>\n",
       "      <td>0.024485</td>\n",
       "      <td>-0.001340</td>\n",
       "      <td>0.001340</td>\n",
       "      <td>1.000000</td>\n",
       "      <td>-0.046850</td>\n",
       "      <td>-0.025938</td>\n",
       "      <td>-0.027429</td>\n",
       "      <td>-0.048863</td>\n",
       "    </tr>\n",
       "    <tr>\n",
       "      <th>ICULOS</th>\n",
       "      <td>0.032503</td>\n",
       "      <td>-0.046736</td>\n",
       "      <td>0.097013</td>\n",
       "      <td>0.094355</td>\n",
       "      <td>0.050819</td>\n",
       "      <td>0.045990</td>\n",
       "      <td>0.118358</td>\n",
       "      <td>NaN</td>\n",
       "      <td>0.155526</td>\n",
       "      <td>0.118568</td>\n",
       "      <td>...</td>\n",
       "      <td>-0.025283</td>\n",
       "      <td>0.026222</td>\n",
       "      <td>0.010372</td>\n",
       "      <td>0.025392</td>\n",
       "      <td>-0.025392</td>\n",
       "      <td>-0.046850</td>\n",
       "      <td>1.000000</td>\n",
       "      <td>0.150257</td>\n",
       "      <td>0.010592</td>\n",
       "      <td>0.990500</td>\n",
       "    </tr>\n",
       "    <tr>\n",
       "      <th>SepsisLabel</th>\n",
       "      <td>0.047464</td>\n",
       "      <td>-0.007670</td>\n",
       "      <td>0.041924</td>\n",
       "      <td>-0.005123</td>\n",
       "      <td>-0.005282</td>\n",
       "      <td>0.007527</td>\n",
       "      <td>0.055194</td>\n",
       "      <td>NaN</td>\n",
       "      <td>0.019161</td>\n",
       "      <td>-0.014065</td>\n",
       "      <td>...</td>\n",
       "      <td>-0.003827</td>\n",
       "      <td>-0.002127</td>\n",
       "      <td>0.009625</td>\n",
       "      <td>0.058530</td>\n",
       "      <td>-0.058530</td>\n",
       "      <td>-0.025938</td>\n",
       "      <td>0.150257</td>\n",
       "      <td>1.000000</td>\n",
       "      <td>0.001944</td>\n",
       "      <td>0.151241</td>\n",
       "    </tr>\n",
       "    <tr>\n",
       "      <th>Patient_id</th>\n",
       "      <td>-0.003502</td>\n",
       "      <td>-0.002360</td>\n",
       "      <td>-0.007288</td>\n",
       "      <td>0.011258</td>\n",
       "      <td>0.010070</td>\n",
       "      <td>0.006627</td>\n",
       "      <td>-0.002993</td>\n",
       "      <td>NaN</td>\n",
       "      <td>0.007277</td>\n",
       "      <td>-0.007441</td>\n",
       "      <td>...</td>\n",
       "      <td>-0.004256</td>\n",
       "      <td>0.000037</td>\n",
       "      <td>0.000769</td>\n",
       "      <td>0.004701</td>\n",
       "      <td>-0.004701</td>\n",
       "      <td>-0.027429</td>\n",
       "      <td>0.010592</td>\n",
       "      <td>0.001944</td>\n",
       "      <td>1.000000</td>\n",
       "      <td>0.009764</td>\n",
       "    </tr>\n",
       "    <tr>\n",
       "      <th>time</th>\n",
       "      <td>0.031963</td>\n",
       "      <td>-0.048595</td>\n",
       "      <td>0.093370</td>\n",
       "      <td>0.097070</td>\n",
       "      <td>0.054056</td>\n",
       "      <td>0.051459</td>\n",
       "      <td>0.120100</td>\n",
       "      <td>NaN</td>\n",
       "      <td>0.157087</td>\n",
       "      <td>0.119727</td>\n",
       "      <td>...</td>\n",
       "      <td>-0.019618</td>\n",
       "      <td>0.024404</td>\n",
       "      <td>0.008353</td>\n",
       "      <td>0.055634</td>\n",
       "      <td>-0.055634</td>\n",
       "      <td>-0.048863</td>\n",
       "      <td>0.990500</td>\n",
       "      <td>0.151241</td>\n",
       "      <td>0.009764</td>\n",
       "      <td>1.000000</td>\n",
       "    </tr>\n",
       "  </tbody>\n",
       "</table>\n",
       "<p>43 rows × 43 columns</p>\n",
       "</div>"
      ],
      "text/plain": [
       "                        HR     O2Sat      Temp       SBP       MAP       DBP  \\\n",
       "HR                1.000000 -0.083892  0.257408 -0.027233  0.113059  0.194198   \n",
       "O2Sat            -0.083892  1.000000 -0.030651  0.041769  0.049761  0.035513   \n",
       "Temp              0.257408 -0.030651  1.000000  0.008748 -0.017643 -0.033184   \n",
       "SBP              -0.027233  0.041769  0.008748  1.000000  0.773763  0.534488   \n",
       "MAP               0.113059  0.049761 -0.017643  0.773763  1.000000  0.802643   \n",
       "DBP               0.194198  0.035513 -0.033184  0.534488  0.802643  1.000000   \n",
       "Resp              0.245858 -0.163217  0.143032  0.055809  0.048167  0.054128   \n",
       "EtCO2                  NaN       NaN       NaN       NaN       NaN       NaN   \n",
       "BaseExcess       -0.092058  0.032360  0.146893  0.151605  0.111652  0.080441   \n",
       "HCO3             -0.092635 -0.060713  0.078264  0.057455  0.021869  0.023210   \n",
       "FiO2              0.083648 -0.166099 -0.196671 -0.088046 -0.055500 -0.027474   \n",
       "pH               -0.099068  0.105905  0.188488  0.131737  0.098073  0.067508   \n",
       "PaCO2             0.027580 -0.110843 -0.048719  0.011894  0.000096 -0.002207   \n",
       "SaO2             -0.016675  0.077339  0.027287  0.085017  0.043346  0.018707   \n",
       "AST               0.062918 -0.018114  0.016566  0.047591  0.085691  0.110204   \n",
       "BUN              -0.056904 -0.055073 -0.105640  0.015976 -0.062963 -0.090568   \n",
       "Alkalinephos      0.050947 -0.023616 -0.047279 -0.019229 -0.000799 -0.007175   \n",
       "Calcium          -0.094670 -0.029984 -0.040919  0.130965  0.105901  0.083028   \n",
       "Chloride          0.016559  0.159888 -0.045073 -0.036161 -0.000333  0.007895   \n",
       "Creatinine       -0.033870 -0.036828 -0.047228  0.056047  0.002285 -0.050546   \n",
       "Bilirubin_direct -0.030196  0.010932 -0.145855 -0.042202 -0.055184 -0.038495   \n",
       "Glucose           0.058928 -0.037793 -0.101220  0.053477  0.054786  0.062910   \n",
       "Lactate           0.164476 -0.186173 -0.197983 -0.158435 -0.098262 -0.051806   \n",
       "Magnesium        -0.079364 -0.025700 -0.035227 -0.057845 -0.081299 -0.104621   \n",
       "Phosphate        -0.048289 -0.056292 -0.170226 -0.037607 -0.045578 -0.046783   \n",
       "Potassium         0.008433 -0.026894  0.092080 -0.108094 -0.101070 -0.108842   \n",
       "Bilirubin_total   0.008226 -0.030094 -0.054350  0.003308  0.003099  0.040702   \n",
       "TroponinI         0.028630  0.006441 -0.001016 -0.048146 -0.040566 -0.075655   \n",
       "Hct              -0.049364 -0.096172 -0.013333  0.089996  0.168324  0.211160   \n",
       "Hgb              -0.047971 -0.081828  0.002361  0.099733  0.183093  0.231893   \n",
       "PTT               0.011112 -0.075712 -0.104205 -0.109448 -0.073478 -0.083586   \n",
       "WBC               0.120326 -0.027574  0.020897 -0.041659 -0.023925 -0.010022   \n",
       "Fibrinogen        0.061562 -0.071855  0.259710  0.029447  0.014283 -0.005666   \n",
       "Platelets         0.026818 -0.022018  0.025325  0.020214  0.015516  0.033752   \n",
       "Age              -0.185891 -0.043237 -0.106214 -0.000401 -0.171660 -0.330808   \n",
       "Gender           -0.032591 -0.029580  0.058439 -0.010027  0.023771  0.014550   \n",
       "Unit1             0.055879 -0.053364 -0.161930  0.192406  0.217379  0.267288   \n",
       "Unit2            -0.055879  0.053364  0.161930 -0.192406 -0.217379 -0.267288   \n",
       "HospAdmTime      -0.047555  0.001213  0.042897  0.035449  0.037319  0.028828   \n",
       "ICULOS            0.032503 -0.046736  0.097013  0.094355  0.050819  0.045990   \n",
       "SepsisLabel       0.047464 -0.007670  0.041924 -0.005123 -0.005282  0.007527   \n",
       "Patient_id       -0.003502 -0.002360 -0.007288  0.011258  0.010070  0.006627   \n",
       "time              0.031963 -0.048595  0.093370  0.097070  0.054056  0.051459   \n",
       "\n",
       "                      Resp  EtCO2  BaseExcess      HCO3  ...  Platelets  \\\n",
       "HR                0.245858    NaN   -0.092058 -0.092635  ...   0.026818   \n",
       "O2Sat            -0.163217    NaN    0.032360 -0.060713  ...  -0.022018   \n",
       "Temp              0.143032    NaN    0.146893  0.078264  ...   0.025325   \n",
       "SBP               0.055809    NaN    0.151605  0.057455  ...   0.020214   \n",
       "MAP               0.048167    NaN    0.111652  0.021869  ...   0.015516   \n",
       "DBP               0.054128    NaN    0.080441  0.023210  ...   0.033752   \n",
       "Resp              1.000000    NaN   -0.034433 -0.041827  ...   0.070787   \n",
       "EtCO2                  NaN    NaN         NaN       NaN  ...        NaN   \n",
       "BaseExcess       -0.034433    NaN    1.000000  0.854823  ...   0.072628   \n",
       "HCO3             -0.041827    NaN    0.854823  1.000000  ...   0.091295   \n",
       "FiO2              0.071015    NaN   -0.131298 -0.081687  ...  -0.065538   \n",
       "pH                0.019934    NaN    0.647157  0.385203  ...   0.006337   \n",
       "PaCO2            -0.040855    NaN    0.361471  0.572452  ...   0.075395   \n",
       "SaO2             -0.015736    NaN    0.052761  0.008563  ...   0.026083   \n",
       "AST               0.016413    NaN   -0.030016 -0.102347  ...  -0.152330   \n",
       "BUN               0.066896    NaN   -0.193635 -0.172512  ...  -0.066035   \n",
       "Alkalinephos      0.078565    NaN   -0.097991 -0.088686  ...   0.095788   \n",
       "Calcium          -0.000142    NaN    0.195218  0.237553  ...   0.078640   \n",
       "Chloride         -0.078152    NaN   -0.319997 -0.386595  ...  -0.145101   \n",
       "Creatinine        0.020434    NaN   -0.235352 -0.187149  ...  -0.038494   \n",
       "Bilirubin_direct -0.019113    NaN    0.015444 -0.072986  ...  -0.164098   \n",
       "Glucose           0.032683    NaN   -0.155812 -0.121072  ...  -0.006981   \n",
       "Lactate           0.142366    NaN   -0.442490 -0.396396  ...  -0.175566   \n",
       "Magnesium        -0.000740    NaN   -0.004415  0.027001  ...   0.005956   \n",
       "Phosphate        -0.043155    NaN   -0.321371 -0.138167  ...   0.003775   \n",
       "Potassium         0.011109    NaN   -0.237528 -0.155008  ...   0.012949   \n",
       "Bilirubin_total   0.033231    NaN    0.043128 -0.087617  ...  -0.237440   \n",
       "TroponinI        -0.041379    NaN    0.027862 -0.099946  ...  -0.018835   \n",
       "Hct               0.020273    NaN   -0.076090  0.040906  ...   0.099126   \n",
       "Hgb               0.011965    NaN   -0.047236  0.022020  ...   0.015647   \n",
       "PTT               0.067554    NaN   -0.231925 -0.130578  ...  -0.043891   \n",
       "WBC               0.043812    NaN   -0.166125 -0.117229  ...   0.204448   \n",
       "Fibrinogen        0.127563    NaN    0.110283  0.092966  ...   0.334678   \n",
       "Platelets         0.070787    NaN    0.072628  0.091295  ...   1.000000   \n",
       "Age               0.033527    NaN   -0.046142  0.019853  ...  -0.036489   \n",
       "Gender            0.006272    NaN    0.025591  0.042743  ...  -0.091840   \n",
       "Unit1             0.086136    NaN    0.057617 -0.060735  ...   0.177816   \n",
       "Unit2            -0.086136    NaN   -0.057617  0.060735  ...  -0.177816   \n",
       "HospAdmTime      -0.039412    NaN   -0.021525 -0.020611  ...  -0.013765   \n",
       "ICULOS            0.118358    NaN    0.155526  0.118568  ...  -0.025283   \n",
       "SepsisLabel       0.055194    NaN    0.019161 -0.014065  ...  -0.003827   \n",
       "Patient_id       -0.002993    NaN    0.007277 -0.007441  ...  -0.004256   \n",
       "time              0.120100    NaN    0.157087  0.119727  ...  -0.019618   \n",
       "\n",
       "                       Age    Gender     Unit1     Unit2  HospAdmTime  \\\n",
       "HR               -0.185891 -0.032591  0.055879 -0.055879    -0.047555   \n",
       "O2Sat            -0.043237 -0.029580 -0.053364  0.053364     0.001213   \n",
       "Temp             -0.106214  0.058439 -0.161930  0.161930     0.042897   \n",
       "SBP              -0.000401 -0.010027  0.192406 -0.192406     0.035449   \n",
       "MAP              -0.171660  0.023771  0.217379 -0.217379     0.037319   \n",
       "DBP              -0.330808  0.014550  0.267288 -0.267288     0.028828   \n",
       "Resp              0.033527  0.006272  0.086136 -0.086136    -0.039412   \n",
       "EtCO2                  NaN       NaN       NaN       NaN          NaN   \n",
       "BaseExcess       -0.046142  0.025591  0.057617 -0.057617    -0.021525   \n",
       "HCO3              0.019853  0.042743 -0.060735  0.060735    -0.020611   \n",
       "FiO2              0.022724  0.049561 -0.103076  0.103076     0.004819   \n",
       "pH               -0.001355  0.015191 -0.081442  0.081442    -0.006977   \n",
       "PaCO2            -0.042835  0.009458  0.122826 -0.122826    -0.021905   \n",
       "SaO2             -0.064766  0.023193 -0.016937  0.016937     0.005740   \n",
       "AST              -0.140825 -0.016089  0.027299 -0.027299     0.033358   \n",
       "BUN               0.203917  0.062396  0.211077 -0.211077    -0.128850   \n",
       "Alkalinephos     -0.008547 -0.008068  0.161007 -0.161007    -0.133811   \n",
       "Calcium          -0.006833 -0.006993 -0.059082  0.059082    -0.013629   \n",
       "Chloride         -0.003023 -0.021143 -0.106590  0.106590     0.087763   \n",
       "Creatinine        0.013681  0.068468  0.155287 -0.155287    -0.036643   \n",
       "Bilirubin_direct -0.162900 -0.078645  0.059849 -0.059849    -0.330936   \n",
       "Glucose          -0.004582 -0.007696  0.120731 -0.120731     0.007840   \n",
       "Lactate           0.007511 -0.002622 -0.016012  0.016012    -0.000422   \n",
       "Magnesium         0.133676  0.015487 -0.180765  0.180765    -0.014784   \n",
       "Phosphate         0.039417  0.031838 -0.032689  0.032689    -0.072600   \n",
       "Potassium         0.061602  0.088907 -0.139319  0.139319    -0.035096   \n",
       "Bilirubin_total  -0.133264  0.001945  0.094658 -0.094658    -0.186280   \n",
       "TroponinI         0.062326  0.053674 -0.133654  0.133654    -0.048382   \n",
       "Hct              -0.056899  0.075736  0.084454 -0.084454     0.108238   \n",
       "Hgb              -0.101030  0.113157  0.061972 -0.061972     0.125579   \n",
       "PTT               0.093748 -0.024488  0.046279 -0.046279    -0.015301   \n",
       "WBC               0.014975 -0.009650 -0.062665  0.062665    -0.016320   \n",
       "Fibrinogen        0.034008 -0.024669  0.196608 -0.196608    -0.005482   \n",
       "Platelets        -0.036489 -0.091840  0.177816 -0.177816    -0.013765   \n",
       "Age               1.000000 -0.056402 -0.189701  0.189701    -0.007825   \n",
       "Gender           -0.056402  1.000000 -0.138389  0.138389     0.024485   \n",
       "Unit1            -0.189701 -0.138389  1.000000 -1.000000    -0.001340   \n",
       "Unit2             0.189701  0.138389 -1.000000  1.000000     0.001340   \n",
       "HospAdmTime      -0.007825  0.024485 -0.001340  0.001340     1.000000   \n",
       "ICULOS            0.026222  0.010372  0.025392 -0.025392    -0.046850   \n",
       "SepsisLabel      -0.002127  0.009625  0.058530 -0.058530    -0.025938   \n",
       "Patient_id        0.000037  0.000769  0.004701 -0.004701    -0.027429   \n",
       "time              0.024404  0.008353  0.055634 -0.055634    -0.048863   \n",
       "\n",
       "                    ICULOS  SepsisLabel  Patient_id      time  \n",
       "HR                0.032503     0.047464   -0.003502  0.031963  \n",
       "O2Sat            -0.046736    -0.007670   -0.002360 -0.048595  \n",
       "Temp              0.097013     0.041924   -0.007288  0.093370  \n",
       "SBP               0.094355    -0.005123    0.011258  0.097070  \n",
       "MAP               0.050819    -0.005282    0.010070  0.054056  \n",
       "DBP               0.045990     0.007527    0.006627  0.051459  \n",
       "Resp              0.118358     0.055194   -0.002993  0.120100  \n",
       "EtCO2                  NaN          NaN         NaN       NaN  \n",
       "BaseExcess        0.155526     0.019161    0.007277  0.157087  \n",
       "HCO3              0.118568    -0.014065   -0.007441  0.119727  \n",
       "FiO2             -0.110155     0.017002   -0.006012 -0.113044  \n",
       "pH                0.157509     0.000810    0.020742  0.156570  \n",
       "PaCO2             0.005519     0.021456   -0.019861  0.007830  \n",
       "SaO2              0.008646     0.001376    0.006308  0.007456  \n",
       "AST               0.018803    -0.006399   -0.004615  0.019026  \n",
       "BUN               0.125190     0.046612    0.023696  0.131575  \n",
       "Alkalinephos      0.041467     0.011437    0.022057  0.046642  \n",
       "Calcium           0.028547    -0.010496    0.022312  0.027740  \n",
       "Chloride         -0.076715    -0.010062   -0.009619 -0.084941  \n",
       "Creatinine        0.030918     0.030622    0.014627  0.034438  \n",
       "Bilirubin_direct  0.129840     0.056304    0.117123  0.133271  \n",
       "Glucose          -0.041641     0.007760   -0.001570 -0.038069  \n",
       "Lactate          -0.075604    -0.003248   -0.007732 -0.077509  \n",
       "Magnesium         0.090844     0.004313    0.017100  0.087152  \n",
       "Phosphate        -0.018156     0.014414   -0.000497 -0.018007  \n",
       "Potassium        -0.068880    -0.003268   -0.005807 -0.073709  \n",
       "Bilirubin_total   0.275535     0.048521    0.060917  0.280786  \n",
       "TroponinI         0.026990    -0.053087   -0.062154  0.021455  \n",
       "Hct              -0.090813    -0.011610   -0.003318 -0.083615  \n",
       "Hgb              -0.103082    -0.020751   -0.003165 -0.096918  \n",
       "PTT               0.027812     0.021224   -0.002125  0.031397  \n",
       "WBC              -0.017946     0.026619   -0.003855 -0.019202  \n",
       "Fibrinogen        0.108607     0.054479    0.018604  0.112278  \n",
       "Platelets        -0.025283    -0.003827   -0.004256 -0.019618  \n",
       "Age               0.026222    -0.002127    0.000037  0.024404  \n",
       "Gender            0.010372     0.009625    0.000769  0.008353  \n",
       "Unit1             0.025392     0.058530    0.004701  0.055634  \n",
       "Unit2            -0.025392    -0.058530   -0.004701 -0.055634  \n",
       "HospAdmTime      -0.046850    -0.025938   -0.027429 -0.048863  \n",
       "ICULOS            1.000000     0.150257    0.010592  0.990500  \n",
       "SepsisLabel       0.150257     1.000000    0.001944  0.151241  \n",
       "Patient_id        0.010592     0.001944    1.000000  0.009764  \n",
       "time              0.990500     0.151241    0.009764  1.000000  \n",
       "\n",
       "[43 rows x 43 columns]"
      ]
     },
     "execution_count": 10,
     "metadata": {},
     "output_type": "execute_result"
    }
   ],
   "source": [
    "df.corr()"
   ]
  },
  {
   "cell_type": "markdown",
   "metadata": {},
   "source": [
    "## Details about particular Attributes."
   ]
  },
  {
   "cell_type": "markdown",
   "metadata": {},
   "source": [
    "![](sis_1.png)"
   ]
  },
  {
   "cell_type": "markdown",
   "metadata": {},
   "source": [
    "![](sis_2.png)"
   ]
  },
  {
   "cell_type": "markdown",
   "metadata": {},
   "source": [
    "## method to remove nan values using iterative_imputer"
   ]
  },
  {
   "cell_type": "code",
   "execution_count": 11,
   "metadata": {},
   "outputs": [],
   "source": [
    "def imputation(X,Y):\n",
    "    X_arr = pd.DataFrame(X).to_numpy(dtype=float)\n",
    "    Y_arr = pd.DataFrame(Y).to_numpy(dtype=float)\n",
    "    \n",
    "    \n",
    "    add = np.concatenate((X_arr,Y_arr),axis=1)\n",
    "    imp = IterativeImputer(max_iter=10, random_state=0,sample_posterior=True)\n",
    "    imp.fit(add)\n",
    "    impute = np.round(imp.transform(add),decimals=3)\n",
    "    \n",
    "    return impute"
   ]
  },
  {
   "cell_type": "markdown",
   "metadata": {},
   "source": [
    "# Vital Signs:"
   ]
  },
  {
   "cell_type": "markdown",
   "metadata": {},
   "source": [
    "## HR \tHeart rate (beats per minute)"
   ]
  },
  {
   "cell_type": "code",
   "execution_count": 12,
   "metadata": {},
   "outputs": [
    {
     "data": {
      "text/plain": [
       "84.0"
      ]
     },
     "execution_count": 12,
     "metadata": {},
     "output_type": "execute_result"
    }
   ],
   "source": [
    "df['HR'].median()"
   ]
  },
  {
   "cell_type": "code",
   "execution_count": 13,
   "metadata": {},
   "outputs": [
    {
     "data": {
      "text/plain": [
       "84.98526444873023"
      ]
     },
     "execution_count": 13,
     "metadata": {},
     "output_type": "execute_result"
    }
   ],
   "source": [
    "df['HR'].mean()"
   ]
  },
  {
   "cell_type": "code",
   "execution_count": 14,
   "metadata": {},
   "outputs": [],
   "source": [
    "df['HR']=df['HR'].fillna(df['HR'].median())"
   ]
  },
  {
   "cell_type": "code",
   "execution_count": 15,
   "metadata": {},
   "outputs": [
    {
     "data": {
      "text/plain": [
       "count    790215.000000\n",
       "mean         84.908972\n",
       "std          16.273470\n",
       "min          20.000000\n",
       "25%          74.000000\n",
       "50%          84.000000\n",
       "75%          94.000000\n",
       "max         280.000000\n",
       "Name: HR, dtype: float64"
      ]
     },
     "execution_count": 15,
     "metadata": {},
     "output_type": "execute_result"
    }
   ],
   "source": [
    "df['HR'].describe()"
   ]
  },
  {
   "cell_type": "code",
   "execution_count": 16,
   "metadata": {},
   "outputs": [
    {
     "data": {
      "image/png": "[encoded data removed]",
      "text/plain": [
       "<Figure size 1152x648 with 2 Axes>"
      ]
     },
     "metadata": {
      "needs_background": "light"
     },
     "output_type": "display_data"
    }
   ],
   "source": [
    "plt.figure(figsize=(16,9))\n",
    "\n",
    "plt.subplot(2,2,1)\n",
    "sns.distplot(df['HR'])\n",
    "\n",
    "plt.subplot(2,2,2)\n",
    "sns.boxplot(df['HR'])\n",
    "\n",
    "plt.show()"
   ]
  },
  {
   "cell_type": "markdown",
   "metadata": {},
   "source": [
    "## O2Sat \tPulse oximetry (%)"
   ]
  },
  {
   "cell_type": "code",
   "execution_count": 17,
   "metadata": {},
   "outputs": [
    {
     "data": {
      "text/plain": [
       "98.0"
      ]
     },
     "execution_count": 17,
     "metadata": {},
     "output_type": "execute_result"
    }
   ],
   "source": [
    "df['O2Sat'].median()"
   ]
  },
  {
   "cell_type": "code",
   "execution_count": 18,
   "metadata": {},
   "outputs": [],
   "source": [
    "df['O2Sat']=df['O2Sat'].fillna(df['O2Sat'].median())"
   ]
  },
  {
   "cell_type": "code",
   "execution_count": 19,
   "metadata": {},
   "outputs": [
    {
     "data": {
      "text/plain": [
       "count    790215.000000\n",
       "mean         97.354040\n",
       "std           2.738633\n",
       "min          20.000000\n",
       "25%          96.000000\n",
       "50%          98.000000\n",
       "75%          99.000000\n",
       "max         100.000000\n",
       "Name: O2Sat, dtype: float64"
      ]
     },
     "execution_count": 19,
     "metadata": {},
     "output_type": "execute_result"
    }
   ],
   "source": [
    "df['O2Sat'].describe()"
   ]
  },
  {
   "cell_type": "code",
   "execution_count": 20,
   "metadata": {},
   "outputs": [
    {
     "data": {
      "image/png": "[encoded data removed]",
      "text/plain": [
       "<Figure size 1152x648 with 2 Axes>"
      ]
     },
     "metadata": {
      "needs_background": "light"
     },
     "output_type": "display_data"
    }
   ],
   "source": [
    "plt.figure(figsize=(16,9))\n",
    "\n",
    "plt.subplot(2,2,1)\n",
    "sns.distplot(df['O2Sat'])\n",
    "\n",
    "plt.subplot(2,2,2)\n",
    "sns.boxplot(df['O2Sat'])\n",
    "\n",
    "plt.show()"
   ]
  },
  {
   "cell_type": "markdown",
   "metadata": {},
   "source": [
    "# Temperature"
   ]
  },
  {
   "cell_type": "code",
   "execution_count": 21,
   "metadata": {},
   "outputs": [
    {
     "data": {
      "text/plain": [
       "count    266901.000000\n",
       "mean         37.026737\n",
       "std           0.780317\n",
       "min          20.900000\n",
       "25%          36.560000\n",
       "50%          37.060000\n",
       "75%          37.550000\n",
       "max          42.220000\n",
       "Name: Temp, dtype: float64"
      ]
     },
     "execution_count": 21,
     "metadata": {},
     "output_type": "execute_result"
    }
   ],
   "source": [
    "df['Temp'].describe()"
   ]
  },
  {
   "cell_type": "code",
   "execution_count": 22,
   "metadata": {},
   "outputs": [],
   "source": [
    "X = df['Temp']\n",
    "Y = df['SepsisLabel']\n",
    "impute20=imputation(X,Y)            # Calling of imputation function."
   ]
  },
  {
   "cell_type": "code",
   "execution_count": 23,
   "metadata": {},
   "outputs": [
    {
     "data": {
      "text/plain": [
       "array([[38.512,  0.   ],\n",
       "       [36.964,  0.   ],\n",
       "       [36.043,  0.   ],\n",
       "       ...,\n",
       "       [37.271,  1.   ],\n",
       "       [38.147,  1.   ],\n",
       "       [37.116,  1.   ]])"
      ]
     },
     "execution_count": 23,
     "metadata": {},
     "output_type": "execute_result"
    }
   ],
   "source": [
    "impute20"
   ]
  },
  {
   "cell_type": "code",
   "execution_count": 24,
   "metadata": {},
   "outputs": [],
   "source": [
    "# To change the array values with same dataframe define above.\n",
    "\n",
    "impute_df20=pd.DataFrame(impute20,columns=['base_imp','SepsisLabel'])\n",
    "\n",
    "df['Temp'] = impute_df20['base_imp']"
   ]
  },
  {
   "cell_type": "code",
   "execution_count": 25,
   "metadata": {},
   "outputs": [
    {
     "data": {
      "image/png": "[encoded data removed]",
      "text/plain": [
       "<Figure size 1152x648 with 2 Axes>"
      ]
     },
     "metadata": {
      "needs_background": "light"
     },
     "output_type": "display_data"
    }
   ],
   "source": [
    "plt.figure(figsize=(16,9))\n",
    "\n",
    "plt.subplot(2,2,1)\n",
    "sns.distplot(df['Temp'])\n",
    "\n",
    "plt.subplot(2,2,2)\n",
    "sns.boxplot(df['Temp'])\n",
    "\n",
    "plt.show()"
   ]
  },
  {
   "cell_type": "markdown",
   "metadata": {},
   "source": [
    "## SBP \tSystolic BP (mm Hg)"
   ]
  },
  {
   "cell_type": "code",
   "execution_count": 26,
   "metadata": {},
   "outputs": [
    {
     "data": {
      "text/plain": [
       "118.5"
      ]
     },
     "execution_count": 26,
     "metadata": {},
     "output_type": "execute_result"
    }
   ],
   "source": [
    "df['SBP'].median()"
   ]
  },
  {
   "cell_type": "code",
   "execution_count": 27,
   "metadata": {},
   "outputs": [],
   "source": [
    "df['SBP']=df['SBP'].fillna(df['SBP'].median())"
   ]
  },
  {
   "cell_type": "code",
   "execution_count": 28,
   "metadata": {},
   "outputs": [
    {
     "data": {
      "text/plain": [
       "count    790215.000000\n",
       "mean        120.587806\n",
       "std          19.836040\n",
       "min          22.000000\n",
       "25%         108.000000\n",
       "50%         118.500000\n",
       "75%         131.000000\n",
       "max         281.000000\n",
       "Name: SBP, dtype: float64"
      ]
     },
     "execution_count": 28,
     "metadata": {},
     "output_type": "execute_result"
    }
   ],
   "source": [
    "df['SBP'].describe()"
   ]
  },
  {
   "cell_type": "code",
   "execution_count": 29,
   "metadata": {},
   "outputs": [
    {
     "data": {
      "image/png": "[encoded data removed]",
      "text/plain": [
       "<Figure size 1152x648 with 2 Axes>"
      ]
     },
     "metadata": {
      "needs_background": "light"
     },
     "output_type": "display_data"
    }
   ],
   "source": [
    "plt.figure(figsize=(16,9))\n",
    "\n",
    "plt.subplot(2,2,1)\n",
    "sns.distplot(df['SBP'])\n",
    "\n",
    "plt.subplot(2,2,2)\n",
    "sns.boxplot(df['SBP'])\n",
    "\n",
    "plt.show()"
   ]
  },
  {
   "cell_type": "markdown",
   "metadata": {},
   "source": [
    "## MAP \tMean arterial pressure (mm Hg)"
   ]
  },
  {
   "cell_type": "code",
   "execution_count": 30,
   "metadata": {},
   "outputs": [
    {
     "data": {
      "text/plain": [
       "77.0"
      ]
     },
     "execution_count": 30,
     "metadata": {},
     "output_type": "execute_result"
    }
   ],
   "source": [
    "df['MAP'].median()"
   ]
  },
  {
   "cell_type": "code",
   "execution_count": 31,
   "metadata": {},
   "outputs": [],
   "source": [
    "df['MAP']=df['MAP'].fillna(df['MAP'].median())"
   ]
  },
  {
   "cell_type": "code",
   "execution_count": 32,
   "metadata": {},
   "outputs": [
    {
     "data": {
      "text/plain": [
       "count    790215.000000\n",
       "mean         78.586503\n",
       "std          14.263648\n",
       "min          20.000000\n",
       "25%          69.000000\n",
       "50%          77.000000\n",
       "75%          86.000000\n",
       "max         300.000000\n",
       "Name: MAP, dtype: float64"
      ]
     },
     "execution_count": 32,
     "metadata": {},
     "output_type": "execute_result"
    }
   ],
   "source": [
    "df['MAP'].describe()"
   ]
  },
  {
   "cell_type": "code",
   "execution_count": 33,
   "metadata": {},
   "outputs": [
    {
     "data": {
      "image/png": "[encoded data removed]",
      "text/plain": [
       "<Figure size 1152x648 with 2 Axes>"
      ]
     },
     "metadata": {
      "needs_background": "light"
     },
     "output_type": "display_data"
    }
   ],
   "source": [
    "plt.figure(figsize=(16,9))\n",
    "\n",
    "plt.subplot(2,2,1)\n",
    "sns.distplot(df['MAP'])\n",
    "\n",
    "plt.subplot(2,2,2)\n",
    "sns.boxplot(df['MAP'])\n",
    "\n",
    "plt.show()"
   ]
  },
  {
   "cell_type": "markdown",
   "metadata": {},
   "source": [
    "## DBP \tDiastolic BP (mm Hg)"
   ]
  },
  {
   "cell_type": "code",
   "execution_count": 34,
   "metadata": {},
   "outputs": [
    {
     "data": {
      "text/plain": [
       "59.98580935699335"
      ]
     },
     "execution_count": 34,
     "metadata": {},
     "output_type": "execute_result"
    }
   ],
   "source": [
    "df['DBP'].mean()"
   ]
  },
  {
   "cell_type": "code",
   "execution_count": 35,
   "metadata": {},
   "outputs": [
    {
     "data": {
      "text/plain": [
       "58.5"
      ]
     },
     "execution_count": 35,
     "metadata": {},
     "output_type": "execute_result"
    }
   ],
   "source": [
    "df['DBP'].median()"
   ]
  },
  {
   "cell_type": "code",
   "execution_count": 36,
   "metadata": {},
   "outputs": [],
   "source": [
    "df['DBP']=df['DBP'].fillna(df['DBP'].median())"
   ]
  },
  {
   "cell_type": "code",
   "execution_count": 37,
   "metadata": {},
   "outputs": [
    {
     "data": {
      "text/plain": [
       "count    790215.000000\n",
       "mean         59.270752\n",
       "std           9.085759\n",
       "min          20.000000\n",
       "25%          58.000000\n",
       "50%          58.500000\n",
       "75%          59.000000\n",
       "max         298.000000\n",
       "Name: DBP, dtype: float64"
      ]
     },
     "execution_count": 37,
     "metadata": {},
     "output_type": "execute_result"
    }
   ],
   "source": [
    "df['DBP'].describe()"
   ]
  },
  {
   "cell_type": "code",
   "execution_count": 38,
   "metadata": {},
   "outputs": [
    {
     "data": {
      "image/png": "[encoded data removed]",
      "text/plain": [
       "<Figure size 1152x648 with 2 Axes>"
      ]
     },
     "metadata": {
      "needs_background": "light"
     },
     "output_type": "display_data"
    }
   ],
   "source": [
    "plt.figure(figsize=(16,9))\n",
    "\n",
    "plt.subplot(2,2,1)\n",
    "sns.distplot(df['DBP'])\n",
    "\n",
    "plt.subplot(2,2,2)\n",
    "sns.boxplot(df['DBP'])\n",
    "\n",
    "plt.show()"
   ]
  },
  {
   "cell_type": "markdown",
   "metadata": {},
   "source": [
    "## Resp \tRespiration rate (breaths per minute)"
   ]
  },
  {
   "cell_type": "code",
   "execution_count": 39,
   "metadata": {},
   "outputs": [
    {
     "data": {
      "text/plain": [
       "18.0"
      ]
     },
     "execution_count": 39,
     "metadata": {},
     "output_type": "execute_result"
    }
   ],
   "source": [
    "df['Resp'].median()"
   ]
  },
  {
   "cell_type": "code",
   "execution_count": 40,
   "metadata": {},
   "outputs": [],
   "source": [
    "df['Resp']=df['Resp'].fillna(df['Resp'].median())"
   ]
  },
  {
   "cell_type": "code",
   "execution_count": 41,
   "metadata": {},
   "outputs": [
    {
     "data": {
      "text/plain": [
       "count    790215.000000\n",
       "mean         18.697840\n",
       "std           5.130345\n",
       "min           1.000000\n",
       "25%          15.000000\n",
       "50%          18.000000\n",
       "75%          21.000000\n",
       "max          69.000000\n",
       "Name: Resp, dtype: float64"
      ]
     },
     "execution_count": 41,
     "metadata": {},
     "output_type": "execute_result"
    }
   ],
   "source": [
    "df.Resp.describe()"
   ]
  },
  {
   "cell_type": "code",
   "execution_count": 42,
   "metadata": {},
   "outputs": [
    {
     "data": {
      "image/png": "[encoded data removed]",
      "text/plain": [
       "<Figure size 1152x648 with 2 Axes>"
      ]
     },
     "metadata": {
      "needs_background": "light"
     },
     "output_type": "display_data"
    }
   ],
   "source": [
    "plt.figure(figsize=(16,9))\n",
    "\n",
    "plt.subplot(2,2,1)\n",
    "sns.distplot(df['Resp'])\n",
    "\n",
    "plt.subplot(2,2,2)\n",
    "sns.boxplot(df['Resp'])\n",
    "\n",
    "plt.show()"
   ]
  },
  {
   "cell_type": "markdown",
   "metadata": {},
   "source": [
    "## EtCO2 \tEnd tidal carbon dioxide (mm Hg)"
   ]
  },
  {
   "cell_type": "code",
   "execution_count": 43,
   "metadata": {},
   "outputs": [
    {
     "data": {
      "text/plain": [
       "count    0.0\n",
       "mean     NaN\n",
       "std      NaN\n",
       "min      NaN\n",
       "25%      NaN\n",
       "50%      NaN\n",
       "75%      NaN\n",
       "max      NaN\n",
       "Name: EtCO2, dtype: float64"
      ]
     },
     "execution_count": 43,
     "metadata": {},
     "output_type": "execute_result"
    }
   ],
   "source": [
    "df.EtCO2.describe()"
   ]
  },
  {
   "cell_type": "code",
   "execution_count": 44,
   "metadata": {},
   "outputs": [
    {
     "data": {
      "text/plain": [
       "nan"
      ]
     },
     "execution_count": 44,
     "metadata": {},
     "output_type": "execute_result"
    }
   ],
   "source": [
    "df.EtCO2.mean()"
   ]
  },
  {
   "cell_type": "code",
   "execution_count": 45,
   "metadata": {},
   "outputs": [],
   "source": [
    "df =df.drop(['EtCO2'],axis=1)"
   ]
  },
  {
   "cell_type": "markdown",
   "metadata": {},
   "source": [
    "**From here column name EtCO2 doesnot exist and similar done in other columns**"
   ]
  },
  {
   "cell_type": "code",
   "execution_count": 46,
   "metadata": {},
   "outputs": [],
   "source": [
    "#base_arr=pd.DataFrame(df['BaseExcess']).to_numpy()\n",
    "#sepsis_arr=pd.DataFrame(df['SepsisLabel']).to_numpy()\n",
    "#add=np.concatenate((base_arr,sepsis_arr), axis=1)"
   ]
  },
  {
   "cell_type": "code",
   "execution_count": 47,
   "metadata": {},
   "outputs": [],
   "source": [
    "#imp = IterativeImputer(max_iter=10, random_state=0,sample_posterior=True)\n",
    "#imp.fit(add)\n",
    "#impute=np.round(imp.transform(add))"
   ]
  },
  {
   "cell_type": "markdown",
   "metadata": {},
   "source": [
    "# Laboratory values"
   ]
  },
  {
   "cell_type": "markdown",
   "metadata": {},
   "source": [
    "## BaseExcess \tMeasure of excess bicarbonate (mmol/L)"
   ]
  },
  {
   "cell_type": "code",
   "execution_count": 48,
   "metadata": {},
   "outputs": [
    {
     "data": {
      "text/plain": [
       "count    82381.000000\n",
       "mean        -0.647537\n",
       "std          4.286641\n",
       "min        -32.000000\n",
       "25%         -3.000000\n",
       "50%          0.000000\n",
       "75%          1.000000\n",
       "max        100.000000\n",
       "Name: BaseExcess, dtype: float64"
      ]
     },
     "execution_count": 48,
     "metadata": {},
     "output_type": "execute_result"
    }
   ],
   "source": [
    "df['BaseExcess'].describe()"
   ]
  },
  {
   "cell_type": "code",
   "execution_count": 49,
   "metadata": {},
   "outputs": [
    {
     "data": {
      "text/plain": [
       "707834"
      ]
     },
     "execution_count": 49,
     "metadata": {},
     "output_type": "execute_result"
    }
   ],
   "source": [
    "df['BaseExcess'].isnull().sum()"
   ]
  },
  {
   "cell_type": "code",
   "execution_count": 50,
   "metadata": {
    "scrolled": false
   },
   "outputs": [],
   "source": [
    "X = df['BaseExcess']\n",
    "Y = df['SepsisLabel']\n",
    "impute=imputation(X,Y)            # Calling of imputation function."
   ]
  },
  {
   "cell_type": "code",
   "execution_count": 51,
   "metadata": {},
   "outputs": [
    {
     "data": {
      "text/plain": [
       "array([[ 3.367,  0.   ],\n",
       "       [ 5.614,  0.   ],\n",
       "       [ 3.578,  0.   ],\n",
       "       ...,\n",
       "       [-2.75 ,  1.   ],\n",
       "       [-0.605,  1.   ],\n",
       "       [ 0.607,  1.   ]])"
      ]
     },
     "execution_count": 51,
     "metadata": {},
     "output_type": "execute_result"
    }
   ],
   "source": [
    "impute"
   ]
  },
  {
   "cell_type": "code",
   "execution_count": 52,
   "metadata": {},
   "outputs": [],
   "source": [
    "# To change the array values with same dataframe define above.\n",
    "\n",
    "impute_df=pd.DataFrame(impute,columns=['base_imp','SepsisLabel'])\n",
    "df['BaseExcess'] = impute_df['base_imp']"
   ]
  },
  {
   "cell_type": "code",
   "execution_count": 53,
   "metadata": {},
   "outputs": [
    {
     "data": {
      "text/plain": [
       "0     3.367\n",
       "1     5.614\n",
       "2     3.578\n",
       "3    24.000\n",
       "4     2.259\n",
       "Name: BaseExcess, dtype: float64"
      ]
     },
     "execution_count": 53,
     "metadata": {},
     "output_type": "execute_result"
    }
   ],
   "source": [
    "df['BaseExcess'].head()"
   ]
  },
  {
   "cell_type": "code",
   "execution_count": 54,
   "metadata": {},
   "outputs": [
    {
     "data": {
      "image/png": "[encoded data removed]",
      "text/plain": [
       "<Figure size 1152x648 with 2 Axes>"
      ]
     },
     "metadata": {
      "needs_background": "light"
     },
     "output_type": "display_data"
    }
   ],
   "source": [
    "plt.figure(figsize=(16,9))\n",
    "\n",
    "plt.subplot(2,2,1)\n",
    "sns.distplot(df['BaseExcess'])\n",
    "\n",
    "plt.subplot(2,2,2)\n",
    "sns.boxplot(df['BaseExcess'])\n",
    "\n",
    "plt.show()"
   ]
  },
  {
   "cell_type": "markdown",
   "metadata": {},
   "source": [
    "# HCO3 \tBicarbonate (mmol/L)"
   ]
  },
  {
   "cell_type": "code",
   "execution_count": 55,
   "metadata": {},
   "outputs": [
    {
     "data": {
      "text/plain": [
       "count    63617.000000\n",
       "mean        24.094476\n",
       "std          4.396192\n",
       "min          0.000000\n",
       "25%         22.000000\n",
       "50%         24.000000\n",
       "75%         27.000000\n",
       "max         55.000000\n",
       "Name: HCO3, dtype: float64"
      ]
     },
     "execution_count": 55,
     "metadata": {},
     "output_type": "execute_result"
    }
   ],
   "source": [
    "df['HCO3'].describe()"
   ]
  },
  {
   "cell_type": "code",
   "execution_count": 56,
   "metadata": {},
   "outputs": [
    {
     "data": {
      "text/plain": [
       "726598"
      ]
     },
     "execution_count": 56,
     "metadata": {},
     "output_type": "execute_result"
    }
   ],
   "source": [
    "df['HCO3'].isnull().sum()"
   ]
  },
  {
   "cell_type": "code",
   "execution_count": 57,
   "metadata": {},
   "outputs": [],
   "source": [
    "X = df['HCO3']\n",
    "Y = df['SepsisLabel']\n",
    "impute1=imputation(X,Y)            # Calling of imputation function."
   ]
  },
  {
   "cell_type": "code",
   "execution_count": 58,
   "metadata": {},
   "outputs": [
    {
     "data": {
      "text/plain": [
       "array([[22.893,  0.   ],\n",
       "       [19.332,  0.   ],\n",
       "       [26.322,  0.   ],\n",
       "       ...,\n",
       "       [16.162,  1.   ],\n",
       "       [23.711,  1.   ],\n",
       "       [25.115,  1.   ]])"
      ]
     },
     "execution_count": 58,
     "metadata": {},
     "output_type": "execute_result"
    }
   ],
   "source": [
    "impute1"
   ]
  },
  {
   "cell_type": "code",
   "execution_count": 59,
   "metadata": {},
   "outputs": [],
   "source": [
    "# To change the array values with same dataframe define above.\n",
    "\n",
    "impute_df1=pd.DataFrame(impute1,columns=['base_imp','SepsisLabel'])\n",
    "df['HCO3'] = impute_df1['base_imp']"
   ]
  },
  {
   "cell_type": "code",
   "execution_count": 60,
   "metadata": {},
   "outputs": [
    {
     "data": {
      "text/plain": [
       "count    790215.000000\n",
       "mean         24.090623\n",
       "std           4.393881\n",
       "min           0.000000\n",
       "25%          21.140000\n",
       "50%          24.054000\n",
       "75%          27.000000\n",
       "max          55.000000\n",
       "Name: HCO3, dtype: float64"
      ]
     },
     "execution_count": 60,
     "metadata": {},
     "output_type": "execute_result"
    }
   ],
   "source": [
    "df['HCO3'].describe()"
   ]
  },
  {
   "cell_type": "code",
   "execution_count": 61,
   "metadata": {},
   "outputs": [
    {
     "data": {
      "image/png": "[encoded data removed]",
      "text/plain": [
       "<Figure size 1152x648 with 2 Axes>"
      ]
     },
     "metadata": {
      "needs_background": "light"
     },
     "output_type": "display_data"
    }
   ],
   "source": [
    "plt.figure(figsize=(16,9))\n",
    "\n",
    "plt.subplot(2,2,1)\n",
    "sns.distplot(df['HCO3'])\n",
    "\n",
    "plt.subplot(2,2,2)\n",
    "sns.boxplot(df['HCO3'])\n",
    "\n",
    "plt.show()"
   ]
  },
  {
   "cell_type": "markdown",
   "metadata": {},
   "source": [
    "# FiO2 \tFraction of inspired oxygen (%)"
   ]
  },
  {
   "cell_type": "code",
   "execution_count": 62,
   "metadata": {},
   "outputs": [
    {
     "data": {
      "text/plain": [
       "count    112155.000000\n",
       "mean          0.526248\n",
       "std           0.185869\n",
       "min           0.000000\n",
       "25%           0.400000\n",
       "50%           0.500000\n",
       "75%           0.550000\n",
       "max          10.000000\n",
       "Name: FiO2, dtype: float64"
      ]
     },
     "execution_count": 62,
     "metadata": {},
     "output_type": "execute_result"
    }
   ],
   "source": [
    "df['FiO2'].describe()"
   ]
  },
  {
   "cell_type": "code",
   "execution_count": 63,
   "metadata": {},
   "outputs": [
    {
     "data": {
      "text/plain": [
       "678060"
      ]
     },
     "execution_count": 63,
     "metadata": {},
     "output_type": "execute_result"
    }
   ],
   "source": [
    "df['FiO2'].isnull().sum()"
   ]
  },
  {
   "cell_type": "code",
   "execution_count": 64,
   "metadata": {},
   "outputs": [
    {
     "data": {
      "text/plain": [
       "array([  nan,  0.28,  0.3 ,  0.25,  0.5 ,  0.8 ,  0.6 ,  0.4 ,  1.  ,\n",
       "        0.95,  0.88,  0.78,  0.7 ,  0.65,  0.35,  0.55,  0.75,  0.45,\n",
       "        0.04,  0.59,  0.03,  0.02,  0.98,  0.21,  0.73,  0.85,  0.43,\n",
       "        0.9 ,  0.48,  0.41,  0.34,  0.57,  0.1 ,  0.  ,  0.2 ,  0.32,\n",
       "        0.53,  0.68,  0.96,  0.05,  0.38,  0.27,  0.36,  0.39,  0.22,\n",
       "        0.97,  0.94,  0.61,  0.46,  0.52,  0.31,  0.99,  0.74,  0.49,\n",
       "        0.92,  0.69,  0.33,  0.63,  0.06,  0.37,  7.  ,  0.93,  0.83,\n",
       "        0.08,  0.51,  0.64,  0.87,  0.54,  0.58,  0.24,  0.23,  0.56,\n",
       "        0.26,  0.12,  0.79,  0.67,  0.66,  0.29,  0.91,  0.62,  0.86,\n",
       "        0.44,  0.47,  0.11,  0.42,  0.81, 10.  ,  0.82,  0.84,  0.76,\n",
       "        0.71,  0.18,  0.15])"
      ]
     },
     "execution_count": 64,
     "metadata": {},
     "output_type": "execute_result"
    }
   ],
   "source": [
    "df['FiO2'].unique()"
   ]
  },
  {
   "cell_type": "code",
   "execution_count": 65,
   "metadata": {},
   "outputs": [],
   "source": [
    "X = df['FiO2']\n",
    "Y = df['SepsisLabel']\n",
    "impute2=imputation(X,Y)            # Calling of imputation function."
   ]
  },
  {
   "cell_type": "code",
   "execution_count": 66,
   "metadata": {},
   "outputs": [
    {
     "data": {
      "text/plain": [
       "array([[0.777, 0.   ],\n",
       "       [0.706, 0.   ],\n",
       "       [0.638, 0.   ],\n",
       "       ...,\n",
       "       [0.208, 1.   ],\n",
       "       [0.357, 1.   ],\n",
       "       [0.612, 1.   ]])"
      ]
     },
     "execution_count": 66,
     "metadata": {},
     "output_type": "execute_result"
    }
   ],
   "source": [
    "impute2"
   ]
  },
  {
   "cell_type": "code",
   "execution_count": 67,
   "metadata": {},
   "outputs": [],
   "source": [
    "# To change the array values with same dataframe define above.\n",
    "\n",
    "impute_df2=pd.DataFrame(impute2,columns=['base_imp','SepsisLabel'])\n",
    "\n",
    "df['FiO2'] = impute_df2['base_imp']"
   ]
  },
  {
   "cell_type": "code",
   "execution_count": 68,
   "metadata": {},
   "outputs": [
    {
     "data": {
      "text/plain": [
       "count    790215.000000\n",
       "mean          0.526160\n",
       "std           0.185881\n",
       "min          -0.341000\n",
       "25%           0.400000\n",
       "50%           0.507000\n",
       "75%           0.645000\n",
       "max          10.000000\n",
       "Name: FiO2, dtype: float64"
      ]
     },
     "execution_count": 68,
     "metadata": {},
     "output_type": "execute_result"
    }
   ],
   "source": [
    "df['FiO2'].describe()"
   ]
  },
  {
   "cell_type": "code",
   "execution_count": 69,
   "metadata": {},
   "outputs": [
    {
     "data": {
      "text/plain": [
       "array([ 0.777,  0.706,  0.638, ..., -0.17 , -0.242,  1.147])"
      ]
     },
     "execution_count": 69,
     "metadata": {},
     "output_type": "execute_result"
    }
   ],
   "source": [
    "df['FiO2'].unique()"
   ]
  },
  {
   "cell_type": "code",
   "execution_count": 70,
   "metadata": {},
   "outputs": [
    {
     "data": {
      "image/png": "[encoded data removed]",
      "text/plain": [
       "<Figure size 1152x648 with 2 Axes>"
      ]
     },
     "metadata": {
      "needs_background": "light"
     },
     "output_type": "display_data"
    }
   ],
   "source": [
    "plt.figure(figsize=(16,9))\n",
    "\n",
    "plt.subplot(2,2,1)\n",
    "sns.distplot(df['HCO3'])\n",
    "\n",
    "plt.subplot(2,2,2)\n",
    "sns.boxplot(df['HCO3'])\n",
    "\n",
    "plt.show()"
   ]
  },
  {
   "cell_type": "markdown",
   "metadata": {},
   "source": [
    "# pH \tN/A"
   ]
  },
  {
   "cell_type": "code",
   "execution_count": 71,
   "metadata": {},
   "outputs": [
    {
     "data": {
      "text/plain": [
       "count    90615.000000\n",
       "mean         7.380243\n",
       "std          0.071877\n",
       "min          6.620000\n",
       "25%          7.340000\n",
       "50%          7.390000\n",
       "75%          7.430000\n",
       "max          7.930000\n",
       "Name: pH, dtype: float64"
      ]
     },
     "execution_count": 71,
     "metadata": {},
     "output_type": "execute_result"
    }
   ],
   "source": [
    "df['pH'].describe()"
   ]
  },
  {
   "cell_type": "code",
   "execution_count": 72,
   "metadata": {},
   "outputs": [
    {
     "data": {
      "text/plain": [
       "array([ nan, 7.36, 7.4 , 7.37, 7.34, 7.33, 7.31, 7.32, 7.51, 7.49, 7.41,\n",
       "       7.22, 7.38, 7.27, 7.35, 7.15, 7.13, 7.3 , 7.28, 7.29, 7.39, 7.44,\n",
       "       7.45, 7.42, 7.43, 7.46, 7.47, 7.23, 7.24, 7.26, 7.25, 7.2 , 7.12,\n",
       "       7.53, 7.48, 7.17, 7.5 , 6.98, 7.19, 7.21, 7.07, 6.87, 7.52, 7.58,\n",
       "       7.14, 7.09, 7.18, 7.16, 7.08, 6.96, 7.  , 6.85, 7.54, 7.55, 7.56,\n",
       "       7.1 , 7.11, 6.82, 6.95, 7.01, 7.05, 7.04, 7.03, 7.73, 7.59, 7.06,\n",
       "       7.02, 6.86, 6.62, 6.8 , 6.79, 7.6 , 7.57, 7.62, 6.97, 6.9 , 7.61,\n",
       "       6.65, 6.99, 7.65, 7.78, 7.68, 6.89, 7.64, 6.92, 6.88, 7.63, 6.94,\n",
       "       7.66, 6.81, 7.67, 6.93, 7.69, 7.8 , 6.63, 7.71, 6.78, 6.91, 7.93,\n",
       "       7.72])"
      ]
     },
     "execution_count": 72,
     "metadata": {},
     "output_type": "execute_result"
    }
   ],
   "source": [
    "df['pH'].unique()"
   ]
  },
  {
   "cell_type": "code",
   "execution_count": 73,
   "metadata": {},
   "outputs": [
    {
     "data": {
      "text/plain": [
       "699600"
      ]
     },
     "execution_count": 73,
     "metadata": {},
     "output_type": "execute_result"
    }
   ],
   "source": [
    "df['pH'].isnull().sum()"
   ]
  },
  {
   "cell_type": "code",
   "execution_count": 74,
   "metadata": {},
   "outputs": [],
   "source": [
    "X = df['pH']\n",
    "Y = df['SepsisLabel']\n",
    "impute3=imputation(X,Y)            # Calling of imputation function."
   ]
  },
  {
   "cell_type": "code",
   "execution_count": 75,
   "metadata": {},
   "outputs": [
    {
     "data": {
      "text/plain": [
       "array([[7.424, 0.   ],\n",
       "       [7.335, 0.   ],\n",
       "       [7.444, 0.   ],\n",
       "       ...,\n",
       "       [7.317, 1.   ],\n",
       "       [7.422, 1.   ],\n",
       "       [7.4  , 1.   ]])"
      ]
     },
     "execution_count": 75,
     "metadata": {},
     "output_type": "execute_result"
    }
   ],
   "source": [
    "impute3"
   ]
  },
  {
   "cell_type": "code",
   "execution_count": 76,
   "metadata": {},
   "outputs": [],
   "source": [
    "# To change the array values with same dataframe define above.\n",
    "\n",
    "impute_df3=pd.DataFrame(impute3,columns=['base_imp','SepsisLabel'])\n",
    "\n",
    "df['pH'] = impute_df3['base_imp']"
   ]
  },
  {
   "cell_type": "code",
   "execution_count": 77,
   "metadata": {},
   "outputs": [
    {
     "data": {
      "text/plain": [
       "count    790215.000000\n",
       "mean          7.380381\n",
       "std           0.071886\n",
       "min           6.620000\n",
       "25%           7.333000\n",
       "50%           7.380000\n",
       "75%           7.429000\n",
       "max           7.930000\n",
       "Name: pH, dtype: float64"
      ]
     },
     "execution_count": 77,
     "metadata": {},
     "output_type": "execute_result"
    }
   ],
   "source": [
    "df['pH'].describe()"
   ]
  },
  {
   "cell_type": "code",
   "execution_count": 78,
   "metadata": {},
   "outputs": [
    {
     "data": {
      "text/plain": [
       "array([7.424, 7.335, 7.444, 7.36 , 7.312, 7.401, 7.461, 7.253, 7.386,\n",
       "       7.35 , 7.4  , 7.349, 7.374, 7.445, 7.338, 7.22 , 7.37 , 7.392,\n",
       "       7.39 , 7.448, 7.501, 7.148, 7.428, 7.34 , 7.28 , 7.314, 7.514,\n",
       "       7.353, 7.397, 7.337, 7.336, 7.352, 7.281, 7.433, 7.422, 7.333,\n",
       "       7.225, 7.261, 7.33 , 7.569, 7.506, 7.308, 7.305, 7.31 , 7.32 ,\n",
       "       7.251, 7.449, 7.341, 7.325, 7.309, 7.284, 7.262, 7.345, 7.472,\n",
       "       7.264, 7.439, 7.282, 7.38 , 7.369, 7.326, 7.46 , 7.317, 7.441,\n",
       "       7.364, 7.381, 7.238, 7.288, 7.486, 7.233, 7.419, 7.332, 7.456,\n",
       "       7.43 , 7.406, 7.432, 7.51 , 7.368, 7.429, 7.511, 7.271, 7.418,\n",
       "       7.403, 7.493, 7.365, 7.518, 7.475, 7.411, 7.465, 7.49 , 7.343,\n",
       "       7.334, 7.454, 7.442, 7.499, 7.357, 7.378, 7.415, 7.245, 7.384,\n",
       "       7.344, 7.361, 7.222, 7.562, 7.299, 7.466, 7.523, 7.44 , 7.41 ,\n",
       "       7.356, 7.526, 7.358, 7.426, 7.255, 7.388, 7.408, 7.423, 7.42 ,\n",
       "       7.359, 7.412, 7.45 , 7.425, 7.372, 7.565, 7.467, 7.295, 7.362,\n",
       "       7.351, 7.289, 7.379, 7.342, 7.413, 7.382, 7.363, 7.243, 7.303,\n",
       "       7.266, 7.509, 7.339, 7.324, 7.304, 7.297, 7.503, 7.474, 7.398,\n",
       "       7.396, 7.394, 7.301, 7.316, 7.447, 7.517, 7.494, 7.535, 7.346,\n",
       "       7.321, 7.416, 7.404, 7.247, 7.453, 7.377, 7.371, 7.27 , 7.547,\n",
       "       7.478, 7.405, 7.286, 7.498, 7.389, 7.391, 7.438, 7.375, 7.15 ,\n",
       "       7.13 , 7.3  , 7.29 , 7.272, 7.283, 7.48 , 7.287, 7.427, 7.469,\n",
       "       7.482, 7.468, 7.269, 7.47 , 7.348, 7.431, 7.327, 7.307, 7.323,\n",
       "       7.276, 7.329, 7.189, 7.322, 7.383, 7.399, 7.459, 7.599, 7.354,\n",
       "       7.451, 7.347, 7.395, 7.373, 7.259, 7.487, 7.366, 7.258, 7.385,\n",
       "       7.446, 7.5  , 7.319, 7.528, 7.387, 7.231, 7.421, 7.313, 7.471,\n",
       "       7.311, 7.409, 7.483, 7.407, 7.141, 7.293, 7.25 , 7.249, 7.477,\n",
       "       7.294, 7.488, 7.436, 7.464, 7.224, 7.452, 7.254, 7.435, 7.564,\n",
       "       7.355, 7.473, 7.237, 7.213, 7.275, 7.298, 7.278, 7.223, 7.434,\n",
       "       7.376, 7.328, 7.462, 7.246, 7.414, 7.502, 7.402, 7.495, 7.463,\n",
       "       7.256, 7.331, 7.267, 7.265, 7.306, 7.274, 7.228, 7.242, 7.476,\n",
       "       7.296, 7.561, 7.437, 7.537, 7.292, 7.367, 7.291, 7.318, 7.285,\n",
       "       7.149, 7.536, 7.512, 7.629, 7.507, 7.458, 7.508, 7.496, 7.457,\n",
       "       7.539, 7.221, 7.393, 7.23 , 7.268, 7.24 , 7.479, 7.26 , 7.2  ,\n",
       "       7.524, 7.492, 7.263, 7.566, 7.531, 7.201, 7.455, 7.489, 7.227,\n",
       "       7.202, 7.552, 7.244, 7.302, 7.497, 7.315, 7.12 , 7.485, 7.19 ,\n",
       "       7.279, 7.55 , 7.553, 7.277, 7.527, 7.239, 7.481, 7.522, 7.236,\n",
       "       7.567, 7.521, 7.573, 7.417, 7.54 , 7.235, 7.504, 7.53 , 7.172,\n",
       "       7.241, 7.491, 7.529, 7.588, 7.211, 7.505, 7.162, 7.248, 7.232,\n",
       "       7.591, 7.169, 7.257, 7.252, 7.194, 7.538, 7.218, 7.541, 7.273,\n",
       "       7.182, 7.525, 7.563, 7.206, 7.572, 7.17 , 7.484, 7.096, 7.581,\n",
       "       7.52 , 7.443, 7.59 , 7.592, 7.212, 7.145, 7.217, 7.554, 7.198,\n",
       "       7.183, 7.196, 7.203, 7.214, 7.193, 7.519, 7.513, 7.546, 7.226,\n",
       "       7.611, 7.544, 7.594, 6.98 , 7.161, 7.234, 7.209, 7.548, 7.205,\n",
       "       7.516, 7.542, 7.571, 7.515, 7.558, 7.204, 7.187, 7.21 , 7.584,\n",
       "       7.551, 7.157, 7.543, 7.219, 7.07 , 7.192, 7.177, 7.181, 7.578,\n",
       "       7.229, 6.87 , 7.586, 7.606, 7.58 , 7.549, 7.171, 7.14 , 7.559,\n",
       "       7.533, 7.57 , 7.577, 7.166, 7.583, 7.56 , 7.568, 7.215, 7.628,\n",
       "       7.617, 7.195, 7.582, 7.112, 7.532, 7.09 , 7.168, 7.557, 7.167,\n",
       "       7.184, 7.18 , 7.16 , 7.08 , 6.96 , 7.   , 7.216, 7.163, 7.6  ,\n",
       "       7.142, 7.197, 7.207, 7.598, 7.185, 7.534, 7.556, 7.614, 7.648,\n",
       "       7.152, 6.85 , 7.555, 7.61 , 7.122, 7.165, 7.154, 7.587, 7.589,\n",
       "       7.595, 7.652, 7.545, 7.596, 7.619, 7.208, 7.575, 7.156, 7.585,\n",
       "       7.191, 7.579, 7.574, 7.593, 7.623, 7.174, 7.601, 7.153, 7.176,\n",
       "       7.199, 7.138, 7.107, 7.188, 7.173, 7.616, 7.597, 7.1  , 7.11 ,\n",
       "       7.179, 7.186, 7.178, 7.64 , 7.609, 7.155, 7.143, 7.081, 7.647,\n",
       "       7.175, 7.603, 7.604, 7.613, 7.641, 7.638, 7.607, 7.146, 7.637,\n",
       "       7.605, 7.115, 7.643, 6.82 , 7.635, 6.95 , 7.62 , 7.099, 7.139,\n",
       "       7.108, 7.01 , 7.576, 7.622, 7.147, 7.127, 7.129, 7.655, 7.159,\n",
       "       7.659, 7.05 , 7.131, 7.04 , 7.03 , 7.158, 7.73 , 7.642, 7.624,\n",
       "       7.686, 7.117, 7.144, 7.164, 7.098, 7.618, 7.123, 7.688, 7.627,\n",
       "       7.06 , 7.02 , 7.602, 7.632, 7.126, 7.113, 7.128, 7.626, 6.86 ,\n",
       "       7.625, 7.615, 6.62 , 6.8  , 7.076, 7.137, 7.119, 7.106, 7.151,\n",
       "       7.133, 6.79 , 7.683, 7.612, 7.63 , 7.084, 7.085, 7.662, 7.697,\n",
       "       7.631, 7.706, 7.608, 7.135, 7.661, 7.094, 7.045, 7.132, 7.136,\n",
       "       6.97 , 7.057, 7.114, 7.118, 7.103, 7.657, 6.9  , 7.636, 7.639,\n",
       "       6.65 , 7.695, 6.99 , 7.634, 7.65 , 7.124, 7.78 , 7.68 , 7.104,\n",
       "       6.89 , 7.633, 7.646, 7.134, 7.653, 7.674, 7.666, 7.654, 7.111,\n",
       "       7.125, 7.083, 6.92 , 6.88 , 7.671, 7.069, 7.029, 7.668, 7.644,\n",
       "       6.94 , 7.72 , 7.645, 7.649, 7.121, 7.66 , 7.717, 7.678, 7.102,\n",
       "       6.81 , 7.67 , 7.665, 7.621, 7.698, 6.93 , 7.69 , 7.8  , 6.63 ,\n",
       "       7.656, 7.663, 7.105, 7.673, 7.097, 7.71 , 7.116, 6.78 , 7.707,\n",
       "       7.658, 6.91 , 7.093, 7.93 , 7.664, 7.072])"
      ]
     },
     "execution_count": 78,
     "metadata": {},
     "output_type": "execute_result"
    }
   ],
   "source": [
    "df['pH'].unique()"
   ]
  },
  {
   "cell_type": "code",
   "execution_count": 79,
   "metadata": {},
   "outputs": [
    {
     "data": {
      "image/png": "[encoded data removed]",
      "text/plain": [
       "<Figure size 1152x648 with 2 Axes>"
      ]
     },
     "metadata": {
      "needs_background": "light"
     },
     "output_type": "display_data"
    }
   ],
   "source": [
    "plt.figure(figsize=(16,9))\n",
    "\n",
    "plt.subplot(2,2,1)\n",
    "sns.distplot(df['pH'])\n",
    "\n",
    "plt.subplot(2,2,2)\n",
    "sns.boxplot(df['pH'])\n",
    "\n",
    "plt.show()"
   ]
  },
  {
   "cell_type": "markdown",
   "metadata": {},
   "source": [
    "# PaCO2 \tPartial pressure of carbon dioxide from arterial blood (mm Hg)"
   ]
  },
  {
   "cell_type": "code",
   "execution_count": 80,
   "metadata": {},
   "outputs": [
    {
     "data": {
      "text/plain": [
       "count    69288.000000\n",
       "mean        41.166147\n",
       "std          8.996604\n",
       "min         10.000000\n",
       "25%         36.000000\n",
       "50%         40.000000\n",
       "75%         45.000000\n",
       "max        100.000000\n",
       "Name: PaCO2, dtype: float64"
      ]
     },
     "execution_count": 80,
     "metadata": {},
     "output_type": "execute_result"
    }
   ],
   "source": [
    "df['PaCO2'].describe()"
   ]
  },
  {
   "cell_type": "code",
   "execution_count": 81,
   "metadata": {},
   "outputs": [
    {
     "data": {
      "text/plain": [
       "array([  nan, 100. ,  86. ,  90. ,  96. ,  41. ,  38. ,  45. ,  47. ,\n",
       "        36. ,  23. ,  25. ,  28. ,  27. ,  37. ,  30. ,  26. ,  22. ,\n",
       "        32. ,  66. ,  80.5,  52. ,  42. ,  54. ,  46. ,  51. ,  49. ,\n",
       "        48. ,  40. ,  35. ,  50. ,  55. ,  49.5,  43. ,  33. ,  41.5,\n",
       "        31. ,  39. ,  34. ,  44. ,  65. ,  61. ,  62. ,  53. ,  59. ,\n",
       "        63. ,  70. ,  58. ,  64. ,  57. ,  60. ,  89. ,  81. ,  56. ,\n",
       "        74. ,  67. ,  75. ,  46.5,  29. ,  64.5,  54.5,  42.5,  18. ,\n",
       "        21. ,  17. ,  68. ,  72. ,  80. ,  77. ,  78. ,  82. ,  44.5,\n",
       "        39.5,  31.5,  32.5,  76. ,  79. ,  48.5,  43.5,  85. ,  73. ,\n",
       "        69. ,  51.5,  92. ,  47.5,  35.5,  24. ,  25.5,  15. ,  29.5,\n",
       "        45.5,  71. ,  50.5,  57.5,  52.5,  38.5,  36.5,  34.5,  67.5,\n",
       "        16. ,  37.5,  27.5,  14. ,  33.5,  93. ,  84. ,  98. ,  91. ,\n",
       "        87. ,  19. ,  99. ,  20. ,  78.5,  69.5,  60.5,  97. ,  53.5,\n",
       "        10. ,  94. ,  63.5,  30.5,  83. ,  40.5,  77.5,  58.5,  56.5,\n",
       "        71.5,  70.5,  66.5,  88. ,  95. ,  26.5,  28.5,  23.5,  59.5,\n",
       "        22.5,  73.5,  13. ,  89.5,  65.5,  68.5,  55.5,  90.5,  11. ,\n",
       "        62.5,  97.5,  24.5,  94.5,  12. ,  16.5,  72.5,  61.5,  83.5,\n",
       "        19.5,  88.5,  74.5,  79.5,  93.5,  95.5])"
      ]
     },
     "execution_count": 81,
     "metadata": {},
     "output_type": "execute_result"
    }
   ],
   "source": [
    "df['PaCO2'].unique()"
   ]
  },
  {
   "cell_type": "code",
   "execution_count": 82,
   "metadata": {},
   "outputs": [
    {
     "data": {
      "text/plain": [
       "720927"
      ]
     },
     "execution_count": 82,
     "metadata": {},
     "output_type": "execute_result"
    }
   ],
   "source": [
    "df['PaCO2'].isnull().sum()"
   ]
  },
  {
   "cell_type": "code",
   "execution_count": 83,
   "metadata": {},
   "outputs": [],
   "source": [
    "X = df['PaCO2']\n",
    "Y = df['SepsisLabel']\n",
    "impute4=imputation(X,Y)            # Calling of imputation function."
   ]
  },
  {
   "cell_type": "code",
   "execution_count": 84,
   "metadata": {},
   "outputs": [
    {
     "data": {
      "text/plain": [
       "array([[46.239,  0.   ],\n",
       "       [41.916,  0.   ],\n",
       "       [28.052,  0.   ],\n",
       "       ...,\n",
       "       [58.538,  1.   ],\n",
       "       [66.193,  1.   ],\n",
       "       [50.417,  1.   ]])"
      ]
     },
     "execution_count": 84,
     "metadata": {},
     "output_type": "execute_result"
    }
   ],
   "source": [
    "impute4"
   ]
  },
  {
   "cell_type": "code",
   "execution_count": 85,
   "metadata": {},
   "outputs": [],
   "source": [
    "# To change the array values with same dataframe define above.\n",
    "\n",
    "impute_df4=pd.DataFrame(impute4,columns=['base_imp','SepsisLabel'])\n",
    "\n",
    "df['PaCO2'] = impute_df4['base_imp']"
   ]
  },
  {
   "cell_type": "code",
   "execution_count": 86,
   "metadata": {},
   "outputs": [
    {
     "data": {
      "image/png": "[encoded data removed]",
      "text/plain": [
       "<Figure size 1152x648 with 2 Axes>"
      ]
     },
     "metadata": {
      "needs_background": "light"
     },
     "output_type": "display_data"
    }
   ],
   "source": [
    "plt.figure(figsize=(16,9))\n",
    "\n",
    "plt.subplot(2,2,1)\n",
    "sns.distplot(df['PaCO2'])\n",
    "\n",
    "plt.subplot(2,2,2)\n",
    "sns.boxplot(df['PaCO2'])\n",
    "\n",
    "plt.show()"
   ]
  },
  {
   "cell_type": "markdown",
   "metadata": {},
   "source": [
    "# SaO2 \tOxygen saturation from arterial blood (%)"
   ]
  },
  {
   "cell_type": "code",
   "execution_count": 87,
   "metadata": {},
   "outputs": [
    {
     "data": {
      "text/plain": [
       "count    39160.000000\n",
       "mean        91.215456\n",
       "std         12.226230\n",
       "min         24.000000\n",
       "25%         93.000000\n",
       "50%         97.000000\n",
       "75%         98.000000\n",
       "max        100.000000\n",
       "Name: SaO2, dtype: float64"
      ]
     },
     "execution_count": 87,
     "metadata": {},
     "output_type": "execute_result"
    }
   ],
   "source": [
    "df['SaO2'].describe()"
   ]
  },
  {
   "cell_type": "code",
   "execution_count": 88,
   "metadata": {},
   "outputs": [
    {
     "data": {
      "text/plain": [
       "array([   nan,  88.  ,  91.  ,  78.  ,  89.  ,  98.  ,  97.5 ,  99.  ,\n",
       "        96.  ,  75.  ,  76.  ,  97.  ,  86.5 ,  74.  ,  66.5 ,  95.5 ,\n",
       "        62.  ,  95.  ,  94.  ,  70.  ,  71.  ,  81.  ,  92.  ,  93.  ,\n",
       "        67.  ,  77.  ,  78.5 ,  98.5 ,  60.  ,  79.  ,  75.5 ,  72.5 ,\n",
       "        84.  ,  72.  ,  80.  ,  66.  ,  67.5 ,  73.  ,  90.  ,  53.  ,\n",
       "        68.  ,  69.  ,  96.5 ,  84.5 ,  77.5 ,  85.  ,  89.5 ,  94.5 ,\n",
       "        59.  ,  65.  , 100.  ,  56.  ,  63.  ,  61.  ,  93.5 ,  79.5 ,\n",
       "        58.  ,  50.  ,  54.  ,  49.  ,  82.5 ,  83.5 ,  86.  ,  64.  ,\n",
       "        92.5 ,  51.  ,  82.  ,  32.  ,  83.  ,  40.5 ,  76.5 ,  44.  ,\n",
       "        88.5 ,  42.  ,  81.5 ,  85.5 ,  91.5 ,  87.  ,  57.  ,  52.  ,\n",
       "        40.  ,  90.5 ,  47.  ,  55.  ,  80.5 ,  48.  ,  45.  ,  87.5 ,\n",
       "        74.5 ,  46.  ,  43.  ,  55.5 ,  60.5 ,  62.5 ,  73.5 ,  70.5 ,\n",
       "        63.5 ,  34.  ,  39.  ,  96.75,  69.5 ,  29.  ,  57.5 ,  35.  ,\n",
       "        64.5 ,  89.75,  41.  ,  68.5 ,  31.  ,  54.5 ,  30.  ,  52.5 ,\n",
       "        99.5 ,  37.  ,  95.1 ,  95.2 ,  26.  ,  71.5 ,  95.4 ,  38.  ,\n",
       "        33.  ,  99.3 ,  27.  ,  28.  ,  51.5 ,  56.5 ,  59.5 ,  94.25,\n",
       "        34.5 ,  97.75,  65.5 ,  96.3 ,  95.75,  61.5 ,  58.5 ,  55.2 ,\n",
       "        85.2 ,  98.8 ,  24.  ,  50.75,  33.5 ])"
      ]
     },
     "execution_count": 88,
     "metadata": {},
     "output_type": "execute_result"
    }
   ],
   "source": [
    "df['SaO2'].unique()"
   ]
  },
  {
   "cell_type": "code",
   "execution_count": 89,
   "metadata": {},
   "outputs": [],
   "source": [
    "X = df['SaO2']\n",
    "Y = df['SepsisLabel']\n",
    "impute5=imputation(X,Y)            # Calling of imputation function."
   ]
  },
  {
   "cell_type": "code",
   "execution_count": 90,
   "metadata": {},
   "outputs": [
    {
     "data": {
      "text/plain": [
       "array([[82.225,  0.   ],\n",
       "       [72.403,  0.   ],\n",
       "       [87.468,  0.   ],\n",
       "       ...,\n",
       "       [93.474,  1.   ],\n",
       "       [88.952,  1.   ],\n",
       "       [98.   ,  1.   ]])"
      ]
     },
     "execution_count": 90,
     "metadata": {},
     "output_type": "execute_result"
    }
   ],
   "source": [
    "impute5"
   ]
  },
  {
   "cell_type": "code",
   "execution_count": 91,
   "metadata": {},
   "outputs": [],
   "source": [
    "# To change the array values with same dataframe define above.\n",
    "\n",
    "impute_df5=pd.DataFrame(impute5,columns=['base_imp','SepsisLabel'])\n",
    "\n",
    "df['SaO2'] = impute_df5['base_imp']"
   ]
  },
  {
   "cell_type": "code",
   "execution_count": 92,
   "metadata": {},
   "outputs": [
    {
     "data": {
      "image/png": "[encoded data removed]",
      "text/plain": [
       "<Figure size 1152x648 with 2 Axes>"
      ]
     },
     "metadata": {
      "needs_background": "light"
     },
     "output_type": "display_data"
    }
   ],
   "source": [
    "plt.figure(figsize=(16,9))\n",
    "\n",
    "plt.subplot(2,2,1)\n",
    "sns.distplot(df['SaO2'])\n",
    "\n",
    "plt.subplot(2,2,2)\n",
    "sns.boxplot(df['SaO2'])\n",
    "\n",
    "plt.show()"
   ]
  },
  {
   "cell_type": "markdown",
   "metadata": {},
   "source": [
    "# AST \tAspartate transaminase (IU/L)"
   ]
  },
  {
   "cell_type": "code",
   "execution_count": 93,
   "metadata": {},
   "outputs": [
    {
     "data": {
      "text/plain": [
       "count    11820.000000\n",
       "mean       356.207530\n",
       "std       1025.654672\n",
       "min          3.000000\n",
       "25%         28.000000\n",
       "50%         57.000000\n",
       "75%        180.000000\n",
       "max       9890.000000\n",
       "Name: AST, dtype: float64"
      ]
     },
     "execution_count": 93,
     "metadata": {},
     "output_type": "execute_result"
    }
   ],
   "source": [
    "df['AST'].describe()"
   ]
  },
  {
   "cell_type": "code",
   "execution_count": 94,
   "metadata": {},
   "outputs": [
    {
     "data": {
      "text/plain": [
       "array([  nan,   16.,   30., ..., 4828.,  698.,  342.])"
      ]
     },
     "execution_count": 94,
     "metadata": {},
     "output_type": "execute_result"
    }
   ],
   "source": [
    "df['AST'].unique()"
   ]
  },
  {
   "cell_type": "code",
   "execution_count": 95,
   "metadata": {},
   "outputs": [],
   "source": [
    "X = df['AST']\n",
    "Y = df['SepsisLabel']\n",
    "impute6=imputation(X,Y)            # Calling of imputation function."
   ]
  },
  {
   "cell_type": "code",
   "execution_count": 96,
   "metadata": {},
   "outputs": [
    {
     "data": {
      "text/plain": [
       "array([[ 2.139263e+03,  0.000000e+00],\n",
       "       [ 2.533760e+02,  0.000000e+00],\n",
       "       [-2.791240e+02,  0.000000e+00],\n",
       "       ...,\n",
       "       [ 8.308080e+02,  1.000000e+00],\n",
       "       [-5.405900e+02,  1.000000e+00],\n",
       "       [ 3.569850e+02,  1.000000e+00]])"
      ]
     },
     "execution_count": 96,
     "metadata": {},
     "output_type": "execute_result"
    }
   ],
   "source": [
    "impute6"
   ]
  },
  {
   "cell_type": "code",
   "execution_count": 97,
   "metadata": {},
   "outputs": [],
   "source": [
    "# To change the array values with same dataframe define above.\n",
    "\n",
    "impute_df6=pd.DataFrame(impute6,columns=['base_imp','SepsisLabel'])\n",
    "\n",
    "df['AST'] = impute_df6['base_imp']"
   ]
  },
  {
   "cell_type": "code",
   "execution_count": 98,
   "metadata": {},
   "outputs": [
    {
     "data": {
      "image/png": "[encoded data removed]",
      "text/plain": [
       "<Figure size 1152x648 with 2 Axes>"
      ]
     },
     "metadata": {
      "needs_background": "light"
     },
     "output_type": "display_data"
    }
   ],
   "source": [
    "plt.figure(figsize=(16,9))\n",
    "\n",
    "plt.subplot(2,2,1)\n",
    "sns.distplot(df['AST'])\n",
    "\n",
    "plt.subplot(2,2,2)\n",
    "sns.boxplot(df['AST'])\n",
    "\n",
    "plt.show()"
   ]
  },
  {
   "cell_type": "markdown",
   "metadata": {},
   "source": [
    "# BUN \tBlood urea nitrogen (mg/dL)"
   ]
  },
  {
   "cell_type": "code",
   "execution_count": 99,
   "metadata": {},
   "outputs": [
    {
     "data": {
      "text/plain": [
       "count    64476.000000\n",
       "mean        24.346709\n",
       "std         20.154437\n",
       "min          1.000000\n",
       "25%         12.000000\n",
       "50%         18.000000\n",
       "75%         29.000000\n",
       "max        266.000000\n",
       "Name: BUN, dtype: float64"
      ]
     },
     "execution_count": 99,
     "metadata": {},
     "output_type": "execute_result"
    }
   ],
   "source": [
    "df['BUN'].describe()"
   ]
  },
  {
   "cell_type": "code",
   "execution_count": 100,
   "metadata": {},
   "outputs": [],
   "source": [
    "X = df['BUN']\n",
    "Y = df['SepsisLabel']\n",
    "impute7=imputation(X,Y)            # Calling of imputation function."
   ]
  },
  {
   "cell_type": "code",
   "execution_count": 101,
   "metadata": {},
   "outputs": [
    {
     "data": {
      "text/plain": [
       "array([[-7.788,  0.   ],\n",
       "       [11.668,  0.   ],\n",
       "       [43.169,  0.   ],\n",
       "       ...,\n",
       "       [45.04 ,  1.   ],\n",
       "       [46.965,  1.   ],\n",
       "       [69.376,  1.   ]])"
      ]
     },
     "execution_count": 101,
     "metadata": {},
     "output_type": "execute_result"
    }
   ],
   "source": [
    "impute7"
   ]
  },
  {
   "cell_type": "code",
   "execution_count": 102,
   "metadata": {},
   "outputs": [],
   "source": [
    "# To change the array values with same dataframe define above.\n",
    "\n",
    "impute_df7=pd.DataFrame(impute7,columns=['base_imp','SepsisLabel'])\n",
    "\n",
    "df['BUN'] = impute_df7['base_imp']"
   ]
  },
  {
   "cell_type": "code",
   "execution_count": 103,
   "metadata": {},
   "outputs": [
    {
     "data": {
      "image/png": "[encoded data removed]",
      "text/plain": [
       "<Figure size 1152x648 with 2 Axes>"
      ]
     },
     "metadata": {
      "needs_background": "light"
     },
     "output_type": "display_data"
    }
   ],
   "source": [
    "plt.figure(figsize=(16,9))\n",
    "\n",
    "plt.subplot(2,2,1)\n",
    "sns.distplot(df['BUN'])\n",
    "\n",
    "plt.subplot(2,2,2)\n",
    "sns.boxplot(df['BUN'])\n",
    "\n",
    "plt.show()"
   ]
  },
  {
   "cell_type": "markdown",
   "metadata": {},
   "source": [
    "# Alkalinephos \tAlkaline phosphatase (IU/L)"
   ]
  },
  {
   "cell_type": "code",
   "execution_count": 104,
   "metadata": {},
   "outputs": [
    {
     "data": {
      "text/plain": [
       "count    11532.000000\n",
       "mean       114.203304\n",
       "std        147.362802\n",
       "min          7.000000\n",
       "25%         56.000000\n",
       "50%         78.000000\n",
       "75%        119.000000\n",
       "max       3833.000000\n",
       "Name: Alkalinephos, dtype: float64"
      ]
     },
     "execution_count": 104,
     "metadata": {},
     "output_type": "execute_result"
    }
   ],
   "source": [
    "df['Alkalinephos'].describe()"
   ]
  },
  {
   "cell_type": "code",
   "execution_count": 105,
   "metadata": {},
   "outputs": [],
   "source": [
    "X = df['Alkalinephos']\n",
    "Y = df['SepsisLabel']\n",
    "impute8=imputation(X,Y)            # Calling of imputation function."
   ]
  },
  {
   "cell_type": "code",
   "execution_count": 106,
   "metadata": {},
   "outputs": [
    {
     "data": {
      "text/plain": [
       "array([[ 98.107,   0.   ],\n",
       "       [264.485,   0.   ],\n",
       "       [194.154,   0.   ],\n",
       "       ...,\n",
       "       [ 76.429,   1.   ],\n",
       "       [ 44.925,   1.   ],\n",
       "       [241.357,   1.   ]])"
      ]
     },
     "execution_count": 106,
     "metadata": {},
     "output_type": "execute_result"
    }
   ],
   "source": [
    "impute8"
   ]
  },
  {
   "cell_type": "code",
   "execution_count": 107,
   "metadata": {},
   "outputs": [],
   "source": [
    "# To change the array values with same dataframe define above.\n",
    "\n",
    "impute_df8=pd.DataFrame(impute8,columns=['base_imp','SepsisLabel'])\n",
    "\n",
    "df['Alkalinephos'] = impute_df8['base_imp']"
   ]
  },
  {
   "cell_type": "code",
   "execution_count": 108,
   "metadata": {},
   "outputs": [
    {
     "data": {
      "image/png": "[encoded data removed]",
      "text/plain": [
       "<Figure size 1152x648 with 2 Axes>"
      ]
     },
     "metadata": {
      "needs_background": "light"
     },
     "output_type": "display_data"
    }
   ],
   "source": [
    "plt.figure(figsize=(16,9))\n",
    "\n",
    "plt.subplot(2,2,1)\n",
    "sns.distplot(df['Alkalinephos'])\n",
    "\n",
    "plt.subplot(2,2,2)\n",
    "sns.boxplot(df['Alkalinephos'])\n",
    "\n",
    "plt.show()"
   ]
  },
  {
   "cell_type": "markdown",
   "metadata": {},
   "source": [
    "# Calcium \t(mg/dL)"
   ]
  },
  {
   "cell_type": "code",
   "execution_count": 109,
   "metadata": {},
   "outputs": [
    {
     "data": {
      "text/plain": [
       "count    39318.000000\n",
       "mean         8.316977\n",
       "std          0.819304\n",
       "min          1.600000\n",
       "25%          7.800000\n",
       "50%          8.300000\n",
       "75%          8.800000\n",
       "max         22.000000\n",
       "Name: Calcium, dtype: float64"
      ]
     },
     "execution_count": 109,
     "metadata": {},
     "output_type": "execute_result"
    }
   ],
   "source": [
    "df['Calcium'].describe()"
   ]
  },
  {
   "cell_type": "code",
   "execution_count": 110,
   "metadata": {},
   "outputs": [
    {
     "data": {
      "text/plain": [
       "array([  nan,  9.3 ,  9.6 ,  7.9 , 11.1 , 10.9 , 11.  ,  8.2 ,  7.8 ,\n",
       "        8.5 ,  5.9 ,  7.  ,  7.4 ,  7.3 ,  8.  ,  8.1 ,  7.7 ,  7.5 ,\n",
       "        7.6 ,  8.3 ,  8.7 ,  8.4 ,  9.  ,  8.9 ,  9.9 ,  6.6 ,  7.2 ,\n",
       "        7.1 ,  6.9 ,  8.6 ,  8.8 ,  9.8 ,  9.7 ,  9.2 ,  6.2 ,  9.1 ,\n",
       "        9.4 ,  9.5 , 10.3 ,  6.8 ,  6.3 ,  6.1 , 13.3 , 14.9 , 14.1 ,\n",
       "       12.7 , 11.7 , 10.8 , 10.  , 10.1 , 12.5 ,  6.7 , 10.7 , 12.4 ,\n",
       "       12.9 , 11.2 , 10.6 ,  5.6 ,  4.7 , 10.2 ,  6.5 ,  6.  , 10.4 ,\n",
       "        5.1 ,  6.4 ,  5.7 ,  5.8 ,  5.  , 15.4 , 13.  ,  5.5 , 11.9 ,\n",
       "       11.8 , 11.6 , 10.35,  5.2 ,  5.3 ,  5.4 ,  7.65, 10.5 ,  8.25,\n",
       "        4.8 ,  8.35, 11.5 , 11.3 , 12.8 ,  7.35, 12.1 , 13.4 ,  4.5 ,\n",
       "       11.4 ,  3.5 , 15.2 , 14.3 , 13.6 , 12.2 , 18.4 , 22.  ,  8.15,\n",
       "        3.6 , 12.3 , 14.6 ,  4.9 , 13.9 , 14.  ,  4.6 ,  3.9 ,  4.4 ,\n",
       "        4.2 , 21.5 , 17.5 , 14.8 , 12.  ,  2.8 , 17.  , 19.6 ,  7.95,\n",
       "        8.45, 13.1 , 15.6 , 14.7 , 13.5 ,  4.3 , 14.5 , 12.6 , 19.2 ,\n",
       "       16.6 ,  3.7 ,  1.6 ,  9.05, 15.3 , 14.4 , 14.15, 15.7 , 16.2 ,\n",
       "        9.25])"
      ]
     },
     "execution_count": 110,
     "metadata": {},
     "output_type": "execute_result"
    }
   ],
   "source": [
    "df['Calcium'].unique()"
   ]
  },
  {
   "cell_type": "code",
   "execution_count": 111,
   "metadata": {},
   "outputs": [],
   "source": [
    "X = df['Calcium']\n",
    "Y = df['SepsisLabel']\n",
    "impute9=imputation(X,Y)            # Calling of imputation function."
   ]
  },
  {
   "cell_type": "code",
   "execution_count": 112,
   "metadata": {},
   "outputs": [
    {
     "data": {
      "text/plain": [
       "array([[10.226,  0.   ],\n",
       "       [ 7.003,  0.   ],\n",
       "       [ 9.813,  0.   ],\n",
       "       ...,\n",
       "       [ 8.108,  1.   ],\n",
       "       [ 7.091,  1.   ],\n",
       "       [ 9.281,  1.   ]])"
      ]
     },
     "execution_count": 112,
     "metadata": {},
     "output_type": "execute_result"
    }
   ],
   "source": [
    "impute9"
   ]
  },
  {
   "cell_type": "code",
   "execution_count": 113,
   "metadata": {},
   "outputs": [],
   "source": [
    "# To change the array values with same dataframe define above.\n",
    "\n",
    "impute_df9=pd.DataFrame(impute9,columns=['base_imp','SepsisLabel'])\n",
    "\n",
    "df['Calcium'] = impute_df9['base_imp']"
   ]
  },
  {
   "cell_type": "code",
   "execution_count": 114,
   "metadata": {},
   "outputs": [
    {
     "data": {
      "text/plain": [
       "count    790215.000000\n",
       "mean          8.315234\n",
       "std           0.820186\n",
       "min           1.600000\n",
       "25%           7.766000\n",
       "50%           8.312000\n",
       "75%           8.864000\n",
       "max          22.000000\n",
       "Name: Calcium, dtype: float64"
      ]
     },
     "execution_count": 114,
     "metadata": {},
     "output_type": "execute_result"
    }
   ],
   "source": [
    "df['Calcium'].describe()"
   ]
  },
  {
   "cell_type": "code",
   "execution_count": 115,
   "metadata": {},
   "outputs": [
    {
     "data": {
      "image/png": "[encoded data removed]",
      "text/plain": [
       "<Figure size 1152x648 with 2 Axes>"
      ]
     },
     "metadata": {
      "needs_background": "light"
     },
     "output_type": "display_data"
    }
   ],
   "source": [
    "plt.figure(figsize=(16,9))\n",
    "\n",
    "plt.subplot(2,2,1)\n",
    "sns.distplot(df['Calcium'])\n",
    "\n",
    "plt.subplot(2,2,2)\n",
    "sns.boxplot(df['Calcium'])\n",
    "\n",
    "plt.show()"
   ]
  },
  {
   "cell_type": "markdown",
   "metadata": {},
   "source": [
    "# Chloride \t(mmol/L)"
   ]
  },
  {
   "cell_type": "code",
   "execution_count": 116,
   "metadata": {},
   "outputs": [
    {
     "data": {
      "text/plain": [
       "count    65777.000000\n",
       "mean       105.765062\n",
       "std          5.939929\n",
       "min         26.000000\n",
       "25%        102.000000\n",
       "50%        106.000000\n",
       "75%        109.000000\n",
       "max        145.000000\n",
       "Name: Chloride, dtype: float64"
      ]
     },
     "execution_count": 116,
     "metadata": {},
     "output_type": "execute_result"
    }
   ],
   "source": [
    "df['Chloride'].describe()"
   ]
  },
  {
   "cell_type": "code",
   "execution_count": 117,
   "metadata": {},
   "outputs": [
    {
     "data": {
      "text/plain": [
       "array([  nan,  85. , 113. ,  99. ,  98. , 100. , 105. , 108. , 106. ,\n",
       "       111. , 116. , 115. , 122. , 123. , 107. , 110. , 103. , 104. ,\n",
       "       112. , 109. , 102. , 101. ,  95. ,  96. , 114. ,  88. ,  92. ,\n",
       "        94. ,  97. ,  93. , 117. , 118. , 120. ,  90. ,  91. , 105.5,\n",
       "        83. ,  84. ,  87. , 119. ,  86. , 121. ,  89. , 125. , 126. ,\n",
       "        79. ,  80. , 131. , 127. , 124. , 103.5, 132. , 129. , 109.5,\n",
       "       130. ,  78. ,  81. ,  82. , 112.5, 135. , 107.5, 139. ,  96.5,\n",
       "        75. , 110.5, 138. , 140. , 137. , 133. , 108.5, 134. , 128. ,\n",
       "        99.5, 136. , 141. ,  93.5, 106.5,  94.5, 113.5,  97.5,  74. ,\n",
       "       111.5, 122.5, 145. ,  76. ,  77. , 104.5, 126.5,  26. ,  38. ,\n",
       "        73. , 102.5, 100.5,  67. ,  69. ,  66. ,  63. ,  70. , 118.5,\n",
       "        91.5])"
      ]
     },
     "execution_count": 117,
     "metadata": {},
     "output_type": "execute_result"
    }
   ],
   "source": [
    "df['Chloride'].unique()"
   ]
  },
  {
   "cell_type": "code",
   "execution_count": 118,
   "metadata": {},
   "outputs": [],
   "source": [
    "X = df['Chloride']\n",
    "Y = df['SepsisLabel']\n",
    "impute10=imputation(X,Y)            # Calling of imputation function."
   ]
  },
  {
   "cell_type": "code",
   "execution_count": 119,
   "metadata": {},
   "outputs": [],
   "source": [
    "# To change the array values with same dataframe define above.\n",
    "\n",
    "impute_df10=pd.DataFrame(impute10,columns=['base_imp','SepsisLabel'])\n",
    "\n",
    "df['Chloride'] = impute_df10['base_imp']"
   ]
  },
  {
   "cell_type": "code",
   "execution_count": 120,
   "metadata": {},
   "outputs": [
    {
     "data": {
      "image/png": "[encoded data removed]",
      "text/plain": [
       "<Figure size 1152x648 with 2 Axes>"
      ]
     },
     "metadata": {
      "needs_background": "light"
     },
     "output_type": "display_data"
    }
   ],
   "source": [
    "plt.figure(figsize=(16,9))\n",
    "\n",
    "plt.subplot(2,2,1)\n",
    "sns.distplot(df['Chloride'])\n",
    "\n",
    "plt.subplot(2,2,2)\n",
    "sns.boxplot(df['Chloride'])\n",
    "\n",
    "plt.show()"
   ]
  },
  {
   "cell_type": "markdown",
   "metadata": {},
   "source": [
    "# Creatinine \t(mg/dL)"
   ]
  },
  {
   "cell_type": "code",
   "execution_count": 121,
   "metadata": {},
   "outputs": [
    {
     "data": {
      "text/plain": [
       "count    52487.000000\n",
       "mean         1.404382\n",
       "std          1.527545\n",
       "min          0.100000\n",
       "25%          0.700000\n",
       "50%          0.900000\n",
       "75%          1.400000\n",
       "max         46.600000\n",
       "Name: Creatinine, dtype: float64"
      ]
     },
     "execution_count": 121,
     "metadata": {},
     "output_type": "execute_result"
    }
   ],
   "source": [
    "df['Creatinine'].describe()"
   ]
  },
  {
   "cell_type": "code",
   "execution_count": 122,
   "metadata": {},
   "outputs": [
    {
     "data": {
      "text/plain": [
       "array([  nan,  0.7 ,  2.5 ,  0.9 ,  0.8 ,  0.6 ,  3.8 ,  3.9 ,  3.6 ,\n",
       "        3.5 ,  1.2 ,  1.1 ,  1.3 ,  1.  ,  4.3 ,  4.4 ,  0.5 ,  0.4 ,\n",
       "        0.3 ,  8.1 ,  7.8 ,  7.6 ,  7.9 ,  8.3 ,  8.7 ,  8.8 ,  7.  ,\n",
       "        1.5 ,  8.6 ,  5.6 ,  2.2 ,  2.6 ,  2.  ,  2.1 ,  3.1 ,  2.8 ,\n",
       "        2.7 ,  2.4 ,  2.3 ,  3.  ,  1.4 , 10.6 ,  1.6 ,  5.8 ,  1.7 ,\n",
       "        0.2 ,  1.8 ,  1.9 ,  6.6 ,  4.  ,  3.4 ,  3.3 ,  3.2 ,  2.9 ,\n",
       "        4.7 ,  5.1 ,  6.3 ,  6.5 ,  5.7 ,  6.2 ,  6.8 ,  7.1 ,  5.  ,\n",
       "        4.6 ,  7.4 ,  3.7 ,  4.1 ,  6.  ,  6.9 ,  5.2 ,  4.5 ,  5.5 ,\n",
       "       10.2 ,  4.9 ,  5.4 ,  6.4 ,  8.5 ,  4.2 ,  6.1 ,  5.9 ,  5.3 ,\n",
       "       11.6 , 11.9 , 11.7 , 11.2 ,  4.8 , 10.  , 10.5 ,  7.3 ,  7.7 ,\n",
       "        7.2 ,  6.7 ,  9.  ,  9.1 ,  8.9 ,  0.75, 16.  , 15.7 ,  7.5 ,\n",
       "        8.  ,  9.5 , 10.3 , 11.3 ,  9.3 ,  1.05,  9.8 ,  9.9 ,  9.4 ,\n",
       "        9.6 ,  9.7 ,  8.2 , 10.7 , 10.9 , 11.8 , 10.8 ,  1.45,  8.4 ,\n",
       "       10.1 ,  9.2 ,  0.1 , 15.  , 15.5 , 16.1 , 16.2 , 17.  , 13.3 ,\n",
       "        0.65, 12.2 , 12.4 , 12.6 ,  0.95, 10.4 , 12.5 , 11.5 ,  0.55,\n",
       "       11.  ,  0.85, 14.9 , 14.7 , 18.8 , 12.7 , 12.3 ,  2.15, 14.8 ,\n",
       "       12.1 , 12.9 , 13.1 , 13.  , 11.1 , 11.4 , 13.7 , 29.1 , 28.  ,\n",
       "       25.1 , 13.8 , 17.6 , 19.9 , 16.5 ,  1.25, 18.5 ,  1.55,  2.45,\n",
       "       14.2 , 12.8 ,  1.35, 13.6 , 17.3 , 21.4 , 14.3 , 15.6 , 13.9 ,\n",
       "       15.9 ,  1.15,  1.75, 46.6 ,  3.35, 13.2 , 14.1 ,  9.65])"
      ]
     },
     "execution_count": 122,
     "metadata": {},
     "output_type": "execute_result"
    }
   ],
   "source": [
    "df['Creatinine'].unique()"
   ]
  },
  {
   "cell_type": "code",
   "execution_count": 123,
   "metadata": {},
   "outputs": [],
   "source": [
    "X = df['Creatinine']\n",
    "Y = df['SepsisLabel']\n",
    "impute11=imputation(X,Y)            # Calling of imputation function."
   ]
  },
  {
   "cell_type": "code",
   "execution_count": 124,
   "metadata": {},
   "outputs": [
    {
     "data": {
      "text/plain": [
       "array([[ 3.041,  0.   ],\n",
       "       [ 1.643,  0.   ],\n",
       "       [ 4.079,  0.   ],\n",
       "       ...,\n",
       "       [ 3.657,  1.   ],\n",
       "       [-0.599,  1.   ],\n",
       "       [-1.279,  1.   ]])"
      ]
     },
     "execution_count": 124,
     "metadata": {},
     "output_type": "execute_result"
    }
   ],
   "source": [
    "impute11"
   ]
  },
  {
   "cell_type": "code",
   "execution_count": 125,
   "metadata": {},
   "outputs": [],
   "source": [
    "# To change the array values with same dataframe define above.\n",
    "\n",
    "impute_df11=pd.DataFrame(impute11,columns=['base_imp','SepsisLabel'])\n",
    "\n",
    "df['Creatinine'] = impute_df11['base_imp']"
   ]
  },
  {
   "cell_type": "code",
   "execution_count": 126,
   "metadata": {},
   "outputs": [
    {
     "data": {
      "image/png": "[encoded data removed]",
      "text/plain": [
       "<Figure size 1152x648 with 2 Axes>"
      ]
     },
     "metadata": {
      "needs_background": "light"
     },
     "output_type": "display_data"
    }
   ],
   "source": [
    "plt.figure(figsize=(16,9))\n",
    "\n",
    "plt.subplot(2,2,1)\n",
    "sns.distplot(df['Creatinine'])\n",
    "\n",
    "plt.subplot(2,2,2)\n",
    "sns.boxplot(df['Creatinine'])\n",
    "\n",
    "plt.show()"
   ]
  },
  {
   "cell_type": "markdown",
   "metadata": {},
   "source": [
    "# Bilirubin_direct \tBilirubin direct (mg/dL)"
   ]
  },
  {
   "cell_type": "code",
   "execution_count": 127,
   "metadata": {},
   "outputs": [
    {
     "data": {
      "text/plain": [
       "count    1182.000000\n",
       "mean        3.114213\n",
       "std         4.631447\n",
       "min         0.100000\n",
       "25%         0.500000\n",
       "50%         1.400000\n",
       "75%         3.700000\n",
       "max        37.500000\n",
       "Name: Bilirubin_direct, dtype: float64"
      ]
     },
     "execution_count": 127,
     "metadata": {},
     "output_type": "execute_result"
    }
   ],
   "source": [
    "df['Bilirubin_direct'].describe()"
   ]
  },
  {
   "cell_type": "code",
   "execution_count": 128,
   "metadata": {},
   "outputs": [],
   "source": [
    "df =df.drop(['Bilirubin_direct'],axis=1)"
   ]
  },
  {
   "cell_type": "markdown",
   "metadata": {},
   "source": [
    "# Glucose \tSerum glucose (mg/dL)"
   ]
  },
  {
   "cell_type": "code",
   "execution_count": 129,
   "metadata": {},
   "outputs": [
    {
     "data": {
      "text/plain": [
       "count    96656.000000\n",
       "mean       133.609221\n",
       "std         51.583580\n",
       "min         10.000000\n",
       "25%        104.000000\n",
       "50%        124.000000\n",
       "75%        150.000000\n",
       "max        988.000000\n",
       "Name: Glucose, dtype: float64"
      ]
     },
     "execution_count": 129,
     "metadata": {},
     "output_type": "execute_result"
    }
   ],
   "source": [
    "df['Glucose'].describe()"
   ]
  },
  {
   "cell_type": "code",
   "execution_count": 130,
   "metadata": {},
   "outputs": [],
   "source": [
    "X = df['Glucose']\n",
    "Y = df['SepsisLabel']\n",
    "impute12=imputation(X,Y)            # Calling of imputation function."
   ]
  },
  {
   "cell_type": "code",
   "execution_count": 131,
   "metadata": {},
   "outputs": [
    {
     "data": {
      "text/plain": [
       "array([[ 66.982,   0.   ],\n",
       "       [149.748,   0.   ],\n",
       "       [ 76.594,   0.   ],\n",
       "       ...,\n",
       "       [258.633,   1.   ],\n",
       "       [ 77.584,   1.   ],\n",
       "       [151.086,   1.   ]])"
      ]
     },
     "execution_count": 131,
     "metadata": {},
     "output_type": "execute_result"
    }
   ],
   "source": [
    "impute12"
   ]
  },
  {
   "cell_type": "code",
   "execution_count": 132,
   "metadata": {},
   "outputs": [],
   "source": [
    "# To change the array values with same dataframe define above.\n",
    "\n",
    "impute_df12=pd.DataFrame(impute12,columns=['base_imp','SepsisLabel'])\n",
    "\n",
    "df['Glucose'] = impute_df12['base_imp']"
   ]
  },
  {
   "cell_type": "code",
   "execution_count": 133,
   "metadata": {},
   "outputs": [
    {
     "data": {
      "image/png": "[encoded data removed]",
      "text/plain": [
       "<Figure size 1152x648 with 2 Axes>"
      ]
     },
     "metadata": {
      "needs_background": "light"
     },
     "output_type": "display_data"
    }
   ],
   "source": [
    "plt.figure(figsize=(16,9))\n",
    "\n",
    "plt.subplot(2,2,1)\n",
    "sns.distplot(df['Glucose'])\n",
    "\n",
    "plt.subplot(2,2,2)\n",
    "sns.boxplot(df['Glucose'])\n",
    "\n",
    "plt.show()"
   ]
  },
  {
   "cell_type": "markdown",
   "metadata": {},
   "source": [
    "# Lactate \tLactic acid (mg/dL)"
   ]
  },
  {
   "cell_type": "code",
   "execution_count": 134,
   "metadata": {},
   "outputs": [
    {
     "data": {
      "text/plain": [
       "count    27143.000000\n",
       "mean         2.469203\n",
       "std          2.329001\n",
       "min          0.200000\n",
       "25%          1.200000\n",
       "50%          1.800000\n",
       "75%          2.800000\n",
       "max         31.000000\n",
       "Name: Lactate, dtype: float64"
      ]
     },
     "execution_count": 134,
     "metadata": {},
     "output_type": "execute_result"
    }
   ],
   "source": [
    "df['Lactate'].describe()"
   ]
  },
  {
   "cell_type": "code",
   "execution_count": 135,
   "metadata": {},
   "outputs": [],
   "source": [
    "df =df.drop(['Lactate'],axis=1)"
   ]
  },
  {
   "cell_type": "markdown",
   "metadata": {},
   "source": [
    "# Magnesium \t(mmol/dL)"
   ]
  },
  {
   "cell_type": "code",
   "execution_count": 136,
   "metadata": {},
   "outputs": [
    {
     "data": {
      "text/plain": [
       "count    61481.000000\n",
       "mean         2.041004\n",
       "std          0.390028\n",
       "min          0.200000\n",
       "25%          1.800000\n",
       "50%          2.000000\n",
       "75%          2.200000\n",
       "max          9.700000\n",
       "Name: Magnesium, dtype: float64"
      ]
     },
     "execution_count": 136,
     "metadata": {},
     "output_type": "execute_result"
    }
   ],
   "source": [
    "df['Magnesium'].describe()"
   ]
  },
  {
   "cell_type": "code",
   "execution_count": 137,
   "metadata": {},
   "outputs": [],
   "source": [
    "X = df['Magnesium']\n",
    "Y = df['SepsisLabel']\n",
    "impute13=imputation(X,Y)            # Calling of imputation function."
   ]
  },
  {
   "cell_type": "code",
   "execution_count": 138,
   "metadata": {},
   "outputs": [
    {
     "data": {
      "text/plain": [
       "array([[2.275, 0.   ],\n",
       "       [1.927, 0.   ],\n",
       "       [2.047, 0.   ],\n",
       "       ...,\n",
       "       [2.46 , 1.   ],\n",
       "       [1.424, 1.   ],\n",
       "       [1.648, 1.   ]])"
      ]
     },
     "execution_count": 138,
     "metadata": {},
     "output_type": "execute_result"
    }
   ],
   "source": [
    "impute13"
   ]
  },
  {
   "cell_type": "code",
   "execution_count": 139,
   "metadata": {},
   "outputs": [],
   "source": [
    "# To change the array values with same dataframe define above.\n",
    "\n",
    "impute_df13=pd.DataFrame(impute13,columns=['base_imp','SepsisLabel'])\n",
    "\n",
    "df['Magnesium'] = impute_df13['base_imp']"
   ]
  },
  {
   "cell_type": "code",
   "execution_count": 140,
   "metadata": {},
   "outputs": [
    {
     "data": {
      "image/png": "[encoded data removed]",
      "text/plain": [
       "<Figure size 1152x648 with 2 Axes>"
      ]
     },
     "metadata": {
      "needs_background": "light"
     },
     "output_type": "display_data"
    }
   ],
   "source": [
    "plt.figure(figsize=(16,9))\n",
    "\n",
    "plt.subplot(2,2,1)\n",
    "sns.distplot(df['Magnesium'])\n",
    "\n",
    "plt.subplot(2,2,2)\n",
    "sns.boxplot(df['Magnesium'])\n",
    "\n",
    "plt.show()"
   ]
  },
  {
   "cell_type": "markdown",
   "metadata": {},
   "source": [
    "# Phosphate \t(mg/dL)"
   ]
  },
  {
   "cell_type": "code",
   "execution_count": 141,
   "metadata": {},
   "outputs": [
    {
     "data": {
      "text/plain": [
       "count    39896.000000\n",
       "mean         3.588573\n",
       "std          1.445632\n",
       "min          0.200000\n",
       "25%          2.700000\n",
       "50%          3.400000\n",
       "75%          4.200000\n",
       "max         18.800000\n",
       "Name: Phosphate, dtype: float64"
      ]
     },
     "execution_count": 141,
     "metadata": {},
     "output_type": "execute_result"
    }
   ],
   "source": [
    "df['Phosphate'].describe()"
   ]
  },
  {
   "cell_type": "code",
   "execution_count": 142,
   "metadata": {},
   "outputs": [],
   "source": [
    "df =df.drop(['Phosphate'],axis=1)"
   ]
  },
  {
   "cell_type": "markdown",
   "metadata": {},
   "source": [
    "# Potassium \t(mmol/L)"
   ]
  },
  {
   "cell_type": "code",
   "execution_count": 143,
   "metadata": {},
   "outputs": [
    {
     "data": {
      "text/plain": [
       "count    85836.000000\n",
       "mean         4.161507\n",
       "std          0.632719\n",
       "min          1.000000\n",
       "25%          3.800000\n",
       "50%          4.100000\n",
       "75%          4.500000\n",
       "max         27.500000\n",
       "Name: Potassium, dtype: float64"
      ]
     },
     "execution_count": 143,
     "metadata": {},
     "output_type": "execute_result"
    }
   ],
   "source": [
    "df['Potassium'].describe()"
   ]
  },
  {
   "cell_type": "code",
   "execution_count": 144,
   "metadata": {},
   "outputs": [],
   "source": [
    "X = df['Potassium']\n",
    "Y = df['SepsisLabel']\n",
    "impute14=imputation(X,Y)            # Calling of imputation function."
   ]
  },
  {
   "cell_type": "code",
   "execution_count": 145,
   "metadata": {},
   "outputs": [
    {
     "data": {
      "text/plain": [
       "array([[3.85 , 0.   ],\n",
       "       [5.013, 0.   ],\n",
       "       [3.549, 0.   ],\n",
       "       ...,\n",
       "       [3.803, 1.   ],\n",
       "       [4.037, 1.   ],\n",
       "       [4.239, 1.   ]])"
      ]
     },
     "execution_count": 145,
     "metadata": {},
     "output_type": "execute_result"
    }
   ],
   "source": [
    "impute14"
   ]
  },
  {
   "cell_type": "code",
   "execution_count": 146,
   "metadata": {},
   "outputs": [],
   "source": [
    "# To change the array values with same dataframe define above.\n",
    "\n",
    "impute_df14=pd.DataFrame(impute14,columns=['base_imp','SepsisLabel'])\n",
    "\n",
    "df['Potassium'] = impute_df14['base_imp']"
   ]
  },
  {
   "cell_type": "code",
   "execution_count": 147,
   "metadata": {},
   "outputs": [
    {
     "data": {
      "image/png": "[encoded data removed]",
      "text/plain": [
       "<Figure size 1152x648 with 2 Axes>"
      ]
     },
     "metadata": {
      "needs_background": "light"
     },
     "output_type": "display_data"
    }
   ],
   "source": [
    "plt.figure(figsize=(16,9))\n",
    "\n",
    "plt.subplot(2,2,1)\n",
    "sns.distplot(df['Potassium'])\n",
    "\n",
    "plt.subplot(2,2,2)\n",
    "sns.boxplot(df['Potassium'])\n",
    "\n",
    "plt.show()"
   ]
  },
  {
   "cell_type": "markdown",
   "metadata": {},
   "source": [
    "# Bilirubin_total \tTotal bilirubin (mg/dL)"
   ]
  },
  {
   "cell_type": "code",
   "execution_count": 148,
   "metadata": {},
   "outputs": [
    {
     "data": {
      "text/plain": [
       "count    9693.000000\n",
       "mean        2.694403\n",
       "std         5.242802\n",
       "min         0.100000\n",
       "25%         0.500000\n",
       "50%         0.900000\n",
       "75%         2.200000\n",
       "max        46.600000\n",
       "Name: Bilirubin_total, dtype: float64"
      ]
     },
     "execution_count": 148,
     "metadata": {},
     "output_type": "execute_result"
    }
   ],
   "source": [
    "df['Bilirubin_total'].describe()"
   ]
  },
  {
   "cell_type": "code",
   "execution_count": 149,
   "metadata": {},
   "outputs": [],
   "source": [
    "df =df.drop(['Bilirubin_total'],axis=1)"
   ]
  },
  {
   "cell_type": "markdown",
   "metadata": {},
   "source": [
    "# TroponinI \tTroponin I (ng/mL)"
   ]
  },
  {
   "cell_type": "code",
   "execution_count": 150,
   "metadata": {},
   "outputs": [
    {
     "data": {
      "text/plain": [
       "count    965.000000\n",
       "mean       9.288187\n",
       "std       11.412870\n",
       "min        0.300000\n",
       "25%        1.000000\n",
       "50%        4.300000\n",
       "75%       12.900000\n",
       "max       49.300000\n",
       "Name: TroponinI, dtype: float64"
      ]
     },
     "execution_count": 150,
     "metadata": {},
     "output_type": "execute_result"
    }
   ],
   "source": [
    "df['TroponinI'].describe()"
   ]
  },
  {
   "cell_type": "code",
   "execution_count": 151,
   "metadata": {},
   "outputs": [],
   "source": [
    "df =df.drop(['TroponinI'],axis=1)"
   ]
  },
  {
   "cell_type": "markdown",
   "metadata": {},
   "source": [
    "# Hct \tHematocrit (%)"
   ]
  },
  {
   "cell_type": "code",
   "execution_count": 152,
   "metadata": {},
   "outputs": [
    {
     "data": {
      "text/plain": [
       "count    93058.000000\n",
       "mean        30.674895\n",
       "std          4.874651\n",
       "min          5.500000\n",
       "25%         27.400000\n",
       "50%         30.200000\n",
       "75%         33.500000\n",
       "max         71.700000\n",
       "Name: Hct, dtype: float64"
      ]
     },
     "execution_count": 152,
     "metadata": {},
     "output_type": "execute_result"
    }
   ],
   "source": [
    "df['Hct'].describe()"
   ]
  },
  {
   "cell_type": "code",
   "execution_count": 153,
   "metadata": {},
   "outputs": [],
   "source": [
    "X = df['Hct']\n",
    "Y = df['SepsisLabel']\n",
    "impute15=imputation(X,Y)            # Calling of imputation function."
   ]
  },
  {
   "cell_type": "code",
   "execution_count": 154,
   "metadata": {},
   "outputs": [
    {
     "data": {
      "text/plain": [
       "array([[27.504,  0.   ],\n",
       "       [39.931,  0.   ],\n",
       "       [20.512,  0.   ],\n",
       "       ...,\n",
       "       [31.229,  1.   ],\n",
       "       [30.104,  1.   ],\n",
       "       [25.032,  1.   ]])"
      ]
     },
     "execution_count": 154,
     "metadata": {},
     "output_type": "execute_result"
    }
   ],
   "source": [
    "impute15"
   ]
  },
  {
   "cell_type": "code",
   "execution_count": 155,
   "metadata": {},
   "outputs": [],
   "source": [
    "# To change the array values with same dataframe define above.\n",
    "\n",
    "impute_df15=pd.DataFrame(impute15,columns=['base_imp','SepsisLabel'])\n",
    "\n",
    "df['Hct'] = impute_df15['base_imp']"
   ]
  },
  {
   "cell_type": "code",
   "execution_count": 156,
   "metadata": {},
   "outputs": [
    {
     "data": {
      "image/png": "[encoded data removed]",
      "text/plain": [
       "<Figure size 1152x648 with 2 Axes>"
      ]
     },
     "metadata": {
      "needs_background": "light"
     },
     "output_type": "display_data"
    }
   ],
   "source": [
    "plt.figure(figsize=(16,9))\n",
    "\n",
    "plt.subplot(2,2,1)\n",
    "sns.distplot(df['Hct'])\n",
    "\n",
    "plt.subplot(2,2,2)\n",
    "sns.boxplot(df['Hct'])\n",
    "\n",
    "plt.show()"
   ]
  },
  {
   "cell_type": "markdown",
   "metadata": {},
   "source": [
    "# Hgb \tHemoglobin (g/dL)"
   ]
  },
  {
   "cell_type": "code",
   "execution_count": 157,
   "metadata": {},
   "outputs": [
    {
     "data": {
      "text/plain": [
       "count    69821.000000\n",
       "mean        10.582028\n",
       "std          1.746027\n",
       "min          2.200000\n",
       "25%          9.400000\n",
       "50%         10.400000\n",
       "75%         11.600000\n",
       "max         32.000000\n",
       "Name: Hgb, dtype: float64"
      ]
     },
     "execution_count": 157,
     "metadata": {},
     "output_type": "execute_result"
    }
   ],
   "source": [
    "df['Hgb'].describe()"
   ]
  },
  {
   "cell_type": "code",
   "execution_count": 158,
   "metadata": {},
   "outputs": [],
   "source": [
    "X = df['Hgb']\n",
    "Y = df['SepsisLabel']\n",
    "impute16=imputation(X,Y)            # Calling of imputation function."
   ]
  },
  {
   "cell_type": "code",
   "execution_count": 159,
   "metadata": {},
   "outputs": [
    {
     "data": {
      "text/plain": [
       "array([[ 9.378,  0.   ],\n",
       "       [ 9.6  ,  0.   ],\n",
       "       [10.665,  0.   ],\n",
       "       ...,\n",
       "       [ 8.536,  1.   ],\n",
       "       [ 9.969,  1.   ],\n",
       "       [ 9.361,  1.   ]])"
      ]
     },
     "execution_count": 159,
     "metadata": {},
     "output_type": "execute_result"
    }
   ],
   "source": [
    "impute16"
   ]
  },
  {
   "cell_type": "code",
   "execution_count": 160,
   "metadata": {},
   "outputs": [],
   "source": [
    "# To change the array values with same dataframe define above.\n",
    "\n",
    "impute_df16=pd.DataFrame(impute16,columns=['base_imp','SepsisLabel'])\n",
    "\n",
    "df['Hgb'] = impute_df16['base_imp']"
   ]
  },
  {
   "cell_type": "code",
   "execution_count": 161,
   "metadata": {},
   "outputs": [
    {
     "data": {
      "image/png": "[encoded data removed]",
      "text/plain": [
       "<Figure size 1152x648 with 2 Axes>"
      ]
     },
     "metadata": {
      "needs_background": "light"
     },
     "output_type": "display_data"
    }
   ],
   "source": [
    "plt.figure(figsize=(16,9))\n",
    "\n",
    "plt.subplot(2,2,1)\n",
    "sns.distplot(df['Hgb'])\n",
    "\n",
    "plt.subplot(2,2,2)\n",
    "sns.boxplot(df['Hgb'])\n",
    "\n",
    "plt.show()"
   ]
  },
  {
   "cell_type": "markdown",
   "metadata": {},
   "source": [
    "# PTT \tpartial thromboplastin time (seconds)"
   ]
  },
  {
   "cell_type": "code",
   "execution_count": 162,
   "metadata": {},
   "outputs": [
    {
     "data": {
      "text/plain": [
       "count    38306.000000\n",
       "mean        40.781937\n",
       "std         23.964333\n",
       "min         12.500000\n",
       "25%         27.700000\n",
       "50%         32.400000\n",
       "75%         42.900000\n",
       "max        150.000000\n",
       "Name: PTT, dtype: float64"
      ]
     },
     "execution_count": 162,
     "metadata": {},
     "output_type": "execute_result"
    }
   ],
   "source": [
    "df['PTT'].describe()"
   ]
  },
  {
   "cell_type": "code",
   "execution_count": 163,
   "metadata": {},
   "outputs": [],
   "source": [
    "X = df['PTT']\n",
    "Y = df['SepsisLabel']\n",
    "impute17=imputation(X,Y)            # Calling of imputation function."
   ]
  },
  {
   "cell_type": "code",
   "execution_count": 164,
   "metadata": {},
   "outputs": [
    {
     "data": {
      "text/plain": [
       "array([[76.108,  0.   ],\n",
       "       [ 7.981,  0.   ],\n",
       "       [59.676,  0.   ],\n",
       "       ...,\n",
       "       [46.145,  1.   ],\n",
       "       [22.198,  1.   ],\n",
       "       [64.828,  1.   ]])"
      ]
     },
     "execution_count": 164,
     "metadata": {},
     "output_type": "execute_result"
    }
   ],
   "source": [
    "impute17"
   ]
  },
  {
   "cell_type": "code",
   "execution_count": 165,
   "metadata": {},
   "outputs": [],
   "source": [
    "# To change the array values with same dataframe define above.\n",
    "\n",
    "impute_df17=pd.DataFrame(impute17,columns=['base_imp','SepsisLabel'])\n",
    "\n",
    "df['PTT'] = impute_df17['base_imp']"
   ]
  },
  {
   "cell_type": "code",
   "execution_count": 166,
   "metadata": {},
   "outputs": [
    {
     "data": {
      "image/png": "[encoded data removed]",
      "text/plain": [
       "<Figure size 1152x648 with 2 Axes>"
      ]
     },
     "metadata": {
      "needs_background": "light"
     },
     "output_type": "display_data"
    }
   ],
   "source": [
    "plt.figure(figsize=(16,9))\n",
    "\n",
    "plt.subplot(2,2,1)\n",
    "sns.distplot(df['PTT'])\n",
    "\n",
    "plt.subplot(2,2,2)\n",
    "sns.boxplot(df['PTT'])\n",
    "\n",
    "plt.show()"
   ]
  },
  {
   "cell_type": "markdown",
   "metadata": {},
   "source": [
    "# WBC \tLeukocyte count (count*10^3/µL)"
   ]
  },
  {
   "cell_type": "code",
   "execution_count": 167,
   "metadata": {},
   "outputs": [
    {
     "data": {
      "text/plain": [
       "count    59348.000000\n",
       "mean        11.936604\n",
       "std          7.562679\n",
       "min          0.100000\n",
       "25%          8.000000\n",
       "50%         10.800000\n",
       "75%         14.300000\n",
       "max        422.900000\n",
       "Name: WBC, dtype: float64"
      ]
     },
     "execution_count": 167,
     "metadata": {},
     "output_type": "execute_result"
    }
   ],
   "source": [
    "df['WBC'].describe()"
   ]
  },
  {
   "cell_type": "code",
   "execution_count": 168,
   "metadata": {},
   "outputs": [],
   "source": [
    "X = df['WBC']\n",
    "Y = df['SepsisLabel']\n",
    "impute18=imputation(X,Y)            # Calling of imputation function."
   ]
  },
  {
   "cell_type": "code",
   "execution_count": 169,
   "metadata": {},
   "outputs": [
    {
     "data": {
      "text/plain": [
       "array([[ 5.581,  0.   ],\n",
       "       [ 0.991,  0.   ],\n",
       "       [11.8  ,  0.   ],\n",
       "       ...,\n",
       "       [16.18 ,  1.   ],\n",
       "       [14.575,  1.   ],\n",
       "       [13.622,  1.   ]])"
      ]
     },
     "execution_count": 169,
     "metadata": {},
     "output_type": "execute_result"
    }
   ],
   "source": [
    "impute18"
   ]
  },
  {
   "cell_type": "code",
   "execution_count": 170,
   "metadata": {},
   "outputs": [],
   "source": [
    "# To change the array values with same dataframe define above.\n",
    "\n",
    "impute_df18=pd.DataFrame(impute18,columns=['base_imp','SepsisLabel'])\n",
    "\n",
    "df['WBC'] = impute_df18['base_imp']"
   ]
  },
  {
   "cell_type": "code",
   "execution_count": 171,
   "metadata": {},
   "outputs": [
    {
     "data": {
      "image/png": "[encoded data removed]",
      "text/plain": [
       "<Figure size 1152x648 with 2 Axes>"
      ]
     },
     "metadata": {
      "needs_background": "light"
     },
     "output_type": "display_data"
    }
   ],
   "source": [
    "plt.figure(figsize=(16,9))\n",
    "\n",
    "plt.subplot(2,2,1)\n",
    "sns.distplot(df['WBC'])\n",
    "\n",
    "plt.subplot(2,2,2)\n",
    "sns.boxplot(df['WBC'])\n",
    "\n",
    "plt.show()"
   ]
  },
  {
   "cell_type": "markdown",
   "metadata": {},
   "source": [
    "# Fibrinogen \t(mg/dL)"
   ]
  },
  {
   "cell_type": "code",
   "execution_count": 172,
   "metadata": {},
   "outputs": [
    {
     "data": {
      "text/plain": [
       "count    6030.000000\n",
       "mean      292.251642\n",
       "std       158.632042\n",
       "min        34.000000\n",
       "25%       184.000000\n",
       "50%       250.000000\n",
       "75%       356.750000\n",
       "max      1760.000000\n",
       "Name: Fibrinogen, dtype: float64"
      ]
     },
     "execution_count": 172,
     "metadata": {},
     "output_type": "execute_result"
    }
   ],
   "source": [
    "df['Fibrinogen'].describe()"
   ]
  },
  {
   "cell_type": "code",
   "execution_count": 173,
   "metadata": {},
   "outputs": [],
   "source": [
    "df =df.drop(['Fibrinogen'],axis=1)"
   ]
  },
  {
   "cell_type": "markdown",
   "metadata": {},
   "source": [
    "# Platelets \t(count*10^3/µL)"
   ]
  },
  {
   "cell_type": "code",
   "execution_count": 174,
   "metadata": {},
   "outputs": [
    {
     "data": {
      "text/plain": [
       "count    51499.000000\n",
       "mean       199.617841\n",
       "std        109.244146\n",
       "min          5.000000\n",
       "25%        127.000000\n",
       "50%        181.000000\n",
       "75%        247.000000\n",
       "max       1783.000000\n",
       "Name: Platelets, dtype: float64"
      ]
     },
     "execution_count": 174,
     "metadata": {},
     "output_type": "execute_result"
    }
   ],
   "source": [
    "df['Platelets'].describe()"
   ]
  },
  {
   "cell_type": "code",
   "execution_count": 175,
   "metadata": {},
   "outputs": [],
   "source": [
    "X = df['Platelets']\n",
    "Y = df['SepsisLabel']\n",
    "impute19=imputation(X,Y)            # Calling of imputation function."
   ]
  },
  {
   "cell_type": "code",
   "execution_count": 176,
   "metadata": {},
   "outputs": [
    {
     "data": {
      "text/plain": [
       "array([[ 65.144,   0.   ],\n",
       "       [245.993,   0.   ],\n",
       "       [253.276,   0.   ],\n",
       "       ...,\n",
       "       [342.159,   1.   ],\n",
       "       [169.042,   1.   ],\n",
       "       [202.946,   1.   ]])"
      ]
     },
     "execution_count": 176,
     "metadata": {},
     "output_type": "execute_result"
    }
   ],
   "source": [
    "impute19"
   ]
  },
  {
   "cell_type": "code",
   "execution_count": 177,
   "metadata": {},
   "outputs": [],
   "source": [
    "# To change the array values with same dataframe define above.\n",
    "\n",
    "impute_df19=pd.DataFrame(impute19,columns=['base_imp','SepsisLabel'])\n",
    "\n",
    "df['Platelets'] = impute_df19['base_imp']"
   ]
  },
  {
   "cell_type": "code",
   "execution_count": 178,
   "metadata": {},
   "outputs": [
    {
     "data": {
      "image/png": "[encoded data removed]",
      "text/plain": [
       "<Figure size 1152x648 with 2 Axes>"
      ]
     },
     "metadata": {
      "needs_background": "light"
     },
     "output_type": "display_data"
    }
   ],
   "source": [
    "plt.figure(figsize=(16,9))\n",
    "\n",
    "plt.subplot(2,2,1)\n",
    "sns.distplot(df['Platelets'])\n",
    "\n",
    "plt.subplot(2,2,2)\n",
    "sns.boxplot(df['Platelets'])\n",
    "\n",
    "plt.show()"
   ]
  },
  {
   "cell_type": "code",
   "execution_count": 180,
   "metadata": {},
   "outputs": [
    {
     "data": {
      "text/html": [
       "<div>\n",
       "<style scoped>\n",
       "    .dataframe tbody tr th:only-of-type {\n",
       "        vertical-align: middle;\n",
       "    }\n",
       "\n",
       "    .dataframe tbody tr th {\n",
       "        vertical-align: top;\n",
       "    }\n",
       "\n",
       "    .dataframe thead th {\n",
       "        text-align: right;\n",
       "    }\n",
       "</style>\n",
       "<table border=\"1\" class=\"dataframe\">\n",
       "  <thead>\n",
       "    <tr style=\"text-align: right;\">\n",
       "      <th></th>\n",
       "      <th>HR</th>\n",
       "      <th>O2Sat</th>\n",
       "      <th>Temp</th>\n",
       "      <th>SBP</th>\n",
       "      <th>MAP</th>\n",
       "      <th>DBP</th>\n",
       "      <th>Resp</th>\n",
       "      <th>BaseExcess</th>\n",
       "      <th>HCO3</th>\n",
       "      <th>FiO2</th>\n",
       "      <th>...</th>\n",
       "      <th>Platelets</th>\n",
       "      <th>Age</th>\n",
       "      <th>Gender</th>\n",
       "      <th>Unit1</th>\n",
       "      <th>Unit2</th>\n",
       "      <th>HospAdmTime</th>\n",
       "      <th>ICULOS</th>\n",
       "      <th>SepsisLabel</th>\n",
       "      <th>Patient_id</th>\n",
       "      <th>time</th>\n",
       "    </tr>\n",
       "  </thead>\n",
       "  <tbody>\n",
       "    <tr>\n",
       "      <th>0</th>\n",
       "      <td>84.0</td>\n",
       "      <td>98.0</td>\n",
       "      <td>38.512</td>\n",
       "      <td>118.5</td>\n",
       "      <td>77.00</td>\n",
       "      <td>58.5</td>\n",
       "      <td>18.0</td>\n",
       "      <td>3.367</td>\n",
       "      <td>22.893</td>\n",
       "      <td>0.777</td>\n",
       "      <td>...</td>\n",
       "      <td>65.144</td>\n",
       "      <td>83.14</td>\n",
       "      <td>0</td>\n",
       "      <td>NaN</td>\n",
       "      <td>NaN</td>\n",
       "      <td>-0.03</td>\n",
       "      <td>1</td>\n",
       "      <td>0</td>\n",
       "      <td>0</td>\n",
       "      <td>0</td>\n",
       "    </tr>\n",
       "    <tr>\n",
       "      <th>1</th>\n",
       "      <td>97.0</td>\n",
       "      <td>95.0</td>\n",
       "      <td>36.964</td>\n",
       "      <td>98.0</td>\n",
       "      <td>75.33</td>\n",
       "      <td>58.5</td>\n",
       "      <td>19.0</td>\n",
       "      <td>5.614</td>\n",
       "      <td>19.332</td>\n",
       "      <td>0.706</td>\n",
       "      <td>...</td>\n",
       "      <td>245.993</td>\n",
       "      <td>83.14</td>\n",
       "      <td>0</td>\n",
       "      <td>NaN</td>\n",
       "      <td>NaN</td>\n",
       "      <td>-0.03</td>\n",
       "      <td>2</td>\n",
       "      <td>0</td>\n",
       "      <td>0</td>\n",
       "      <td>1</td>\n",
       "    </tr>\n",
       "    <tr>\n",
       "      <th>2</th>\n",
       "      <td>89.0</td>\n",
       "      <td>99.0</td>\n",
       "      <td>36.043</td>\n",
       "      <td>122.0</td>\n",
       "      <td>86.00</td>\n",
       "      <td>58.5</td>\n",
       "      <td>22.0</td>\n",
       "      <td>3.578</td>\n",
       "      <td>26.322</td>\n",
       "      <td>0.638</td>\n",
       "      <td>...</td>\n",
       "      <td>253.276</td>\n",
       "      <td>83.14</td>\n",
       "      <td>0</td>\n",
       "      <td>NaN</td>\n",
       "      <td>NaN</td>\n",
       "      <td>-0.03</td>\n",
       "      <td>3</td>\n",
       "      <td>0</td>\n",
       "      <td>0</td>\n",
       "      <td>2</td>\n",
       "    </tr>\n",
       "    <tr>\n",
       "      <th>3</th>\n",
       "      <td>90.0</td>\n",
       "      <td>95.0</td>\n",
       "      <td>37.146</td>\n",
       "      <td>118.5</td>\n",
       "      <td>77.00</td>\n",
       "      <td>58.5</td>\n",
       "      <td>30.0</td>\n",
       "      <td>24.000</td>\n",
       "      <td>27.734</td>\n",
       "      <td>0.611</td>\n",
       "      <td>...</td>\n",
       "      <td>145.436</td>\n",
       "      <td>83.14</td>\n",
       "      <td>0</td>\n",
       "      <td>NaN</td>\n",
       "      <td>NaN</td>\n",
       "      <td>-0.03</td>\n",
       "      <td>4</td>\n",
       "      <td>0</td>\n",
       "      <td>0</td>\n",
       "      <td>3</td>\n",
       "    </tr>\n",
       "    <tr>\n",
       "      <th>4</th>\n",
       "      <td>103.0</td>\n",
       "      <td>88.5</td>\n",
       "      <td>37.512</td>\n",
       "      <td>122.0</td>\n",
       "      <td>91.33</td>\n",
       "      <td>58.5</td>\n",
       "      <td>24.5</td>\n",
       "      <td>2.259</td>\n",
       "      <td>21.844</td>\n",
       "      <td>0.280</td>\n",
       "      <td>...</td>\n",
       "      <td>-1.279</td>\n",
       "      <td>83.14</td>\n",
       "      <td>0</td>\n",
       "      <td>NaN</td>\n",
       "      <td>NaN</td>\n",
       "      <td>-0.03</td>\n",
       "      <td>5</td>\n",
       "      <td>0</td>\n",
       "      <td>0</td>\n",
       "      <td>4</td>\n",
       "    </tr>\n",
       "  </tbody>\n",
       "</table>\n",
       "<p>5 rows × 36 columns</p>\n",
       "</div>"
      ],
      "text/plain": [
       "      HR  O2Sat    Temp    SBP    MAP   DBP  Resp  BaseExcess    HCO3   FiO2  \\\n",
       "0   84.0   98.0  38.512  118.5  77.00  58.5  18.0       3.367  22.893  0.777   \n",
       "1   97.0   95.0  36.964   98.0  75.33  58.5  19.0       5.614  19.332  0.706   \n",
       "2   89.0   99.0  36.043  122.0  86.00  58.5  22.0       3.578  26.322  0.638   \n",
       "3   90.0   95.0  37.146  118.5  77.00  58.5  30.0      24.000  27.734  0.611   \n",
       "4  103.0   88.5  37.512  122.0  91.33  58.5  24.5       2.259  21.844  0.280   \n",
       "\n",
       "   ...  Platelets    Age  Gender  Unit1  Unit2  HospAdmTime  ICULOS  \\\n",
       "0  ...     65.144  83.14       0    NaN    NaN        -0.03       1   \n",
       "1  ...    245.993  83.14       0    NaN    NaN        -0.03       2   \n",
       "2  ...    253.276  83.14       0    NaN    NaN        -0.03       3   \n",
       "3  ...    145.436  83.14       0    NaN    NaN        -0.03       4   \n",
       "4  ...     -1.279  83.14       0    NaN    NaN        -0.03       5   \n",
       "\n",
       "   SepsisLabel  Patient_id  time  \n",
       "0            0           0     0  \n",
       "1            0           0     1  \n",
       "2            0           0     2  \n",
       "3            0           0     3  \n",
       "4            0           0     4  \n",
       "\n",
       "[5 rows x 36 columns]"
      ]
     },
     "execution_count": 180,
     "metadata": {},
     "output_type": "execute_result"
    }
   ],
   "source": [
    "df.head()"
   ]
  },
  {
   "cell_type": "markdown",
   "metadata": {},
   "source": [
    "# Demographics (columns 35-40)"
   ]
  },
  {
   "cell_type": "markdown",
   "metadata": {},
   "source": [
    "# Age \tYears (100 for patients 90 or above)"
   ]
  },
  {
   "cell_type": "code",
   "execution_count": 181,
   "metadata": {},
   "outputs": [
    {
     "data": {
      "text/plain": [
       "count    790215.000000\n",
       "mean         63.016780\n",
       "std          16.133632\n",
       "min          18.110000\n",
       "25%          52.740000\n",
       "50%          65.250000\n",
       "75%          75.890000\n",
       "max          89.000000\n",
       "Name: Age, dtype: float64"
      ]
     },
     "execution_count": 181,
     "metadata": {},
     "output_type": "execute_result"
    }
   ],
   "source": [
    "df['Age'].describe()"
   ]
  },
  {
   "cell_type": "code",
   "execution_count": 182,
   "metadata": {},
   "outputs": [
    {
     "data": {
      "image/png": "[encoded data removed]",
      "text/plain": [
       "<Figure size 1152x648 with 2 Axes>"
      ]
     },
     "metadata": {
      "needs_background": "light"
     },
     "output_type": "display_data"
    }
   ],
   "source": [
    "plt.figure(figsize=(16,9))\n",
    "\n",
    "plt.subplot(2,2,1)\n",
    "sns.distplot(df['Age'])\n",
    "\n",
    "plt.subplot(2,2,2)\n",
    "sns.boxplot(df['Age'])\n",
    "\n",
    "plt.show()"
   ]
  },
  {
   "cell_type": "markdown",
   "metadata": {},
   "source": [
    "# Gender \tFemale (0) or Male (1)"
   ]
  },
  {
   "cell_type": "code",
   "execution_count": 183,
   "metadata": {},
   "outputs": [
    {
     "data": {
      "text/plain": [
       "count    790215.000000\n",
       "mean          0.577721\n",
       "std           0.493923\n",
       "min           0.000000\n",
       "25%           0.000000\n",
       "50%           1.000000\n",
       "75%           1.000000\n",
       "max           1.000000\n",
       "Name: Gender, dtype: float64"
      ]
     },
     "execution_count": 183,
     "metadata": {},
     "output_type": "execute_result"
    }
   ],
   "source": [
    "df['Gender'].describe()"
   ]
  },
  {
   "cell_type": "code",
   "execution_count": 184,
   "metadata": {},
   "outputs": [
    {
     "data": {
      "image/png": "[encoded data removed]",
      "text/plain": [
       "<Figure size 1152x648 with 2 Axes>"
      ]
     },
     "metadata": {
      "needs_background": "light"
     },
     "output_type": "display_data"
    }
   ],
   "source": [
    "plt.figure(figsize=(16,9))\n",
    "\n",
    "plt.subplot(2,2,1)\n",
    "sns.distplot(df['Gender'])\n",
    "\n",
    "plt.subplot(2,2,2)\n",
    "plt.hist(df['Gender'])\n",
    "\n",
    "plt.show()"
   ]
  },
  {
   "cell_type": "markdown",
   "metadata": {},
   "source": [
    "# Unit1 \tAdministrative identifier for ICU unit (MICU)"
   ]
  },
  {
   "cell_type": "code",
   "execution_count": 185,
   "metadata": {},
   "outputs": [
    {
     "data": {
      "text/plain": [
       "count    404050.000000\n",
       "mean          0.507101\n",
       "std           0.499950\n",
       "min           0.000000\n",
       "25%           0.000000\n",
       "50%           1.000000\n",
       "75%           1.000000\n",
       "max           1.000000\n",
       "Name: Unit1, dtype: float64"
      ]
     },
     "execution_count": 185,
     "metadata": {},
     "output_type": "execute_result"
    }
   ],
   "source": [
    "df['Unit1'].describe()"
   ]
  },
  {
   "cell_type": "code",
   "execution_count": 186,
   "metadata": {},
   "outputs": [],
   "source": [
    "df['Unit1']=df['Unit1'].fillna(1)"
   ]
  },
  {
   "cell_type": "code",
   "execution_count": 187,
   "metadata": {},
   "outputs": [
    {
     "data": {
      "text/plain": [
       "1.0    591059\n",
       "0.0    199156\n",
       "Name: Unit1, dtype: int64"
      ]
     },
     "execution_count": 187,
     "metadata": {},
     "output_type": "execute_result"
    }
   ],
   "source": [
    "df['Unit1'].value_counts()"
   ]
  },
  {
   "cell_type": "code",
   "execution_count": 188,
   "metadata": {},
   "outputs": [
    {
     "data": {
      "image/png": "[encoded data removed]",
      "text/plain": [
       "<Figure size 1152x648 with 2 Axes>"
      ]
     },
     "metadata": {
      "needs_background": "light"
     },
     "output_type": "display_data"
    }
   ],
   "source": [
    "plt.figure(figsize=(16,9))\n",
    "\n",
    "plt.subplot(2,2,1)\n",
    "sns.distplot(df['Unit1'])\n",
    "\n",
    "plt.subplot(2,2,2)\n",
    "plt.hist(df['Unit1'])\n",
    "\n",
    "plt.show()"
   ]
  },
  {
   "cell_type": "markdown",
   "metadata": {},
   "source": [
    "# Unit2 \tAdministrative identifier for ICU unit (SICU)"
   ]
  },
  {
   "cell_type": "code",
   "execution_count": 189,
   "metadata": {},
   "outputs": [
    {
     "data": {
      "text/plain": [
       "count    404050.000000\n",
       "mean          0.492899\n",
       "std           0.499950\n",
       "min           0.000000\n",
       "25%           0.000000\n",
       "50%           0.000000\n",
       "75%           1.000000\n",
       "max           1.000000\n",
       "Name: Unit2, dtype: float64"
      ]
     },
     "execution_count": 189,
     "metadata": {},
     "output_type": "execute_result"
    }
   ],
   "source": [
    "df['Unit2'].describe()"
   ]
  },
  {
   "cell_type": "code",
   "execution_count": 190,
   "metadata": {},
   "outputs": [
    {
     "data": {
      "text/plain": [
       "0.0    204894\n",
       "1.0    199156\n",
       "Name: Unit2, dtype: int64"
      ]
     },
     "execution_count": 190,
     "metadata": {},
     "output_type": "execute_result"
    }
   ],
   "source": [
    "df['Unit2'].value_counts()"
   ]
  },
  {
   "cell_type": "code",
   "execution_count": 191,
   "metadata": {},
   "outputs": [],
   "source": [
    "X = df['Platelets']\n",
    "Y = df['SepsisLabel']\n",
    "impute21=imputation(X,Y)            # Calling of imputation function."
   ]
  },
  {
   "cell_type": "code",
   "execution_count": 192,
   "metadata": {},
   "outputs": [
    {
     "data": {
      "text/plain": [
       "array([[ 65.144,   0.   ],\n",
       "       [245.993,   0.   ],\n",
       "       [253.276,   0.   ],\n",
       "       ...,\n",
       "       [342.159,   1.   ],\n",
       "       [169.042,   1.   ],\n",
       "       [202.946,   1.   ]])"
      ]
     },
     "execution_count": 192,
     "metadata": {},
     "output_type": "execute_result"
    }
   ],
   "source": [
    "impute21"
   ]
  },
  {
   "cell_type": "code",
   "execution_count": 193,
   "metadata": {},
   "outputs": [],
   "source": [
    "# To change the array values with same dataframe define above.\n",
    "\n",
    "impute_df21=pd.DataFrame(impute21,columns=['base_imp','SepsisLabel'])\n",
    "\n",
    "df['Unit2'] = impute_df21['base_imp']"
   ]
  },
  {
   "cell_type": "code",
   "execution_count": 194,
   "metadata": {},
   "outputs": [
    {
     "data": {
      "image/png": "[encoded data removed]",
      "text/plain": [
       "<Figure size 1152x648 with 2 Axes>"
      ]
     },
     "metadata": {
      "needs_background": "light"
     },
     "output_type": "display_data"
    }
   ],
   "source": [
    "plt.figure(figsize=(16,9))\n",
    "\n",
    "plt.subplot(2,2,1)\n",
    "sns.distplot(df['Unit2'])\n",
    "\n",
    "plt.subplot(2,2,2)\n",
    "plt.hist(df['Unit2'])\n",
    "\n",
    "plt.show()\n"
   ]
  },
  {
   "cell_type": "markdown",
   "metadata": {},
   "source": [
    "# HospAdmTime \tHours between hospital admit and ICU admit"
   ]
  },
  {
   "cell_type": "code",
   "execution_count": 195,
   "metadata": {},
   "outputs": [
    {
     "data": {
      "text/plain": [
       "count    790207.000000\n",
       "mean        -52.025757\n",
       "std         155.864937\n",
       "min       -3710.660000\n",
       "25%         -38.090000\n",
       "50%          -2.600000\n",
       "75%          -0.020000\n",
       "max          23.990000\n",
       "Name: HospAdmTime, dtype: float64"
      ]
     },
     "execution_count": 195,
     "metadata": {},
     "output_type": "execute_result"
    }
   ],
   "source": [
    "df['HospAdmTime'].describe()"
   ]
  },
  {
   "cell_type": "code",
   "execution_count": 196,
   "metadata": {},
   "outputs": [
    {
     "data": {
      "text/plain": [
       "-52.02575711174415"
      ]
     },
     "execution_count": 196,
     "metadata": {},
     "output_type": "execute_result"
    }
   ],
   "source": [
    "df['HospAdmTime'].mean()"
   ]
  },
  {
   "cell_type": "code",
   "execution_count": 197,
   "metadata": {},
   "outputs": [],
   "source": [
    "df['HospAdmTime']=df['HospAdmTime'].fillna(df['HospAdmTime'].mean())"
   ]
  },
  {
   "cell_type": "code",
   "execution_count": 198,
   "metadata": {},
   "outputs": [
    {
     "data": {
      "image/png": "[encoded data removed]",
      "text/plain": [
       "<Figure size 1152x648 with 2 Axes>"
      ]
     },
     "metadata": {
      "needs_background": "light"
     },
     "output_type": "display_data"
    }
   ],
   "source": [
    "plt.figure(figsize=(16,9))\n",
    "\n",
    "plt.subplot(2,2,1)\n",
    "sns.distplot(df['HospAdmTime'])\n",
    "\n",
    "plt.subplot(2,2,2)\n",
    "plt.hist(df['HospAdmTime'])\n",
    "\n",
    "plt.show()"
   ]
  },
  {
   "cell_type": "markdown",
   "metadata": {},
   "source": [
    "# ICULOS \tICU length-of-stay (hours since ICU admit)"
   ]
  },
  {
   "cell_type": "code",
   "execution_count": 199,
   "metadata": {},
   "outputs": [
    {
     "data": {
      "text/plain": [
       "count    790215.000000\n",
       "mean         27.198518\n",
       "std          28.190940\n",
       "min           1.000000\n",
       "25%          11.000000\n",
       "50%          21.000000\n",
       "75%          35.000000\n",
       "max         336.000000\n",
       "Name: ICULOS, dtype: float64"
      ]
     },
     "execution_count": 199,
     "metadata": {},
     "output_type": "execute_result"
    }
   ],
   "source": [
    "df['ICULOS'].describe()"
   ]
  },
  {
   "cell_type": "code",
   "execution_count": 200,
   "metadata": {},
   "outputs": [
    {
     "data": {
      "image/png": "[encoded data removed]",
      "text/plain": [
       "<Figure size 1152x648 with 2 Axes>"
      ]
     },
     "metadata": {
      "needs_background": "light"
     },
     "output_type": "display_data"
    }
   ],
   "source": [
    "plt.figure(figsize=(16,9))\n",
    "\n",
    "plt.subplot(2,2,1)\n",
    "sns.distplot(df['ICULOS'])\n",
    "\n",
    "plt.subplot(2,2,2)\n",
    "sns.boxplot(df['ICULOS'])\n",
    "\n",
    "plt.show()"
   ]
  },
  {
   "cell_type": "code",
   "execution_count": 201,
   "metadata": {},
   "outputs": [],
   "source": [
    "pd.DataFrame().to_csv('sepsisclean.csv')"
   ]
  },
  {
   "cell_type": "code",
   "execution_count": 202,
   "metadata": {},
   "outputs": [
    {
     "data": {
      "text/html": [
       "<div>\n",
       "<style scoped>\n",
       "    .dataframe tbody tr th:only-of-type {\n",
       "        vertical-align: middle;\n",
       "    }\n",
       "\n",
       "    .dataframe tbody tr th {\n",
       "        vertical-align: top;\n",
       "    }\n",
       "\n",
       "    .dataframe thead th {\n",
       "        text-align: right;\n",
       "    }\n",
       "</style>\n",
       "<table border=\"1\" class=\"dataframe\">\n",
       "  <thead>\n",
       "    <tr style=\"text-align: right;\">\n",
       "      <th></th>\n",
       "      <th>HR</th>\n",
       "      <th>O2Sat</th>\n",
       "      <th>Temp</th>\n",
       "      <th>SBP</th>\n",
       "      <th>MAP</th>\n",
       "      <th>DBP</th>\n",
       "      <th>Resp</th>\n",
       "      <th>BaseExcess</th>\n",
       "      <th>HCO3</th>\n",
       "      <th>FiO2</th>\n",
       "      <th>...</th>\n",
       "      <th>Platelets</th>\n",
       "      <th>Age</th>\n",
       "      <th>Gender</th>\n",
       "      <th>Unit1</th>\n",
       "      <th>Unit2</th>\n",
       "      <th>HospAdmTime</th>\n",
       "      <th>ICULOS</th>\n",
       "      <th>SepsisLabel</th>\n",
       "      <th>Patient_id</th>\n",
       "      <th>time</th>\n",
       "    </tr>\n",
       "  </thead>\n",
       "  <tbody>\n",
       "    <tr>\n",
       "      <th>0</th>\n",
       "      <td>84.0</td>\n",
       "      <td>98.0</td>\n",
       "      <td>38.512</td>\n",
       "      <td>118.5</td>\n",
       "      <td>77.00</td>\n",
       "      <td>58.5</td>\n",
       "      <td>18.0</td>\n",
       "      <td>3.367</td>\n",
       "      <td>22.893</td>\n",
       "      <td>0.777</td>\n",
       "      <td>...</td>\n",
       "      <td>65.144</td>\n",
       "      <td>83.14</td>\n",
       "      <td>0</td>\n",
       "      <td>1.0</td>\n",
       "      <td>65.144</td>\n",
       "      <td>-0.03</td>\n",
       "      <td>1</td>\n",
       "      <td>0</td>\n",
       "      <td>0</td>\n",
       "      <td>0</td>\n",
       "    </tr>\n",
       "    <tr>\n",
       "      <th>1</th>\n",
       "      <td>97.0</td>\n",
       "      <td>95.0</td>\n",
       "      <td>36.964</td>\n",
       "      <td>98.0</td>\n",
       "      <td>75.33</td>\n",
       "      <td>58.5</td>\n",
       "      <td>19.0</td>\n",
       "      <td>5.614</td>\n",
       "      <td>19.332</td>\n",
       "      <td>0.706</td>\n",
       "      <td>...</td>\n",
       "      <td>245.993</td>\n",
       "      <td>83.14</td>\n",
       "      <td>0</td>\n",
       "      <td>1.0</td>\n",
       "      <td>245.993</td>\n",
       "      <td>-0.03</td>\n",
       "      <td>2</td>\n",
       "      <td>0</td>\n",
       "      <td>0</td>\n",
       "      <td>1</td>\n",
       "    </tr>\n",
       "    <tr>\n",
       "      <th>2</th>\n",
       "      <td>89.0</td>\n",
       "      <td>99.0</td>\n",
       "      <td>36.043</td>\n",
       "      <td>122.0</td>\n",
       "      <td>86.00</td>\n",
       "      <td>58.5</td>\n",
       "      <td>22.0</td>\n",
       "      <td>3.578</td>\n",
       "      <td>26.322</td>\n",
       "      <td>0.638</td>\n",
       "      <td>...</td>\n",
       "      <td>253.276</td>\n",
       "      <td>83.14</td>\n",
       "      <td>0</td>\n",
       "      <td>1.0</td>\n",
       "      <td>253.276</td>\n",
       "      <td>-0.03</td>\n",
       "      <td>3</td>\n",
       "      <td>0</td>\n",
       "      <td>0</td>\n",
       "      <td>2</td>\n",
       "    </tr>\n",
       "    <tr>\n",
       "      <th>3</th>\n",
       "      <td>90.0</td>\n",
       "      <td>95.0</td>\n",
       "      <td>37.146</td>\n",
       "      <td>118.5</td>\n",
       "      <td>77.00</td>\n",
       "      <td>58.5</td>\n",
       "      <td>30.0</td>\n",
       "      <td>24.000</td>\n",
       "      <td>27.734</td>\n",
       "      <td>0.611</td>\n",
       "      <td>...</td>\n",
       "      <td>145.436</td>\n",
       "      <td>83.14</td>\n",
       "      <td>0</td>\n",
       "      <td>1.0</td>\n",
       "      <td>145.436</td>\n",
       "      <td>-0.03</td>\n",
       "      <td>4</td>\n",
       "      <td>0</td>\n",
       "      <td>0</td>\n",
       "      <td>3</td>\n",
       "    </tr>\n",
       "    <tr>\n",
       "      <th>4</th>\n",
       "      <td>103.0</td>\n",
       "      <td>88.5</td>\n",
       "      <td>37.512</td>\n",
       "      <td>122.0</td>\n",
       "      <td>91.33</td>\n",
       "      <td>58.5</td>\n",
       "      <td>24.5</td>\n",
       "      <td>2.259</td>\n",
       "      <td>21.844</td>\n",
       "      <td>0.280</td>\n",
       "      <td>...</td>\n",
       "      <td>-1.279</td>\n",
       "      <td>83.14</td>\n",
       "      <td>0</td>\n",
       "      <td>1.0</td>\n",
       "      <td>-1.279</td>\n",
       "      <td>-0.03</td>\n",
       "      <td>5</td>\n",
       "      <td>0</td>\n",
       "      <td>0</td>\n",
       "      <td>4</td>\n",
       "    </tr>\n",
       "    <tr>\n",
       "      <th>...</th>\n",
       "      <td>...</td>\n",
       "      <td>...</td>\n",
       "      <td>...</td>\n",
       "      <td>...</td>\n",
       "      <td>...</td>\n",
       "      <td>...</td>\n",
       "      <td>...</td>\n",
       "      <td>...</td>\n",
       "      <td>...</td>\n",
       "      <td>...</td>\n",
       "      <td>...</td>\n",
       "      <td>...</td>\n",
       "      <td>...</td>\n",
       "      <td>...</td>\n",
       "      <td>...</td>\n",
       "      <td>...</td>\n",
       "      <td>...</td>\n",
       "      <td>...</td>\n",
       "      <td>...</td>\n",
       "      <td>...</td>\n",
       "      <td>...</td>\n",
       "    </tr>\n",
       "    <tr>\n",
       "      <th>790210</th>\n",
       "      <td>88.0</td>\n",
       "      <td>98.0</td>\n",
       "      <td>38.001</td>\n",
       "      <td>135.0</td>\n",
       "      <td>81.00</td>\n",
       "      <td>64.0</td>\n",
       "      <td>16.0</td>\n",
       "      <td>-3.367</td>\n",
       "      <td>24.371</td>\n",
       "      <td>0.500</td>\n",
       "      <td>...</td>\n",
       "      <td>334.589</td>\n",
       "      <td>62.29</td>\n",
       "      <td>1</td>\n",
       "      <td>1.0</td>\n",
       "      <td>334.589</td>\n",
       "      <td>-0.03</td>\n",
       "      <td>31</td>\n",
       "      <td>1</td>\n",
       "      <td>20335</td>\n",
       "      <td>28</td>\n",
       "    </tr>\n",
       "    <tr>\n",
       "      <th>790211</th>\n",
       "      <td>96.0</td>\n",
       "      <td>98.0</td>\n",
       "      <td>38.720</td>\n",
       "      <td>174.0</td>\n",
       "      <td>97.00</td>\n",
       "      <td>72.0</td>\n",
       "      <td>16.0</td>\n",
       "      <td>2.000</td>\n",
       "      <td>19.302</td>\n",
       "      <td>0.829</td>\n",
       "      <td>...</td>\n",
       "      <td>298.018</td>\n",
       "      <td>62.29</td>\n",
       "      <td>1</td>\n",
       "      <td>1.0</td>\n",
       "      <td>298.018</td>\n",
       "      <td>-0.03</td>\n",
       "      <td>32</td>\n",
       "      <td>1</td>\n",
       "      <td>20335</td>\n",
       "      <td>29</td>\n",
       "    </tr>\n",
       "    <tr>\n",
       "      <th>790212</th>\n",
       "      <td>140.0</td>\n",
       "      <td>97.0</td>\n",
       "      <td>37.271</td>\n",
       "      <td>133.0</td>\n",
       "      <td>81.50</td>\n",
       "      <td>62.5</td>\n",
       "      <td>16.0</td>\n",
       "      <td>-2.750</td>\n",
       "      <td>16.162</td>\n",
       "      <td>0.208</td>\n",
       "      <td>...</td>\n",
       "      <td>342.159</td>\n",
       "      <td>62.29</td>\n",
       "      <td>1</td>\n",
       "      <td>1.0</td>\n",
       "      <td>342.159</td>\n",
       "      <td>-0.03</td>\n",
       "      <td>33</td>\n",
       "      <td>1</td>\n",
       "      <td>20335</td>\n",
       "      <td>30</td>\n",
       "    </tr>\n",
       "    <tr>\n",
       "      <th>790213</th>\n",
       "      <td>120.0</td>\n",
       "      <td>96.0</td>\n",
       "      <td>38.147</td>\n",
       "      <td>154.0</td>\n",
       "      <td>118.00</td>\n",
       "      <td>105.0</td>\n",
       "      <td>16.0</td>\n",
       "      <td>-0.605</td>\n",
       "      <td>23.711</td>\n",
       "      <td>0.357</td>\n",
       "      <td>...</td>\n",
       "      <td>169.042</td>\n",
       "      <td>62.29</td>\n",
       "      <td>1</td>\n",
       "      <td>1.0</td>\n",
       "      <td>169.042</td>\n",
       "      <td>-0.03</td>\n",
       "      <td>34</td>\n",
       "      <td>1</td>\n",
       "      <td>20335</td>\n",
       "      <td>31</td>\n",
       "    </tr>\n",
       "    <tr>\n",
       "      <th>790214</th>\n",
       "      <td>115.0</td>\n",
       "      <td>95.0</td>\n",
       "      <td>37.116</td>\n",
       "      <td>150.0</td>\n",
       "      <td>117.00</td>\n",
       "      <td>104.0</td>\n",
       "      <td>16.0</td>\n",
       "      <td>0.607</td>\n",
       "      <td>25.115</td>\n",
       "      <td>0.612</td>\n",
       "      <td>...</td>\n",
       "      <td>202.946</td>\n",
       "      <td>62.29</td>\n",
       "      <td>1</td>\n",
       "      <td>1.0</td>\n",
       "      <td>202.946</td>\n",
       "      <td>-0.03</td>\n",
       "      <td>35</td>\n",
       "      <td>1</td>\n",
       "      <td>20335</td>\n",
       "      <td>32</td>\n",
       "    </tr>\n",
       "  </tbody>\n",
       "</table>\n",
       "<p>790215 rows × 36 columns</p>\n",
       "</div>"
      ],
      "text/plain": [
       "           HR  O2Sat    Temp    SBP     MAP    DBP  Resp  BaseExcess    HCO3  \\\n",
       "0        84.0   98.0  38.512  118.5   77.00   58.5  18.0       3.367  22.893   \n",
       "1        97.0   95.0  36.964   98.0   75.33   58.5  19.0       5.614  19.332   \n",
       "2        89.0   99.0  36.043  122.0   86.00   58.5  22.0       3.578  26.322   \n",
       "3        90.0   95.0  37.146  118.5   77.00   58.5  30.0      24.000  27.734   \n",
       "4       103.0   88.5  37.512  122.0   91.33   58.5  24.5       2.259  21.844   \n",
       "...       ...    ...     ...    ...     ...    ...   ...         ...     ...   \n",
       "790210   88.0   98.0  38.001  135.0   81.00   64.0  16.0      -3.367  24.371   \n",
       "790211   96.0   98.0  38.720  174.0   97.00   72.0  16.0       2.000  19.302   \n",
       "790212  140.0   97.0  37.271  133.0   81.50   62.5  16.0      -2.750  16.162   \n",
       "790213  120.0   96.0  38.147  154.0  118.00  105.0  16.0      -0.605  23.711   \n",
       "790214  115.0   95.0  37.116  150.0  117.00  104.0  16.0       0.607  25.115   \n",
       "\n",
       "         FiO2  ...  Platelets    Age  Gender  Unit1    Unit2  HospAdmTime  \\\n",
       "0       0.777  ...     65.144  83.14       0    1.0   65.144        -0.03   \n",
       "1       0.706  ...    245.993  83.14       0    1.0  245.993        -0.03   \n",
       "2       0.638  ...    253.276  83.14       0    1.0  253.276        -0.03   \n",
       "3       0.611  ...    145.436  83.14       0    1.0  145.436        -0.03   \n",
       "4       0.280  ...     -1.279  83.14       0    1.0   -1.279        -0.03   \n",
       "...       ...  ...        ...    ...     ...    ...      ...          ...   \n",
       "790210  0.500  ...    334.589  62.29       1    1.0  334.589        -0.03   \n",
       "790211  0.829  ...    298.018  62.29       1    1.0  298.018        -0.03   \n",
       "790212  0.208  ...    342.159  62.29       1    1.0  342.159        -0.03   \n",
       "790213  0.357  ...    169.042  62.29       1    1.0  169.042        -0.03   \n",
       "790214  0.612  ...    202.946  62.29       1    1.0  202.946        -0.03   \n",
       "\n",
       "        ICULOS  SepsisLabel  Patient_id  time  \n",
       "0            1            0           0     0  \n",
       "1            2            0           0     1  \n",
       "2            3            0           0     2  \n",
       "3            4            0           0     3  \n",
       "4            5            0           0     4  \n",
       "...        ...          ...         ...   ...  \n",
       "790210      31            1       20335    28  \n",
       "790211      32            1       20335    29  \n",
       "790212      33            1       20335    30  \n",
       "790213      34            1       20335    31  \n",
       "790214      35            1       20335    32  \n",
       "\n",
       "[790215 rows x 36 columns]"
      ]
     },
     "execution_count": 202,
     "metadata": {},
     "output_type": "execute_result"
    }
   ],
   "source": [
    "df"
   ]
  },
  {
   "cell_type": "code",
   "execution_count": 206,
   "metadata": {},
   "outputs": [
    {
     "data": {
      "text/plain": [
       "Index(['HR', 'O2Sat', 'Temp', 'SBP', 'MAP', 'DBP', 'Resp', 'BaseExcess',\n",
       "       'HCO3', 'FiO2', 'pH', 'PaCO2', 'SaO2', 'AST', 'BUN', 'Alkalinephos',\n",
       "       'Calcium', 'Chloride', 'Creatinine', 'Glucose', 'Magnesium',\n",
       "       'Potassium', 'Hct', 'Hgb', 'PTT', 'WBC', 'Platelets', 'Age', 'Gender',\n",
       "       'Unit1', 'Unit2', 'HospAdmTime', 'ICULOS', 'SepsisLabel', 'Patient_id',\n",
       "       'time'],\n",
       "      dtype='object')"
      ]
     },
     "execution_count": 206,
     "metadata": {},
     "output_type": "execute_result"
    }
   ],
   "source": [
    "df.columns"
   ]
  },
  {
   "cell_type": "code",
   "execution_count": 210,
   "metadata": {},
   "outputs": [],
   "source": [
    "pd.DataFrame(df).to_csv('sepsisclean.csv')"
   ]
  },
  {
   "cell_type": "markdown",
   "metadata": {},
   "source": [
    "# implementation of model"
   ]
  },
  {
   "cell_type": "code",
   "execution_count": 216,
   "metadata": {},
   "outputs": [],
   "source": [
    "from sklearn import datasets\n",
    "from sklearn.tree import DecisionTreeClassifier\n",
    "from sklearn.ensemble import RandomForestClassifier\n",
    "from sklearn.model_selection import train_test_split"
   ]
  },
  {
   "cell_type": "code",
   "execution_count": 214,
   "metadata": {},
   "outputs": [],
   "source": [
    "X = df[['HR', 'O2Sat', 'Temp', 'SBP', 'MAP', 'DBP', 'Resp', 'BaseExcess',\n",
    "       'HCO3', 'FiO2', 'pH', 'PaCO2', 'SaO2', 'AST', 'BUN', 'Alkalinephos',\n",
    "       'Calcium', 'Chloride', 'Creatinine', 'Glucose', 'Magnesium',\n",
    "       'Potassium', 'Hct', 'Hgb', 'PTT', 'WBC', 'Platelets', 'Age', 'Gender',\n",
    "       'Unit1', 'Unit2', 'HospAdmTime', 'ICULOS']]\n",
    "\n",
    "y = df['SepsisLabel']"
   ]
  },
  {
   "cell_type": "code",
   "execution_count": 215,
   "metadata": {},
   "outputs": [],
   "source": [
    "X_train, X_test, y_train, y_test = train_test_split(X, y,test_size=0.30)"
   ]
  },
  {
   "cell_type": "markdown",
   "metadata": {},
   "source": [
    "## randomforest"
   ]
  },
  {
   "cell_type": "code",
   "execution_count": 221,
   "metadata": {},
   "outputs": [
    {
     "name": "stderr",
     "output_type": "stream",
     "text": [
      "[Parallel(n_jobs=-1)]: Using backend ThreadingBackend with 4 concurrent workers.\n",
      "[Parallel(n_jobs=-1)]: Done  42 tasks      | elapsed:  2.1min\n",
      "[Parallel(n_jobs=-1)]: Done 100 out of 100 | elapsed:  4.8min finished\n",
      "[Parallel(n_jobs=4)]: Using backend ThreadingBackend with 4 concurrent workers.\n",
      "[Parallel(n_jobs=4)]: Done  42 tasks      | elapsed:    1.7s\n",
      "[Parallel(n_jobs=4)]: Done 100 out of 100 | elapsed:    3.9s finished\n"
     ]
    }
   ],
   "source": [
    "model = RandomForestClassifier(n_estimators=100,random_state=None,max_features = 'sqrt',n_jobs=-1, verbose = 1)\n",
    "model.fit(X_train,y_train)\n",
    "y_pred = model.predict(X_test)"
   ]
  },
  {
   "cell_type": "code",
   "execution_count": 222,
   "metadata": {},
   "outputs": [
    {
     "name": "stdout",
     "output_type": "stream",
     "text": [
      "[[231939      0]\n",
      " [  5125      1]]\n",
      "              precision    recall  f1-score   support\n",
      "\n",
      "           0       0.98      1.00      0.99    231939\n",
      "           1       1.00      0.00      0.00      5126\n",
      "\n",
      "    accuracy                           0.98    237065\n",
      "   macro avg       0.99      0.50      0.49    237065\n",
      "weighted avg       0.98      0.98      0.97    237065\n",
      "\n",
      "0.9783814565625462\n"
     ]
    }
   ],
   "source": [
    "from sklearn.metrics import classification_report, confusion_matrix, accuracy_score\n",
    "\n",
    "print(confusion_matrix(y_test,y_pred))\n",
    "print(classification_report(y_test,y_pred))\n",
    "print(accuracy_score(y_test, y_pred))\n"
   ]
  },
  {
   "cell_type": "markdown",
   "metadata": {},
   "source": [
    "## Create pickle file\n"
   ]
  },
  {
   "cell_type": "code",
   "execution_count": 224,
   "metadata": {},
   "outputs": [],
   "source": [
    "import pickle\n",
    "pickle.dump(model,open(\"sepsis_pred.pkl\",\"wb\"))"
   ]
  },
  {
   "cell_type": "code",
   "execution_count": 225,
   "metadata": {},
   "outputs": [
    {
     "data": {
      "image/png": "[encoded data removed]",
      "text/plain": [
       "<Figure size 864x648 with 2 Axes>"
      ]
     },
     "metadata": {
      "needs_background": "light"
     },
     "output_type": "display_data"
    }
   ],
   "source": [
    "# create heapmap using seaborn\n",
    "cm=confusion_matrix(y_test,y_pred)\n",
    "\n",
    "plt.figure(figsize=(12,9))\n",
    "\n",
    "sns.heatmap(cm)\n",
    "plt.ylabel('Actual label');\n",
    "plt.xlabel('Predict label');\n",
    "plt.show()"
   ]
  },
  {
   "cell_type": "code",
   "execution_count": 227,
   "metadata": {},
   "outputs": [
    {
     "data": {
      "text/html": [
       "<div>\n",
       "<style scoped>\n",
       "    .dataframe tbody tr th:only-of-type {\n",
       "        vertical-align: middle;\n",
       "    }\n",
       "\n",
       "    .dataframe tbody tr th {\n",
       "        vertical-align: top;\n",
       "    }\n",
       "\n",
       "    .dataframe thead th {\n",
       "        text-align: right;\n",
       "    }\n",
       "</style>\n",
       "<table border=\"1\" class=\"dataframe\">\n",
       "  <thead>\n",
       "    <tr style=\"text-align: right;\">\n",
       "      <th></th>\n",
       "      <th>HR</th>\n",
       "      <th>O2Sat</th>\n",
       "      <th>Temp</th>\n",
       "      <th>SBP</th>\n",
       "      <th>MAP</th>\n",
       "      <th>DBP</th>\n",
       "      <th>Resp</th>\n",
       "      <th>BaseExcess</th>\n",
       "      <th>HCO3</th>\n",
       "      <th>FiO2</th>\n",
       "      <th>...</th>\n",
       "      <th>Platelets</th>\n",
       "      <th>Age</th>\n",
       "      <th>Gender</th>\n",
       "      <th>Unit1</th>\n",
       "      <th>Unit2</th>\n",
       "      <th>HospAdmTime</th>\n",
       "      <th>ICULOS</th>\n",
       "      <th>SepsisLabel</th>\n",
       "      <th>Patient_id</th>\n",
       "      <th>time</th>\n",
       "    </tr>\n",
       "  </thead>\n",
       "  <tbody>\n",
       "    <tr>\n",
       "      <th>0</th>\n",
       "      <td>84.0</td>\n",
       "      <td>98.0</td>\n",
       "      <td>38.512</td>\n",
       "      <td>118.5</td>\n",
       "      <td>77.00</td>\n",
       "      <td>58.5</td>\n",
       "      <td>18.0</td>\n",
       "      <td>3.367</td>\n",
       "      <td>22.893</td>\n",
       "      <td>0.777</td>\n",
       "      <td>...</td>\n",
       "      <td>65.144</td>\n",
       "      <td>83.14</td>\n",
       "      <td>0</td>\n",
       "      <td>1.0</td>\n",
       "      <td>65.144</td>\n",
       "      <td>-0.03</td>\n",
       "      <td>1</td>\n",
       "      <td>0</td>\n",
       "      <td>0</td>\n",
       "      <td>0</td>\n",
       "    </tr>\n",
       "    <tr>\n",
       "      <th>1</th>\n",
       "      <td>97.0</td>\n",
       "      <td>95.0</td>\n",
       "      <td>36.964</td>\n",
       "      <td>98.0</td>\n",
       "      <td>75.33</td>\n",
       "      <td>58.5</td>\n",
       "      <td>19.0</td>\n",
       "      <td>5.614</td>\n",
       "      <td>19.332</td>\n",
       "      <td>0.706</td>\n",
       "      <td>...</td>\n",
       "      <td>245.993</td>\n",
       "      <td>83.14</td>\n",
       "      <td>0</td>\n",
       "      <td>1.0</td>\n",
       "      <td>245.993</td>\n",
       "      <td>-0.03</td>\n",
       "      <td>2</td>\n",
       "      <td>0</td>\n",
       "      <td>0</td>\n",
       "      <td>1</td>\n",
       "    </tr>\n",
       "    <tr>\n",
       "      <th>2</th>\n",
       "      <td>89.0</td>\n",
       "      <td>99.0</td>\n",
       "      <td>36.043</td>\n",
       "      <td>122.0</td>\n",
       "      <td>86.00</td>\n",
       "      <td>58.5</td>\n",
       "      <td>22.0</td>\n",
       "      <td>3.578</td>\n",
       "      <td>26.322</td>\n",
       "      <td>0.638</td>\n",
       "      <td>...</td>\n",
       "      <td>253.276</td>\n",
       "      <td>83.14</td>\n",
       "      <td>0</td>\n",
       "      <td>1.0</td>\n",
       "      <td>253.276</td>\n",
       "      <td>-0.03</td>\n",
       "      <td>3</td>\n",
       "      <td>0</td>\n",
       "      <td>0</td>\n",
       "      <td>2</td>\n",
       "    </tr>\n",
       "    <tr>\n",
       "      <th>3</th>\n",
       "      <td>90.0</td>\n",
       "      <td>95.0</td>\n",
       "      <td>37.146</td>\n",
       "      <td>118.5</td>\n",
       "      <td>77.00</td>\n",
       "      <td>58.5</td>\n",
       "      <td>30.0</td>\n",
       "      <td>24.000</td>\n",
       "      <td>27.734</td>\n",
       "      <td>0.611</td>\n",
       "      <td>...</td>\n",
       "      <td>145.436</td>\n",
       "      <td>83.14</td>\n",
       "      <td>0</td>\n",
       "      <td>1.0</td>\n",
       "      <td>145.436</td>\n",
       "      <td>-0.03</td>\n",
       "      <td>4</td>\n",
       "      <td>0</td>\n",
       "      <td>0</td>\n",
       "      <td>3</td>\n",
       "    </tr>\n",
       "    <tr>\n",
       "      <th>4</th>\n",
       "      <td>103.0</td>\n",
       "      <td>88.5</td>\n",
       "      <td>37.512</td>\n",
       "      <td>122.0</td>\n",
       "      <td>91.33</td>\n",
       "      <td>58.5</td>\n",
       "      <td>24.5</td>\n",
       "      <td>2.259</td>\n",
       "      <td>21.844</td>\n",
       "      <td>0.280</td>\n",
       "      <td>...</td>\n",
       "      <td>-1.279</td>\n",
       "      <td>83.14</td>\n",
       "      <td>0</td>\n",
       "      <td>1.0</td>\n",
       "      <td>-1.279</td>\n",
       "      <td>-0.03</td>\n",
       "      <td>5</td>\n",
       "      <td>0</td>\n",
       "      <td>0</td>\n",
       "      <td>4</td>\n",
       "    </tr>\n",
       "    <tr>\n",
       "      <th>...</th>\n",
       "      <td>...</td>\n",
       "      <td>...</td>\n",
       "      <td>...</td>\n",
       "      <td>...</td>\n",
       "      <td>...</td>\n",
       "      <td>...</td>\n",
       "      <td>...</td>\n",
       "      <td>...</td>\n",
       "      <td>...</td>\n",
       "      <td>...</td>\n",
       "      <td>...</td>\n",
       "      <td>...</td>\n",
       "      <td>...</td>\n",
       "      <td>...</td>\n",
       "      <td>...</td>\n",
       "      <td>...</td>\n",
       "      <td>...</td>\n",
       "      <td>...</td>\n",
       "      <td>...</td>\n",
       "      <td>...</td>\n",
       "      <td>...</td>\n",
       "    </tr>\n",
       "    <tr>\n",
       "      <th>790210</th>\n",
       "      <td>88.0</td>\n",
       "      <td>98.0</td>\n",
       "      <td>38.001</td>\n",
       "      <td>135.0</td>\n",
       "      <td>81.00</td>\n",
       "      <td>64.0</td>\n",
       "      <td>16.0</td>\n",
       "      <td>-3.367</td>\n",
       "      <td>24.371</td>\n",
       "      <td>0.500</td>\n",
       "      <td>...</td>\n",
       "      <td>334.589</td>\n",
       "      <td>62.29</td>\n",
       "      <td>1</td>\n",
       "      <td>1.0</td>\n",
       "      <td>334.589</td>\n",
       "      <td>-0.03</td>\n",
       "      <td>31</td>\n",
       "      <td>1</td>\n",
       "      <td>20335</td>\n",
       "      <td>28</td>\n",
       "    </tr>\n",
       "    <tr>\n",
       "      <th>790211</th>\n",
       "      <td>96.0</td>\n",
       "      <td>98.0</td>\n",
       "      <td>38.720</td>\n",
       "      <td>174.0</td>\n",
       "      <td>97.00</td>\n",
       "      <td>72.0</td>\n",
       "      <td>16.0</td>\n",
       "      <td>2.000</td>\n",
       "      <td>19.302</td>\n",
       "      <td>0.829</td>\n",
       "      <td>...</td>\n",
       "      <td>298.018</td>\n",
       "      <td>62.29</td>\n",
       "      <td>1</td>\n",
       "      <td>1.0</td>\n",
       "      <td>298.018</td>\n",
       "      <td>-0.03</td>\n",
       "      <td>32</td>\n",
       "      <td>1</td>\n",
       "      <td>20335</td>\n",
       "      <td>29</td>\n",
       "    </tr>\n",
       "    <tr>\n",
       "      <th>790212</th>\n",
       "      <td>140.0</td>\n",
       "      <td>97.0</td>\n",
       "      <td>37.271</td>\n",
       "      <td>133.0</td>\n",
       "      <td>81.50</td>\n",
       "      <td>62.5</td>\n",
       "      <td>16.0</td>\n",
       "      <td>-2.750</td>\n",
       "      <td>16.162</td>\n",
       "      <td>0.208</td>\n",
       "      <td>...</td>\n",
       "      <td>342.159</td>\n",
       "      <td>62.29</td>\n",
       "      <td>1</td>\n",
       "      <td>1.0</td>\n",
       "      <td>342.159</td>\n",
       "      <td>-0.03</td>\n",
       "      <td>33</td>\n",
       "      <td>1</td>\n",
       "      <td>20335</td>\n",
       "      <td>30</td>\n",
       "    </tr>\n",
       "    <tr>\n",
       "      <th>790213</th>\n",
       "      <td>120.0</td>\n",
       "      <td>96.0</td>\n",
       "      <td>38.147</td>\n",
       "      <td>154.0</td>\n",
       "      <td>118.00</td>\n",
       "      <td>105.0</td>\n",
       "      <td>16.0</td>\n",
       "      <td>-0.605</td>\n",
       "      <td>23.711</td>\n",
       "      <td>0.357</td>\n",
       "      <td>...</td>\n",
       "      <td>169.042</td>\n",
       "      <td>62.29</td>\n",
       "      <td>1</td>\n",
       "      <td>1.0</td>\n",
       "      <td>169.042</td>\n",
       "      <td>-0.03</td>\n",
       "      <td>34</td>\n",
       "      <td>1</td>\n",
       "      <td>20335</td>\n",
       "      <td>31</td>\n",
       "    </tr>\n",
       "    <tr>\n",
       "      <th>790214</th>\n",
       "      <td>115.0</td>\n",
       "      <td>95.0</td>\n",
       "      <td>37.116</td>\n",
       "      <td>150.0</td>\n",
       "      <td>117.00</td>\n",
       "      <td>104.0</td>\n",
       "      <td>16.0</td>\n",
       "      <td>0.607</td>\n",
       "      <td>25.115</td>\n",
       "      <td>0.612</td>\n",
       "      <td>...</td>\n",
       "      <td>202.946</td>\n",
       "      <td>62.29</td>\n",
       "      <td>1</td>\n",
       "      <td>1.0</td>\n",
       "      <td>202.946</td>\n",
       "      <td>-0.03</td>\n",
       "      <td>35</td>\n",
       "      <td>1</td>\n",
       "      <td>20335</td>\n",
       "      <td>32</td>\n",
       "    </tr>\n",
       "  </tbody>\n",
       "</table>\n",
       "<p>790215 rows × 36 columns</p>\n",
       "</div>"
      ],
      "text/plain": [
       "           HR  O2Sat    Temp    SBP     MAP    DBP  Resp  BaseExcess    HCO3  \\\n",
       "0        84.0   98.0  38.512  118.5   77.00   58.5  18.0       3.367  22.893   \n",
       "1        97.0   95.0  36.964   98.0   75.33   58.5  19.0       5.614  19.332   \n",
       "2        89.0   99.0  36.043  122.0   86.00   58.5  22.0       3.578  26.322   \n",
       "3        90.0   95.0  37.146  118.5   77.00   58.5  30.0      24.000  27.734   \n",
       "4       103.0   88.5  37.512  122.0   91.33   58.5  24.5       2.259  21.844   \n",
       "...       ...    ...     ...    ...     ...    ...   ...         ...     ...   \n",
       "790210   88.0   98.0  38.001  135.0   81.00   64.0  16.0      -3.367  24.371   \n",
       "790211   96.0   98.0  38.720  174.0   97.00   72.0  16.0       2.000  19.302   \n",
       "790212  140.0   97.0  37.271  133.0   81.50   62.5  16.0      -2.750  16.162   \n",
       "790213  120.0   96.0  38.147  154.0  118.00  105.0  16.0      -0.605  23.711   \n",
       "790214  115.0   95.0  37.116  150.0  117.00  104.0  16.0       0.607  25.115   \n",
       "\n",
       "         FiO2  ...  Platelets    Age  Gender  Unit1    Unit2  HospAdmTime  \\\n",
       "0       0.777  ...     65.144  83.14       0    1.0   65.144        -0.03   \n",
       "1       0.706  ...    245.993  83.14       0    1.0  245.993        -0.03   \n",
       "2       0.638  ...    253.276  83.14       0    1.0  253.276        -0.03   \n",
       "3       0.611  ...    145.436  83.14       0    1.0  145.436        -0.03   \n",
       "4       0.280  ...     -1.279  83.14       0    1.0   -1.279        -0.03   \n",
       "...       ...  ...        ...    ...     ...    ...      ...          ...   \n",
       "790210  0.500  ...    334.589  62.29       1    1.0  334.589        -0.03   \n",
       "790211  0.829  ...    298.018  62.29       1    1.0  298.018        -0.03   \n",
       "790212  0.208  ...    342.159  62.29       1    1.0  342.159        -0.03   \n",
       "790213  0.357  ...    169.042  62.29       1    1.0  169.042        -0.03   \n",
       "790214  0.612  ...    202.946  62.29       1    1.0  202.946        -0.03   \n",
       "\n",
       "        ICULOS  SepsisLabel  Patient_id  time  \n",
       "0            1            0           0     0  \n",
       "1            2            0           0     1  \n",
       "2            3            0           0     2  \n",
       "3            4            0           0     3  \n",
       "4            5            0           0     4  \n",
       "...        ...          ...         ...   ...  \n",
       "790210      31            1       20335    28  \n",
       "790211      32            1       20335    29  \n",
       "790212      33            1       20335    30  \n",
       "790213      34            1       20335    31  \n",
       "790214      35            1       20335    32  \n",
       "\n",
       "[790215 rows x 36 columns]"
      ]
     },
     "execution_count": 227,
     "metadata": {},
     "output_type": "execute_result"
    }
   ],
   "source": [
    "df"
   ]
  },
  {
   "cell_type": "code",
   "execution_count": 230,
   "metadata": {},
   "outputs": [
    {
     "data": {
      "text/plain": [
       "7741"
      ]
     },
     "execution_count": 230,
     "metadata": {},
     "output_type": "execute_result"
    }
   ],
   "source": [
    "305+100+75+32+50+45+140+55+20+34+110+220+400+30+90+40+100+400+100+60+200+50+170+30+65+150+35+38+182+10+30+45+60+2000+200+20+1350+500+200"
   ]
  },
  {
   "cell_type": "code",
   "execution_count": null,
   "metadata": {},
   "outputs": [],
   "source": []
  }
 ],
 "metadata": {
  "kernelspec": {
   "display_name": "Python 3",
   "language": "python",
   "name": "python3"
  },
  "language_info": {
   "codemirror_mode": {
    "name": "ipython",
    "version": 3
   },
   "file_extension": ".py",
   "mimetype": "text/x-python",
   "name": "python",
   "nbconvert_exporter": "python",
   "pygments_lexer": "ipython3",
   "version": "3.6.10"
  }
 },
 "nbformat": 4,
 "nbformat_minor": 2
}
